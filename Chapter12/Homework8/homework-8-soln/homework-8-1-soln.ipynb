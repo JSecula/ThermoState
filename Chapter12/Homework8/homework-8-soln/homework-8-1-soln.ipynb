{
 "cells": [
  {
   "cell_type": "markdown",
   "metadata": {},
   "source": [
    "# Homework 8-1\n",
    "\n",
    "---\n",
    "\n",
    "## Imports"
   ]
  },
  {
   "cell_type": "code",
   "execution_count": 1,
   "metadata": {
    "collapsed": true
   },
   "outputs": [],
   "source": [
    "from thermostate import State, Q_, units, SystemInternational as SI"
   ]
  },
  {
   "cell_type": "markdown",
   "metadata": {},
   "source": [
    "---\n",
    "\n",
    "## Definitions"
   ]
  },
  {
   "cell_type": "code",
   "execution_count": 2,
   "metadata": {
    "collapsed": true
   },
   "outputs": [],
   "source": [
    "sub_v = 'water'\n",
    "sub_a = 'air'\n",
    "\n",
    "T_1 = Q_(15.0, 'degC')\n",
    "p_1 = Q_(1.3, 'atm')\n",
    "phi_1 = Q_(0.63, 'dimensionless')\n",
    "Vdot_1 = Q_(773.0, 'm**3/hr')\n",
    "\n",
    "T_w = Q_(15.0, 'degC')\n",
    "mdot_w = Q_(7.0, 'kg/hr')\n",
    "\n",
    "T_3 = Q_(45.0, 'degC')\n",
    "p_3 = Q_(1.3, 'atm')"
   ]
  },
  {
   "cell_type": "markdown",
   "metadata": {},
   "source": [
    "---\n",
    "\n",
    "## Problem Statement"
   ]
  },
  {
   "cell_type": "markdown",
   "metadata": {
    "variables": {
     "format(T_1)": "15.0 celsius",
     "format(T_3)": "45.0 celsius",
     "format(T_w)": "15.0 celsius",
     "format(Vdot_1)": "773.0 m<sup>3</sup>/hr",
     "format(mdot_w)": "7.0 kg/hr",
     "format(p_1)": "1.3 atm",
     "format(p_3)": "1.3 atm",
     "format(phi_1, round_2p)": "63.00% "
    }
   },
   "source": [
    "Moist air at 15.0 celsius, 1.3 atm, 63.00%  relative humidity and a volumetric flow rate of 773.0 m<sup>3</sup>/hr enters a control volume and flows along a high-temperature surface such that energy is transferred by heat to the moist air. A separate stream of liquid water at 15.0 celsius is injected at a rate of 7.0 kg/hr and evaporates completely in the air stream. The stream exits the control volume at 45.0 celsius, 1.3 atm. Determine the rate of heat transfer into the flowing stream, in kW."
   ]
  },
  {
   "cell_type": "markdown",
   "metadata": {},
   "source": [
    "---\n",
    "\n",
    "## Solution"
   ]
  },
  {
   "cell_type": "markdown",
   "metadata": {},
   "source": [
    "To find the rate of heat transfer input to the flowing stream, we need to write the energy balance for a control volume that contains the two inlets and one outlet. The mass rate balances for the components show that the mass flow rate of air is equal at the inlet and outlet, while the mass flow rate of water at the outlet is the sum of the mass flow rate of the vapor at the inlet and the mass flow rate of the liquid water. Therefore, the energy balance works out to\n",
    "$$0 = \\dot{Q}_{cv} + \\dot{m}_a h_{a1} + \\dot{m}_{v1} h_{v1} + \\dot{m}_{w} h_{w} - \\dot{m}_a h_{a3} - \\dot{m}_{v3} h_{v3}$$\n",
    "\n",
    "To solve this equation for the rate of heat transfer, we need to find the enthalpies of air at the inlet and outlet, the enthalpies of the water vapor at the inlet and outlet, and the enthalpy of the liquid water. For the mass flow rates, we can re-arrange in the following way\n",
    "$$\\dot{m}_{w} = \\dot{m}_{v3} - \\dot{m}_{v1}$$\n",
    "\n",
    "Then, dividing through by $\\dot{m}_a$,\n",
    "$$\\frac{\\dot{m}_{w}}{\\dot{m}_a} = \\omega_3 - \\omega_1$$\n",
    "where\n",
    "$$\\frac{\\dot{m}_{v3}}{\\dot{m}_a} = \\omega_3$$\n",
    "and\n",
    "$$\\frac{\\dot{m}_{v1}}{\\dot{m}_a} = \\omega_1$$\n",
    "\n",
    "Plugging back into the energy equation, we find that\n",
    "$$\\dot{Q}_{cv} = \\dot{m}_a \\left[h_{a3} - h_{a1} + \\omega_3 h_{v3} - \\omega_1 h_{v1} + (\\omega_1 - \\omega_3)h_{w}\\right]$$\n",
    "\n",
    "First, we will solve for the value of $\\omega_1$, then $\\dot{m}_a$ and $\\omega_3$, then we will fix all the states to get the enthalpies, and then we can find the rate of heat transfer.\n",
    "\n",
    "To find $\\omega_1$, we need the partial pressure of the water vapor at the inlet. This can be found from the given temperature and relative humidity,\n",
    "$$p_{v1} = \\phi_1 p_{g1}$$"
   ]
  },
  {
   "cell_type": "code",
   "execution_count": 3,
   "metadata": {
    "collapsed": true
   },
   "outputs": [],
   "source": [
    "st_g1 = State(sub_v, T=T_1, x=Q_(1.0, 'dimensionless'))\n",
    "p_g1 = st_g1.p.to(SI.p)\n",
    "\n",
    "p_v1 = phi_1*p_g1"
   ]
  },
  {
   "cell_type": "markdown",
   "metadata": {
    "variables": {
     "format(p_g1, round_3g)": "0.0171 bar",
     "format(p_v1, round_3g)": "0.0107 bar"
    }
   },
   "source": [
    "The saturation pressure at the inlet is $p_{g1} =$ 0.0171 bar, while the partial pressure at the inlet is $p_{v1} =$ 0.0107 bar. To find $\\omega_3$, we need the mass flow rate of air, which can be found by dividing the volumetric flow rate by the specific volume of the air, found by the ideal gas law."
   ]
  },
  {
   "cell_type": "code",
   "execution_count": 4,
   "metadata": {
    "collapsed": true
   },
   "outputs": [],
   "source": [
    "MW_a = Q_(28.97, 'kg/kmol')\n",
    "p_a1 = p_1 - p_v1\n",
    "v_a1 = ((units.molar_gas_constant/MW_a)*T_1/p_a1).to('m**3/kg')\n",
    "mdot_a = Vdot_1/v_a1"
   ]
  },
  {
   "cell_type": "markdown",
   "metadata": {
    "variables": {
     "format(mdot_a, round_2f)": "1221.17 kg/hr",
     "format(p_a1, round_2f)": "1.29 atm",
     "format(v_a1, round_2f)": "0.63 m<sup>3</sup>/kg"
    }
   },
   "source": [
    "The partial pressure of the air is $p_{a1} =$ 1.29 atm, the specific volume is $v_{a1} =$ 0.63 m<sup>3</sup>/kg, and the mass flow rate of air is $\\dot{m}_a =$ 1221.17 kg/hr. Next, the humidity ratio of the mixture at the outlet can be found by rearranging\n",
    "$$\\omega_3 = \\frac{\\dot{m}_{w}}{\\dot{m}_a} + \\omega_1$$\n",
    "and\n",
    "$$\\omega_1 = 0.622 \\frac{p_{v1}}{p_1 - p_{v1}}$$"
   ]
  },
  {
   "cell_type": "code",
   "execution_count": 5,
   "metadata": {
    "collapsed": true
   },
   "outputs": [],
   "source": [
    "MW_v = Q_(18.02, 'kg/kmol')\n",
    "omega_1 = MW_v/MW_a*p_v1/(p_1 - p_v1)\n",
    "omega_3 = omega_1 + (mdot_w/mdot_a).to('dimensionless')"
   ]
  },
  {
   "cell_type": "markdown",
   "metadata": {
    "variables": {
     "format(omega_1, round_3g)": "0.00518 ",
     "format(omega_3, round_3g)": "0.011 "
    }
   },
   "source": [
    "The value for $\\omega_1 =$ 0.00518  and $\\omega_3 =$ 0.011 . We can double check that all the liquid water has evaporated by finding the relative humidity at the outlet and ensuring it is less than 100%. We need the saturation pressure at $T_3$, and $p_{v3}$ from $\\omega_3$.\n",
    "$$p_{v3} = \\frac{\\omega_3 p_3}{0.622 + \\omega_3}$$"
   ]
  },
  {
   "cell_type": "code",
   "execution_count": 6,
   "metadata": {
    "collapsed": true
   },
   "outputs": [],
   "source": [
    "p_v3 = (omega_3*p_3/(MW_v/MW_a + omega_3)).to(SI.p)\n",
    "\n",
    "st_g3 = State(sub_v, T=T_3, x=Q_(1.0, 'dimensionless'))\n",
    "p_g3 = st_g3.p.to(SI.p)\n",
    "\n",
    "phi_3 = p_v3/p_g3"
   ]
  },
  {
   "cell_type": "markdown",
   "metadata": {
    "variables": {
     "format(phi_3, round_2f)": "0.24 ",
     "format(phi_3, round_2p)": "23.53% "
    }
   },
   "source": [
    "The relative humidity at the outlet is $\\phi_3 =$ 0.24  = 23.53% , validating our assumption that everything is vaporized at the outlet. Now the enthalpies are evaluated. We fix the states at each condition, assuming that the values for liquid water can be given by the saturated liquid values."
   ]
  },
  {
   "cell_type": "code",
   "execution_count": 7,
   "metadata": {
    "collapsed": true
   },
   "outputs": [],
   "source": [
    "st_a1 = State(sub_a, T=T_1, p=p_a1)\n",
    "h_a1 = st_a1.h.to(SI.h)\n",
    "\n",
    "st_v1 = State(sub_v, T=T_1, p=p_v1)\n",
    "h_v1 = st_v1.h.to(SI.h)\n",
    "\n",
    "st_a3 = State(sub_a, T=T_3, p=(p_3 - p_v3))\n",
    "h_a3 = st_a3.h.to(SI.h)\n",
    "\n",
    "st_v3 = State(sub_v, T=T_3, p=p_v3)\n",
    "h_v3 = st_v3.h.to(SI.h)\n",
    "\n",
    "st_w = State(sub_v, T=T_w, x=Q_(0.0, 'dimensionless'))\n",
    "h_w = st_w.h.to(SI.h)"
   ]
  },
  {
   "cell_type": "markdown",
   "metadata": {
    "variables": {
     "format(h_a1, round_2f)": "414.30 kJ/kg",
     "format(h_a3, round_2f)": "444.51 kJ/kg",
     "format(h_v1, round_2f)": "2528.75 kJ/kg",
     "format(h_v3, round_2f)": "2584.67 kJ/kg",
     "format(h_w, round_2f)": "62.98 kJ/kg"
    }
   },
   "source": [
    "Summarizing the states,\n",
    "\n",
    "| State |           $h_a$            |           $h_v$            |           $h_w$           |\n",
    "|-------|----------------------------|----------------------------|---------------------------|\n",
    "| 1     | 414.30 kJ/kg | 2528.75 kJ/kg | ---                       |\n",
    "| w     | ---                        | ---                        | 62.98 kJ/kg |\n",
    "| 3     | 444.51 kJ/kg | 2584.67 kJ/kg | ---                       |\n",
    "\n",
    "Then, the heat transfer rate can be calculated"
   ]
  },
  {
   "cell_type": "code",
   "execution_count": 8,
   "metadata": {
    "collapsed": true
   },
   "outputs": [],
   "source": [
    "Qdot_cv = (mdot_a*(h_a3 - h_a1 + omega_3*h_v3 - omega_1*h_v1 + (omega_1 - omega_3)*h_w)).to('kW')"
   ]
  },
  {
   "cell_type": "markdown",
   "metadata": {
    "variables": {
     "format(Qdot_cv, round_2f)": "15.25 kW"
    }
   },
   "source": [
    "<div class=\"alert alert-success\">\n",
    "\n",
    "**Answer:** The rate of heat transfer is $\\dot{Q}_{cv} =$ 15.25 kW\n",
    "\n",
    "</div>"
   ]
  }
 ],
 "metadata": {
  "anaconda-cloud": {},
  "kernelspec": {
   "display_name": "Python [default]",
   "language": "python",
   "name": "python3"
  },
  "language_info": {
   "codemirror_mode": {
    "name": "ipython",
    "version": 3
   },
   "file_extension": ".py",
   "mimetype": "text/x-python",
   "name": "python",
   "nbconvert_exporter": "python",
   "pygments_lexer": "ipython3",
   "version": "3.6.1"
  }
 },
 "nbformat": 4,
 "nbformat_minor": 2
}
