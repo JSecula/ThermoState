{
 "cells": [
  {
   "cell_type": "markdown",
   "metadata": {},
   "source": [
    "# Homework 8-2\n",
    "\n",
    "---\n",
    "\n",
    "## Imports"
   ]
  },
  {
   "cell_type": "code",
   "execution_count": 10,
   "metadata": {
    "collapsed": true
   },
   "outputs": [],
   "source": [
    "from thermostate import State, Q_, units, SystemInternational as SI"
   ]
  },
  {
   "cell_type": "markdown",
   "metadata": {},
   "source": [
    "---\n",
    "\n",
    "## Definitions"
   ]
  },
  {
   "cell_type": "code",
   "execution_count": 11,
   "metadata": {
    "collapsed": true
   },
   "outputs": [],
   "source": [
    "sub_v = 'water'\n",
    "sub_a = 'air'\n",
    "\n",
    "T_1 = Q_(28.0, 'degC')\n",
    "p_1 = Q_(1.0, 'bar')\n",
    "phi_1 = Q_(0.7, 'dimensionless')\n",
    "\n",
    "Qdot_out = Q_(11.0, 'refrigeration_tons')\n",
    "\n",
    "phi_2 = Q_(1.0, 'dimensionless')\n",
    "\n",
    "T_3 = Q_(24.0, 'degC')\n",
    "p_3 = Q_(1.0, 'bar')\n",
    "phi_3 = Q_(0.4, 'dimensionless')"
   ]
  },
  {
   "cell_type": "markdown",
   "metadata": {},
   "source": [
    "---\n",
    "\n",
    "## Problem Statement"
   ]
  },
  {
   "cell_type": "markdown",
   "metadata": {
    "variables": {
     "format(Qdot_out)": "11.0 ton_of_refrigeration",
     "format(T_1)": "28.0 celsius",
     "format(T_3)": "24.0 celsius",
     "format(p_1)": "1.0 bar",
     "format(p_3)": "1.0 bar",
     "format(phi_1, round_2p)": "70.00% ",
     "format(phi_3, round_2p)": "40.00% "
    }
   },
   "source": [
    "An air conditioner operating at steady state takes in moist air at 28.0 celsius, 1.0 bar, and 70.00%  relative humidity. The moist air first passes over a cooling coil in the dehumidifier unit and some water vapor is condensed. The rate of heat transfer between the moist air and the cooling coil is 11.0 ton_of_refrigeration. Saturated moist air and condensate streams exit the dehumidifier at the same temperature. The condensed water is discarded, while the remiaining moist air is directed to the heating unit where it is heated to 24.0 celsius, 1.0 bar and 40.00%  relative humidity. Neglecting kinetic and potential energy effects, determine\n",
    "\n",
    "1. the temperature of the moist air and condensate exiting the dehumidifier, in degC\n",
    "2. the volumetric flow rate of the air entering the air conditioner at state 1, in m3/min\n",
    "3. the rate water is condensed and removed from the dehumidifier, in kg/min\n",
    "4. the rate of heat transfer to the air passing through the heating unit, in kW"
   ]
  },
  {
   "cell_type": "markdown",
   "metadata": {},
   "source": [
    "![moran_8e_fig_12_11.jpg](attachment:moran_8e_fig_12_11.jpg)"
   ]
  },
  {
   "cell_type": "markdown",
   "metadata": {},
   "source": [
    "---\n",
    "\n",
    "## Solution"
   ]
  },
  {
   "cell_type": "markdown",
   "metadata": {},
   "source": [
    "### 1. the temperature of the moist air and condensate at 2"
   ]
  },
  {
   "cell_type": "markdown",
   "metadata": {},
   "source": [
    "To find the outlet temperature of the dehumidifier section, we can draw a control volume around just that section of the device. The process from 1 to 2 is a variable composition cooling process, so we need to account for that in the mass balance for the water and in the energy rate balance. We will also need a control volume around the heating section of the device. The process from 2 to 3 is a constant composition heating process. Therefore, $\\omega_2 = \\omega_3$, and since the total pressure is constant, $p_{v2} = p_{v3}$. We further know that the mixture is saturated at state 2 ($\\phi_2 =$ 100%), such that $p_{v2} = p_{g}(T_2)$. Therefore, we can find the saturation state where $p_{g}$ and $x$ are the independent variables."
   ]
  },
  {
   "cell_type": "code",
   "execution_count": 12,
   "metadata": {
    "collapsed": true
   },
   "outputs": [],
   "source": [
    "st_g3 = State(sub_v, T=T_3, x=Q_(1.0, 'dimensionless'))\n",
    "p_g3 = st_g3.p.to(SI.p) \n",
    "\n",
    "p_v3 = phi_3*p_g3\n",
    "\n",
    "p_v2 = p_v3\n",
    "st_v2 = State(sub_v, p=p_v2, x=Q_(1.0, 'dimensionless'))\n",
    "T_2 = st_v2.T.to(SI.T)"
   ]
  },
  {
   "cell_type": "markdown",
   "metadata": {
    "variables": {
     "format(T_2, round_2f)": "9.58 celsius",
     "format(p_g3, round_3g)": "0.0299 bar",
     "format(p_v2, round_3g)": "0.0119 bar"
    }
   },
   "source": [
    "The saturation pressure at state 3 is $p_{g3} =$ 0.0299 bar, and the actual partial pressure of water vapor is $p_{v3} = p_{v2} =$ 0.0119 bar\n",
    "\n",
    "<div class=\"alert alert-success\">\n",
    "\n",
    "**Answer:** The temperature of the air exiting the dehumidifier is $T_2 =$ 9.58 celsius.\n",
    "\n",
    "</div>"
   ]
  },
  {
   "cell_type": "markdown",
   "metadata": {},
   "source": [
    "### 2. the volumetric flow rate of the air entering the inlet"
   ]
  },
  {
   "cell_type": "markdown",
   "metadata": {},
   "source": [
    "To find the volumetric flow rate of the moist air, we can find the mass flow rate of the dry air and multiply by the specific volume of the dry air to get the volumetric flow rate. The mass flow rate of air is found by an energy balance around the dehumidifier, since we know the heat transfer rate. We can use the relative humidity at the inlet to find the partial pressure of water vapor there, and then the humidity ratio. The humidity ratio at the oulet (state 2) is found by the previously found partial pressure of water vapor."
   ]
  },
  {
   "cell_type": "code",
   "execution_count": 13,
   "metadata": {
    "collapsed": true
   },
   "outputs": [],
   "source": [
    "MW_v = Q_(18.02, 'kg/kmol')\n",
    "MW_a = Q_(28.97, 'kg/kmol')\n",
    "p_2 = p_1\n",
    "omega_3 = omega_2 = (MW_v/MW_a*p_v2/(p_2 - p_v2)).to('dimensionless')\n",
    "\n",
    "st_g1 = State(sub_v, T=T_1, x=Q_(1.0, 'dimensionless'))\n",
    "p_g1 = st_g1.p.to(SI.p)\n",
    "p_v1 = phi_1*p_g1\n",
    "omega_1 = (MW_v/MW_a*p_v1/(p_1 - p_v1)).to('dimensionless')"
   ]
  },
  {
   "cell_type": "markdown",
   "metadata": {
    "variables": {
     "format(omega_1, round_3g)": "0.0169 ",
     "format(omega_3, round_3g)": "0.00752 ",
     "format(p_g1, round_3g)": "0.0378 bar",
     "format(p_v1, round_3g)": "0.0265 bar"
    }
   },
   "source": [
    "The saturation pressure at the inlet is $p_{g1} =$ 0.0378 bar, the partial pressure of water vapor there is $p_{v1} =$ 0.0265 bar, and the inlet humidity ratio is $\\omega_1 =$ 0.0169 . The outlet humidity ratio is $\\omega_3 =$ 0.00752 .\n",
    "\n",
    "Now, the energy balance for the condenser is as follows\n",
    "$$0 = \\dot{Q}_{cv} + \\dot{m}_a \\left(h_{a1} - h_{a2}\\right) + \\dot{m}_{v1} h_{v1} - \\dot{m}_{v2} h_{v2} - \\dot{m}_{liq} h_{liq}$$\n",
    "\n",
    "The mass rate balance for the water in the dehumidifier reads\n",
    "$$\\dot{m}_{liq} = \\dot{m}_{v1} - \\dot{m}_{v2}$$\n",
    "and dividing through by the mass flow rate of the air\n",
    "$$\\frac{\\dot{m}_{liq}}{\\dot{m}_a} = \\omega_1 - \\omega_2$$\n",
    "\n",
    "The overall energy balance can then be simplified to\n",
    "$$\\dot{m}_a = \\frac{\\dot{Q}_{cv}}{h_{a2} - h_{a1} + \\omega_2 h_{v2} - \\omega_1 h_{v1} - \\left(\\omega_2 - \\omega_1\\right) h_{liq}}$$\n",
    "\n",
    "The enthalpies for the air are calculated using the partial pressure of the air and the temperature, while the enthalpies of the water vapor are found by (1) the partial pressure of the vapor and the temperature and (2) the saturated condition at the partial pressure of water vapor for the vapor and liquid."
   ]
  },
  {
   "cell_type": "code",
   "execution_count": 15,
   "metadata": {
    "collapsed": false
   },
   "outputs": [],
   "source": [
    "p_a1 = p_1 - p_v1\n",
    "st_a1 = State(sub_a, T=T_1, p=p_a1)\n",
    "h_a1 = st_a1.h.to(SI.h)\n",
    "\n",
    "p_a2 = p_2 - p_v2\n",
    "st_a2 = State(sub_a, T=T_2, p=p_a2)\n",
    "h_a2 = st_a2.h.to(SI.h)\n",
    "\n",
    "st_v1 = State(sub_v, p=p_v1, T=T_1)\n",
    "h_v1 = st_v1.h.to(SI.h)\n",
    "\n",
    "# Use the previously defined st_v2\n",
    "h_v2 = st_v2.h.to(SI.h)\n",
    "\n",
    "st_liq = State(sub_v, p=p_v2, x=Q_(0.0, 'dimensionless'))\n",
    "h_liq = st_liq.h.to(SI.h)\n",
    "\n",
    "mdot_a = (-Qdot_out/(h_a2 - h_a1 + omega_2*h_v2 - omega_1*h_v1 + (omega_1 - omega_2)*h_liq)).to('kg/min')\n",
    "\n",
    "v_a1 = st_a1.v.to(SI.v)\n",
    "Vdot_1 = mdot_a*v_a1\n",
    "\n",
    "p_a3 = p_3 - p_v3\n",
    "st_a3 = State(sub_a, T=T_3, p=p_a3)\n",
    "h_a3 = st_a3.h.to(SI.h)\n",
    "\n",
    "st_v3 = State(sub_v, T=T_3, p=p_v3)\n",
    "h_v3 = st_v3.h.to(SI.h)"
   ]
  },
  {
   "cell_type": "markdown",
   "metadata": {
    "variables": {
     "format(Vdot_1, round_2f)": "48.59 m<sup>3</sup>/min",
     "format(h_a1, round_2f)": "427.46 kJ/kg",
     "format(h_a2, round_2f)": "408.93 kJ/kg",
     "format(h_a3, round_2f)": "423.44 kJ/kg",
     "format(h_liq, round_2f)": "40.27 kJ/kg",
     "format(h_v1, round_2f)": "2552.46 kJ/kg",
     "format(h_v2, round_2f)": "2518.45 kJ/kg",
     "format(h_v3, round_2f)": "2545.58 kJ/kg",
     "format(mdot_a, round_2f)": "54.74 kg/min",
     "format(v_a1, round_3g)": "0.888 m<sup>3</sup>/kg"
    }
   },
   "source": [
    "Summarizing the states,\n",
    "\n",
    "| State |           $h_a$            |           $h_v$            |          $h_{liq}$          |\n",
    "|-------|----------------------------|----------------------------|-----------------------------|\n",
    "|     1 | 427.46 kJ/kg | 2552.46 kJ/kg | ---                         |\n",
    "|     2 | 408.93 kJ/kg | 2518.45 kJ/kg | 40.27 kJ/kg |\n",
    "|     3 | 423.44 kJ/kg | 2545.58 kJ/kg | ---                         |\n",
    "\n",
    "<div class=\"alert alert-success\">\n",
    "**Answer:** The mass flow rate of the air is $\\dot{m}_a =$ 54.74 kg/min, the specific volume is $v_{a1} =$ 0.888 m<sup>3</sup>/kg, and the volumetric flow rate is $\\dot{V}_1 =$ 48.59 m<sup>3</sup>/min\n",
    "</div>"
   ]
  },
  {
   "cell_type": "markdown",
   "metadata": {},
   "source": [
    "### 3. the mass flow rate of condensate"
   ]
  },
  {
   "cell_type": "markdown",
   "metadata": {},
   "source": [
    "From the equations derived in the last part,"
   ]
  },
  {
   "cell_type": "code",
   "execution_count": 6,
   "metadata": {
    "collapsed": true
   },
   "outputs": [],
   "source": [
    "mdot_liq = mdot_a*(omega_1 - omega_2)"
   ]
  },
  {
   "cell_type": "markdown",
   "metadata": {
    "variables": {
     "format(mdot_liq, round_2f)": "0.51 kg/min"
    }
   },
   "source": [
    "<div class=\"alert alert-success\">\n",
    "\n",
    "**Answer:** The mass flow rate of the condensate is $\\dot{m}_{liq} =$ 0.51 kg/min\n",
    "\n",
    "</div>"
   ]
  },
  {
   "cell_type": "markdown",
   "metadata": {},
   "source": [
    "### 4. the rate of heat transfer in the heating unit"
   ]
  },
  {
   "cell_type": "markdown",
   "metadata": {},
   "source": [
    "Drawing a control volume around the heating portion, with the constant composition process, we can find the energy balance as\n",
    "$$\\dot{Q}_{cv} = \\dot{m}_a \\left[h_{a3} - h_{a2} + \\omega_2 \\left(h_{v3} - h_{v2}\\right)\\right]$$"
   ]
  },
  {
   "cell_type": "code",
   "execution_count": 7,
   "metadata": {
    "collapsed": true
   },
   "outputs": [],
   "source": [
    "Qdot_in = (mdot_a*(h_a3 - h_a2 + omega_2*(h_v3 - h_v2))).to('kJ/min')"
   ]
  },
  {
   "cell_type": "markdown",
   "metadata": {
    "variables": {
     "format(Qdot_in, round_2f)": "805.03 kJ/min"
    }
   },
   "source": [
    "<div class=\"alert alert-success\">\n",
    "\n",
    "**Answer:** The rate of heat transfer into the moist air in the heating section is $\\dot{Q}_{in} =$ 805.03 kJ/min\n",
    "\n",
    "</div>"
   ]
  },
  {
   "cell_type": "code",
   "execution_count": 9,
   "metadata": {
    "collapsed": false
   },
   "outputs": [
    {
     "name": "stdout",
     "output_type": "stream",
     "text": [
      "p_1 =  1.0031175 bar\n"
     ]
    }
   ],
   "source": [
    "p_1 = Q_(0.99, 'atm').to('bar')  \n",
    "print('p_1 = ',p_1)\n",
    "\n",
    "Things you need \n",
    "V_1 into the system \n",
    "V_3 out of the system\n",
    "\n",
    "Q_in across the Evaporator\n",
    "Q_out across the Condesor\n",
    "\n",
    "\n",
    "print('           ')\n",
    "print('           ')\n",
    "print('mdot_v1   =   {}'.format(m_v1))\n",
    "print('mdot_v2   =   {}'.format(m_v2))\n",
    "print('mdot_w    =   {}'.format(m_w))\n",
    "print('mdot_a    =   {}'.format(m_a))\n",
    "print('mdot_w2    =   {}'.format(m_a))\n",
    "print('           ')\n",
    "print ('T_1      = {}'.format(T_1))\n",
    "print ('p_1      = {}'.format(p_1))\n",
    "print ('pv_1     = {}'.format(pv_1))\n",
    "print ('pa_1     = {}'.format(pa_1))\n",
    "print ('vv_1     = {}'.format(vv_1))\n",
    "print ('va_1     = {}'.format(va_1))\n",
    "print('           ')\n",
    "print ('ω_1      = {}'.format(ω_1))\n",
    "print ('φ_1      = {}'.format(φ_1))\n",
    "print('           ')\n",
    "print ('T_2      = {}'.format(T_2))\n",
    "print ('p_2      = {}'.format(p_2))\n",
    "print ('pv_2     = {}'.format(pv_2))\n",
    "print ('pa_2     = {}'.format(pa_2))\n",
    "print ('vv_2     = {}'.format(vv_2))\n",
    "print ('va_2     = {}'.format(va_2))\n",
    "print('           ')\n",
    "print ('ω_1      = {}'.format(ω_2))\n",
    "print ('φ_1      = {}'.format(φ_2))\n",
    "print('           ')\n",
    "print ('T_3      = {}'.format(T_3))\n",
    "print ('p_3      = {}'.format(p_3))\n",
    "print ('pv_3     = {}'.format(pv_3))\n",
    "print ('pa_3     = {}'.format(pa_3))\n",
    "print ('vv_3     = {}'.format(vv_3))\n",
    "print ('va_3     = {}'.format(va_3))\n",
    "print('           ')\n",
    "print ('ω_3      = {}'.format(ω_3))\n",
    "print ('φ_3      = {}'.format(φ_3))\n",
    "print('           ')\n",
    "print ('T_w      = {}'.format(T_w)) #DewPoint\n",
    "\n"
   ]
  }
 ],
 "metadata": {
  "anaconda-cloud": {},
  "kernelspec": {
   "display_name": "Python 3",
   "language": "python",
   "name": "python3"
  },
  "language_info": {
   "codemirror_mode": {
    "name": "ipython",
    "version": 3
   },
   "file_extension": ".py",
   "mimetype": "text/x-python",
   "name": "python",
   "nbconvert_exporter": "python",
   "pygments_lexer": "ipython3",
   "version": "3.6.0"
  }
 },
 "nbformat": 4,
 "nbformat_minor": 2
}
