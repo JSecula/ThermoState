{
 "cells": [
  {
   "cell_type": "code",
   "execution_count": null,
   "metadata": {
    "collapsed": false
   },
   "outputs": [],
   "source": [
    "from thermostate import State, Q_, units, SystemInternational as SI\n",
    "#________________________________________________________________________ Line\n",
    "print('Jason Secula'.center(85))\n",
    "print('Applied Thermodynamics [ME 2234] '.center(85))\n",
    "print('Professor Bryan W. Weber '.center(85))\n",
    "print('HomeWork 8.1'.center(85)) #Similar to Adiabatic mixing problem in class.\n",
    "print('           ')\n",
    "#________________________________________________________________________ Line\n",
    "MW_air = Q_(28.97, 'kg/kmol')\n",
    "MW_h2o = Q_(18.02, 'kg/kmol')\n",
    "R_bar = Q_(8314, 'J/(kmol*K)')\n",
    "\n",
    "T_1 = Q_(15.0, 'degC')\n",
    "p_1 = Q_(1.3, 'atm')\n",
    "φ_1 = Q_(0.63, 'dimensionless')\n",
    "Vdot_1 = Q_(773.0, 'm**3/hr')\n",
    "st_1g = State('water', T=T_1, x=Q_(1.0, 'dimensionless')) #STATE 1g\n",
    "pg_1 = st_1g.p.to('atm')       #Set the state ^ to get Saturation Pressure pg.\n",
    "pv_1 = φ_1*pg_1               #Relative Humidity (φ): φ= p_v/p_g (Page 755).\n",
    "pa_1 = (p_1-pv_1)             #Total Pressure-p_v = partial pressure of air.\n",
    "st_1a = State('air', T=T_1, p=pa_1) #STATE 1a\n",
    "va_1 = ((R_bar/MW_air)*(T_1/pa_1)) #pv=nrt\n",
    "m_a = (Vdot_1/va_1)     #m_a~(mdot_a):mdot_a = mdot_a1 = mdot_a2 = mdot_a3\n",
    "ω_1 = (0.622*(pv_1/(p_1-pv_1))) #Humidity Ratio: ω=0.622(pv/(p-pv)) (Page 755.)\n",
    "#________________________________________________________________________ Line\n",
    "T_w = Q_(15.0, 'degC')\n",
    "mdot_w = Q_(7.0, 'kg/hr')\n",
    "ω_2 = (mdot_w/m_a)\n",
    "#(mdot_w*((R_bar/MW_air)*T_w))/Volume = pv2\n",
    "st_2w = State('water', T=T_1, p=p_1) #total pressure is constant in the system. \n",
    "#________________________________________________________________________ Line\n",
    "T_3 = Q_(45.0, 'degC')\n",
    "p_3 = Q_(1.3, 'atm')\n",
    "st_3a = State('air', T=T_3, p=p_3) #STATE 3a\n",
    "st_3g = State('water', T=T_3, x=Q_(1.0, 'dimensionless')) #STATE 3g\n",
    "pg_3 = st_3g.p.to('atm')    #Set the state ^ to get Saturation Pressure pg.\n",
    "ω_3 = (ω_1+ω_2).to('atm/atm')\n",
    "#ω=0.622(pv3/(p3-pv3)) >> 0.622pv3 = ω(p3-pv3) >> 0.622pv3 = ω*p3-ω*pv3\n",
    "#0.622pv3+ω*pv3 = ω*p3 >> pv3(0.622+ω)=ω*pv3 >> pv3 = ω*pv3/(0.622+ω)\n",
    "pv_3 = ((ω_3*p_3)/(ω_3+0.622)) #^^^^ ALGEBRAAaaahhh ^^^^\n",
    "φ_3 = pv_3/pg_3\n",
    "#________________________________________________________________________ Line\n",
    "#Engergy Rate Balance.\n",
    "# 0 = Qcv - Wcv + Σ hi*mdot_i-Σ he*mdot_e\n",
    "#Wcv is assumed to be zero...\n",
    "#Qcv = mdot_a [ha1-ha2+ω(hv1-hv2)]\n",
    "Q_in = (m_a*((st_3a.h-st_1a.h)-(ω_1*st_1g.h)-(ω_2*st_2w.h)+(ω_3*st_3g.h)))\n",
    "print ('1. {} of heat transfered into the system.'.format(Q_in.to('kW')))\n"
   ]
  }
 ],
 "metadata": {
  "anaconda-cloud": {},
  "kernelspec": {
   "display_name": "Python 3",
   "language": "python",
   "name": "python3"
  },
  "language_info": {
   "codemirror_mode": {
    "name": "ipython",
    "version": 3
   },
   "file_extension": ".py",
   "mimetype": "text/x-python",
   "name": "python",
   "nbconvert_exporter": "python",
   "pygments_lexer": "ipython3",
   "version": "3.6.0"
  }
 },
 "nbformat": 4,
 "nbformat_minor": 2
}
