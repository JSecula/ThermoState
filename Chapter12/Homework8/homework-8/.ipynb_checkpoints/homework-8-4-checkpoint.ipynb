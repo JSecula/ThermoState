{
 "cells": [
  {
   "cell_type": "markdown",
   "metadata": {
    "variables": {
     "format(Qdot_in)": "836.0 MW",
     "format(T_1)": "40.0 celsius",
     "format(T_2)": "20.0 celsius",
     "format(T_3)": "25.0 celsius",
     "format(T_4)": "35.0 celsius",
     "format(T_5)": "20.0 celsius",
     "format(p_3)": "1.0 atm",
     "format(p_4)": "1.0 atm",
     "format(phi_3, round_2p)": "35.00% ",
     "format(phi_4, round_2p)": "90.00% "
    }
   },
   "source": [
    "In the condenser of a power plant, energy is discharged by heat transfer at a rate of 836.0 MW to the cooling water that exits the condenser into the cooling tower at 40.0 celsius. Cooled water at 20.0 celsius is returned to the condenser. Atmospheric air enters the tower at 25.0 celsius, 1.0 atm, 35.00%  relative humidity. Moist air exits at 35.0 celsius, 1.0 atm, 90.00%  relative humidity. Makeup water is supplied at 20.0 celsius. For operation at steady state, and neglecting kinetic and potential energy effects, determine the mass flow rate, in kg/s, of\n",
    "\n",
    "1. the entering atmospheric air ($\\dot{m}_{a3} + \\dot{m}_{v3}$)\n",
    "2. the makeup water"
   ]
  },
  {
   "cell_type": "markdown",
   "metadata": {},
   "source": [
    "![moran_8e_fig_12_15.jpg](attachment:moran_8e_fig_12_15.jpg)"
   ]
  },
  {
   "cell_type": "code",
   "execution_count": 7,
   "metadata": {
    "collapsed": false
   },
   "outputs": [
    {
     "name": "stdout",
     "output_type": "stream",
     "text": [
      "                                     Jason Secula                                    \n",
      "                          Applied Thermodynamics [ME 2234]                           \n",
      "                              Professor Bryan W. Weber                               \n",
      "                                     HomeWork 8.4                                    \n",
      "           \n",
      "                           11249.841961010758 kilogram / second , is the total mass flow of air                        \n",
      "                       1. 0.11179188036704267 atmosphere * kilogram / pascal / second , is the entering atmospheric air                       \n",
      "                             2. 290.8171021798135 kilogram / second , is the make up water                            \n"
     ]
    }
   ],
   "source": [
    "from thermostate import State, Q_, units, SystemInternational as SI\n",
    "#_____________________________________________________________________ Line\n",
    "print('Jason Secula'.center(85))\n",
    "print('Applied Thermodynamics [ME 2234] '.center(85))\n",
    "print('Professor Bryan W. Weber '.center(85))\n",
    "print('HomeWork 8.4'.center(85))\n",
    "print('           ')\n",
    "#_____________________________________________________________________ Line\n",
    "sub_v = 'water'\n",
    "sub_a = 'air'\n",
    "MW_air = Q_(28.97, 'kg/kmol')\n",
    "MW_h2o = Q_(18.02, 'kg/kmol')\n",
    "R_bar = Q_(8314, 'J/(kmol*K)')\n",
    "#_____________________________________________________________________ Line\n",
    "#From in class example, Qin = mdot*h - mdot2*h2\n",
    "Qdot_in = Q_(836.0, 'MW')\n",
    "#Table A2, page 927 of Textbook, has p and h values listed. \n",
    "p_1 = Q_(0.07384, 'bar') #From Page 927, Table A2 when T=40C. \n",
    "T_1 = Q_(40.0, 'degC')\n",
    "st_1a = State(sub_a, T=T_1, p=p_1)\n",
    "st_1v = State(sub_v, T=T_1, p=p_1) #STATE 1v\n",
    "st_1g = State(sub_v, T=T_1, x=Q_(1.0, 'dimensionless'))\n",
    "#pv = [φ_1*pg_1]\n",
    "#ω_1 = ([φ_1*pg_1]/(p_1-[φ_1*pg_1]))\n",
    "#_____________________________________________________________________ Line\n",
    "T_2 = Q_(20.0, 'degC')\n",
    "p_2 = Q_(0.02339, 'bar')  #From Page 927, Table A2 when T=20C. \n",
    "st_2a = State(sub_a, T=T_2, p=p_2)\n",
    "st_2v = State(sub_v, T=T_2, p=p_2) #STATE 2v\n",
    "st_2g = State(sub_v, T=T_2, x=Q_(1.0, 'dimensionless')) #STATE 2g\n",
    "m_1 = (Qdot_in/(st_1g.h-st_2g.h)).to('kg/s') #mdot 2 = mdot 1\n",
    "# ^^^^ 23172.71114919264 kilogram / second ^^^^\n",
    "#_____________________________________________________________________ Line\n",
    "T_3 = Q_(25.0, 'degC')\n",
    "p_3 = Q_(1.0, 'atm')\n",
    "φ_3 = Q_(0.35, 'dimensionless')\n",
    "st_3a = State(sub_a, T=T_3, p=p_3)\n",
    "st_3g = State(sub_v, T=T_3, x=Q_(1.0, 'dimensionless')) #STATE 3g\n",
    "pv_3 = φ_3*st_3g.p\n",
    "st_3v = State(sub_v, T=T_3, p=pv_3)\n",
    "ω_3 = ((MW_h2o/MW_air)*(pv_3/(p_3-pv_3)))\n",
    "# ** m_a3 = m_a4 = m_a\n",
    "#_____________________________________________________________________ Line\n",
    "T_4 = Q_(35.0, 'degC')\n",
    "p_4 = p_3\n",
    "φ_4 = Q_(0.9, 'dimensionless')\n",
    "st_4a = State(sub_a, T=T_4, p=p_4)\n",
    "st_4g = State(sub_v, T=T_4, x=Q_(1.0, 'dimensionless')) #STATE 4g\n",
    "pv_4 = φ_4*st_4g.p\n",
    "st_4v = State(sub_v, T=T_4, p=pv_4)\n",
    "ω_4 = ((MW_h2o/MW_air)*(pv_4/(p_4-pv_4)))\n",
    "#_____________________________________________________________________ Line\n",
    "T_5 = Q_(20.0, 'degC')\n",
    "p_5 = Q_(0.02339, 'bar')  #From Page 927, Table A2 when T=20C. \n",
    "h_5f = Q_(83.96, 'kJ/kg' ) #From Page 927, Table A2 when T=20C.\n",
    "st_5v = State(sub_v, T=T_5, p=p_5)\n",
    "st_5g = State(sub_v, T=T_5, x=Q_(1.0, 'dimensionless')) #STATE 5g\n",
    "#_____________________________________________________________________ Line\n",
    "#Qin = m1h1-m2h1\n",
    "#mv4 = mv3+mv5\n",
    "#0=Σm1h1-m2h2+ma3ha3+mv3hv3-ma4ha4-mv4hv4+m5h5\n",
    "#m_a = (m_1[h_2-h_1]) / [(cp(T_3-T_4))+ω_3*h_3-ω_3*h_4+(ω_4-ω_3)*h_5]\n",
    "m_a = (m_1*(st_2v.h-st_1v.h))/((st_3a.cp*(T_3-T_4))+(ω_3*st_3g.h)-(ω_4*st_4g.h)+((ω_4-ω_3)*h_5f))\n",
    "# ^^^ ^^ 11249.841961010758 kilogram / second\n",
    "m_3 = (m_a*(1+ω_3))\n",
    "m_5 = (m_a*(ω_4-ω_3))\n",
    "print('   {} , is the total mass flow of air'.center(85).format(m_a.to('kg/s')))\n",
    "print('1. {} , is the entering atmospheric air'.center(85).format(m_3.to('kg/s')))\n",
    "print('2. {} , is the make up water'.center(85).format(m_5.to('kg/s')))"
   ]
  }
 ],
 "metadata": {
  "anaconda-cloud": {},
  "kernelspec": {
   "display_name": "Python 3",
   "language": "python",
   "name": "python3"
  },
  "language_info": {
   "codemirror_mode": {
    "name": "ipython",
    "version": 3
   },
   "file_extension": ".py",
   "mimetype": "text/x-python",
   "name": "python",
   "nbconvert_exporter": "python",
   "pygments_lexer": "ipython3",
   "version": "3.6.0"
  }
 },
 "nbformat": 4,
 "nbformat_minor": 2
}
