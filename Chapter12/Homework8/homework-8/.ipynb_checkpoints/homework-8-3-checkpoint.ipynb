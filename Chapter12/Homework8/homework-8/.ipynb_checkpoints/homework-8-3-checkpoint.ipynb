{
 "cells": [
  {
   "cell_type": "markdown",
   "metadata": {
    "variables": {
     "format(Qdot_out)": "11.0 ton_of_refrigeration",
     "format(T_1)": "28.0 celsius",
     "format(T_2)": "400.0 fahrenheit",
     "format(T_3)": "24.0 celsius",
     "format(Vdot_1)": "100.0 ft<sup>3</sup>/min",
     "format(Wdot_in)": "15.0 hp",
     "format(p_1)": "1.0 bar",
     "format(p_2)": "100.0 psi",
     "format(p_3)": "1.0 bar",
     "format(phi_1, round_2p)": "70.00% ",
     "format(phi_3, round_2p)": "40.00% "
    }
   },
   "source": [
    "The figure below shows a compressor followed by an aftercooler. Atmospheric air at 1.0 bar, 28.0 celsius, and 70.00%  relative humidity enters the compressor with a volumetric flow rate of 100.0 ft<sup>3</sup>/min. The compressor power input is 15.0 hp. The moist air exiting the compressor at 400.0 fahrenheit, 100.0 psi flows through the aftercooler, where it is cooled at constant pressure to 24.0 celsius. Saturated vapor and saturated liquid streams both exit the aftercooler at 24.0 celsius. For steady state operation and negligible changes in kinetic and potential energy, determine\n",
    "\n"
   ]
  },
  {
   "cell_type": "code",
   "execution_count": 15,
   "metadata": {
    "collapsed": false
   },
   "outputs": [
    {
     "name": "stdout",
     "output_type": "stream",
     "text": [
      "                                     Jason Secula                                    \n",
      "                          Applied Thermodynamics [ME 2234]                           \n",
      "                              Professor Bryan W. Weber                               \n",
      "                                     HomeWork 8.3                                    \n",
      "           \n",
      "               1. -2.1652072385861914 horsepower is the heat transfer from the to the surroundings.              \n",
      "                  2. 0.11860548727363406 pound / minute is the mass flow rate of the condensate, in                  \n",
      "           3. 3.2353286599126365 refrigeration_ton is the heat transfer from the moist air to the refrigerant          \n"
     ]
    }
   ],
   "source": [
    "from thermostate import State, Q_, units, SystemInternational as SI\n",
    "#_____________________________________________________________________ Line\n",
    "print('Jason Secula'.center(85))\n",
    "print('Applied Thermodynamics [ME 2234] '.center(85))\n",
    "print('Professor Bryan W. Weber '.center(85))\n",
    "print('HomeWork 8.3'.center(85))\n",
    "print('           ')\n",
    "#_____________________________________________________________________ Line\n",
    "sub_v = 'water'\n",
    "sub_a = 'air'\n",
    "MW_air = Q_(28.97, 'kg/kmol')\n",
    "MW_h2o = Q_(18.02, 'kg/kmol')\n",
    "R_bar = Q_(8314, 'J/(kmol*K)')\n",
    "#_____________________________________________________________________ Line\n",
    "#Everything is steady state, m_a = mdot_a1 = mdot_a2 = mdot_a3\n",
    "#ω_1 = ω_2\n",
    "T_1 = Q_(90.0, 'degF')      # !! Matches Diagram, Not problem Statement !!\n",
    "p_1 = Q_(14.7, 'psi')       # !! 28C and 1 bar !!\n",
    "φ_1 = Q_(0.75, 'dimensionless')      # !! Problem statement says 70%\n",
    "Vdot_1 = Q_(100.0, 'ft**3/min')\n",
    "\n",
    "st_1g = State(sub_v, T=T_1, x=Q_(1.0, 'dimensionless')) #STATE 1g\n",
    "pv_1 = φ_1*st_1g.p            #Relative Humidity (φ): φ= p_v/p_g (Page 755).\n",
    "pa_1 = (p_1-pv_1)             #Total Pressure-p_v = partial pressure of air.    \n",
    "st_1a = State(sub_a, T=T_1, p=pa_1) #STATE 1a\n",
    "st_1v = State(sub_v, T=T_1, p=pv_1)\n",
    "\n",
    "va_1 = ((R_bar/MW_air)*(T_1/pa_1)) #pv=nrt\n",
    "m_a = (Vdot_1/va_1)     #m_a~(mdot_a):mdot_a = mdot_a1 = mdot_a2 = mdot_a3\n",
    "ω_1 = (0.622*(pv_1/(p_1-pv_1))) #Humidity Ratio: ω=0.622(pv/(p-pv)) (Page 755.)\n",
    "#_____________________________________________________________________ Line\n",
    "p_2 = Q_(100.0, 'psi')\n",
    "T_2 = Q_(400.0, 'degF')\n",
    "pv_2 = (ω_1*p_2/((MW_h2o/MW_air)+ω_1))  # ω_1 = ω_2\n",
    "pa_2 = (p_2-pv_2)\n",
    "ω_2 = ω_1\n",
    "st_2g = State(sub_v, T=T_2, x=Q_(1.0, 'dimensionless'))\n",
    "st_2a = State(sub_a, T=T_2, p=pa_2)\n",
    "st_2v = State(sub_v, T=T_2, p=pv_2)\n",
    "#_____________________________________________________________________ Line\n",
    "p_3 = p_2\n",
    "T_3 = Q_(100.0, 'degF')\n",
    "φ_3 = Q_(1.0, 'dimensionless')\n",
    "st_3g = State(sub_v, T=T_3, x=Q_(1.0, 'dimensionless')) #STATE 1g\n",
    "pg_3 = st_3g.p.to('atm')       #Set the state ^ to get Saturation Pressure pg.\n",
    "pv_3 = φ_3*pg_3               #Relative Humidity (φ): φ= p_v/p_g (Page 755).\n",
    "pa_3 = p_3 - pv_3\n",
    "ω_3 = (0.622*(pv_3/(p_3-pv_3)))\n",
    "st_3a = State(sub_a, T=T_3, p=pa_3)\n",
    "st_3v = State(sub_v, T=T_3, p=p_3) \n",
    "#_____________________________________________________________________ Line\n",
    "Wdot_in = Q_(15.0, 'hp')\n",
    "#0=Q-W+ma*[(ha2-ha1)+ω1(hv2-hv1)]\n",
    "Qout = -Wdot_in+(m_a*((st_2a.h-st_1a.h)+(ω_1*(st_2v.h-st_1v.h))))\n",
    "m_w = (m_a*(ω_1-ω_3))\n",
    "#0=Q-W+[(ma*ha2 + ma*hv2*ω_2)-(ma*ha3 + (ω_3*ma*hv3)-m_w*h_f]\n",
    "#Qcv = {ma*[(ha2-ha3)+ω2*hg2-ω3*hg3]}-(m_w*hf)\n",
    "Q = ((m_a*((st_2a.h-st_3a.h)+(ω_2*st_2g.h)-(ω_3*st_3g.h)))-(m_w*st_3v.h))\n",
    "print('1. {} , is the heat transfer from the to the surroundings.'.center(85).format(Qout.to('BTU/min')))\n",
    "print('2. {} , is the mass flow rate of the condensate, in '.center(85).format(m_w.to('lb/min')))\n",
    "print('3. {} , is the heat transfer from the moist air to the refrigerant'.center(85).format(Q.to('refrigeration_tons'))) \n",
    "      # ^^^ in the cooling coil, in tons of refrigeration')"
   ]
  }
 ],
 "metadata": {
  "anaconda-cloud": {},
  "kernelspec": {
   "display_name": "Python 3",
   "language": "python",
   "name": "python3"
  },
  "language_info": {
   "codemirror_mode": {
    "name": "ipython",
    "version": 3
   },
   "file_extension": ".py",
   "mimetype": "text/x-python",
   "name": "python",
   "nbconvert_exporter": "python",
   "pygments_lexer": "ipython3",
   "version": "3.6.0"
  }
 },
 "nbformat": 4,
 "nbformat_minor": 2
}
