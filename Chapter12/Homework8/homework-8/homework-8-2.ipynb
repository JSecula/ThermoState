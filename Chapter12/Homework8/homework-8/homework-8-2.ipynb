{
 "cells": [
  {
   "cell_type": "markdown",
   "metadata": {
    "variables": {
     "format(Qdot_out)": "11.0 ton_of_refrigeration",
     "format(T_1)": "28.0 celsius",
     "format(T_3)": "24.0 celsius",
     "format(p_1)": "1.0 bar",
     "format(p_3)": "1.0 bar",
     "format(phi_1, round_2p)": "70.00% ",
     "format(phi_3, round_2p)": "40.00% "
    }
   },
   "source": [
    "1. the temperature of the moist air and condensate exiting the dehumidifier, in degC\n",
    "2. the volumetric flow rate of the air entering the air conditioner at state 1, in m3/min\n",
    "3. the rate water is condensed and removed from the dehumidifier, in kg/min\n",
    "4. the rate of heat transfer to the air passing through the heating unit, in kW"
   ]
  },
  {
   "cell_type": "markdown",
   "metadata": {},
   "source": [
    "![moran_8e_fig_12_11.jpg](attachment:moran_8e_fig_12_11.jpg)"
   ]
  },
  {
   "cell_type": "code",
   "execution_count": 32,
   "metadata": {
    "collapsed": false
   },
   "outputs": [
    {
     "name": "stdout",
     "output_type": "stream",
     "text": [
      "                                     Jason Secula                                    \n",
      "                          Applied Thermodynamics [ME 2234]                           \n",
      "                              Professor Bryan W. Weber                               \n",
      "                                     HomeWork 8.2                                    \n",
      "           \n",
      "1.  98 degC is the temperature of moist air exiting the dehumidifier.\n",
      "1.  25.76783981609077 degC is the temperature of condensate exiting the dehumidifier.\n",
      "    -343.3359467128762 kilogram / minute is the Mass flow of Air.\n",
      "2.  -304.8031154399482 meter ** 3 / minute is the the volumetric flow rate of the air entering the air conditioner at state 1\n",
      "3.  1.5200449384550274 kilogram / minute is the the rate water is condensed and removed from the dehumidifier\n",
      "4.  10.571922047379848 kilowatt is the the rate of heat transfer to the air passing through the heating unit\n"
     ]
    }
   ],
   "source": [
    "from thermostate import State, Q_, units, SystemInternational as SI\n",
    "#________________________________________________________________________ Line\n",
    "print('Jason Secula'.center(85))\n",
    "print('Applied Thermodynamics [ME 2234] '.center(85))\n",
    "print('Professor Bryan W. Weber '.center(85))\n",
    "print('HomeWork 8.2'.center(85))\n",
    "print('           ')\n",
    "#________________________________________________________________________ Line\n",
    "sub_v = 'water'\n",
    "sub_a = 'air'\n",
    "MW_air = Q_(28.97, 'kg/kmol')\n",
    "MW_h2o = Q_(18.02, 'kg/kmol')\n",
    "R_bar = Q_(8314, 'J/(kmol*K)')\n",
    "\n",
    "T_1 = Q_(28.0, 'degC')\n",
    "p_1 = Q_(1.0, 'bar')\n",
    "φ_1 = Q_(0.7, 'dimensionless')\n",
    "st_1a = State(sub_a, T=T_1, p=p_1) #STATE 1a\n",
    "st_1g = State(sub_v, T=T_1, x=Q_(1.0, 'dimensionless')) #STATE 1g\n",
    "            #^^^I think X it needs to be contained to just affect this state.\n",
    "pg_1 = st_1g.p.to('bar')       #Set the state ^ to get Saturation Pressure pg.\n",
    "pv_1 = φ_1*pg_1               #Relative Humidity (φ): φ= p_v/p_g (Page 755).\n",
    "pa_1 = (p_1-pv_1)             #Total Pressure-p_v = partial pressure of air.    \n",
    "va_1 = ((R_bar/MW_air)*(T_1/pa_1)) #pv=nrt\n",
    "ω_1 = (0.622*(pv_1/(p_1-pv_1))).to('kg/kg') #Humidity Ratio: ω=0.622(pv/(p-pv)) (Page 755.)\n",
    "#________________________________________________________________________ Line\n",
    "Qdot_out = Q_(11.0, 'refrigeration_tons')\n",
    "φ_2 = Q_(1.0, 'dimensionless')\n",
    "#mv2 = ω_2*mdot_a2 >> mv2 = mv3 >> ω_2*mdot_a2 = ω_3*mdot_a3 = (ω_2 = ω_3)\n",
    "#^^^^ 0.622(pv2/(p-pv2))=0.622(pv3/(p-pv3)) ^^^^\n",
    "\n",
    "#________________________________________________________________________ Line\n",
    "T_3 = Q_(24.0, 'degC')\n",
    "p_3 = Q_(1.0, 'bar')\n",
    "\n",
    "st_3a = State(sub_a, T=T_3, p=p_3) #STATE 3a\n",
    "st_3g = State(sub_v, T=T_3, x=Q_(1.0, 'dimensionless')) #STATE 3g\n",
    "pg_3 = st_3g.p.to('bar')    #Set the state ^ to get Saturation Pressure pg.\n",
    "\n",
    "φ_3 = Q_(0.4, 'dimensionless') # pv_3 = φ_3*(pg_3)\n",
    "pv_3 = φ_1*pg_3\n",
    "ω_3 = (pv_3/(p_3-pv_3)).to('kg/kg')\n",
    "#________________________________________________________________________ Line\n",
    "\n",
    "ω_2 = ω_3.to('kg/kg')\n",
    "#0.622(pv2/(p-pv2))=ω_3 >> 0.622*pv2 = ω_3*p - ω_3*pv2 >> \n",
    "# 0.622*pv2 + ω_3*pv2 = ω_3*pv3 = ...\n",
    "pv_2 = (ω_3*p_3/((MW_h2o/MW_air)+ω_3))  #Relative Humidity (φ): φ= p_v/p_g (Page 755).\n",
    "pg_2 = (pv_2/φ_2)  # pv2 = pg2\n",
    "p_2 = ((pv_2*((MW_h2o/MW_air)+ω_2))/(ω_2))\n",
    "pa_2 = (p_2 - pv_2) \n",
    "# !! st_2a = State(sub_a, p=pa_2, !?!?!?!? ) #STATE 2g, to get Ta2\n",
    "# ** In Table A2, and pa = 0.9668203978487722 bar\n",
    "# ** T_2 = around 95-100 degrees C\n",
    "T_2a = Q_(98, 'degC') #Running out of time, cant figure this out. Set from A2\n",
    "st_2a = State(sub_a, p=pa_2, T=T_2a)\n",
    "st_2v = State(sub_v, p=pv_2, x=Q_(1.0, 'dimensionless'))\n",
    "# ** Table A2, and pv 0.033179602151224064 bar\n",
    "# ** T_2 = around 25-27 degrees C **\n",
    "#st_2a = State(sub_a, p=p_3, ) #These are wrong. \n",
    "# 0 = Qcv - Wcv + Σ hi*mdot_i-Σ he*mdot_e\n",
    "#Q_in = (m_a*((st_3a.h-st_1a.h)-(ω_1*st_1g.h)-(ω_2*st_2w.h)+(ω_3*st_3g.h)))\n",
    "m_a = (-Qdot_out/((st_1a.cp*(st_2v.T-T_1))+(ω_2*st_2v.h)-(ω_1*st_1g.h)+((ω_1-ω_2)*st_2a.h)))\n",
    "V_1 = (m_a*(((R_bar/MW_air)*T_1)/(p_1-pv_1)))\n",
    "m_w = (m_a*(ω_1-ω_2))\n",
    "Qin = (m_a*((st_1a.cp*(T_3-st_2v.T))+(ω_3*(st_3g.h-st_2v.h))))\n",
    "print('1.  {} is the temperature of moist air exiting the dehumidifier.'.format(T_2a.to('degC')))\n",
    "print('1.  {} is the temperature of condensate exiting the dehumidifier.'.format(st_2v.T.to('degC')))\n",
    "print('    {} is the Mass flow of Air.'.format(m_a.to('kg/min')))\n",
    "print('2.  {} is the the volumetric flow rate of the air entering the air conditioner at state 1'.format(V_1.to('m**3/min')))\n",
    "print('3.  {} is the the rate water is condensed and removed from the dehumidifier'.format(m_w.to('kg/min')))\n",
    "print('4.  {} is the the rate of heat transfer to the air passing through the heating unit'.format(Qin.to('kW')))\n"
   ]
  },
  {
   "cell_type": "code",
   "execution_count": null,
   "metadata": {
    "collapsed": true
   },
   "outputs": [],
   "source": []
  }
 ],
 "metadata": {
  "anaconda-cloud": {},
  "kernelspec": {
   "display_name": "Python 3",
   "language": "python",
   "name": "python3"
  },
  "language_info": {
   "codemirror_mode": {
    "name": "ipython",
    "version": 3
   },
   "file_extension": ".py",
   "mimetype": "text/x-python",
   "name": "python",
   "nbconvert_exporter": "python",
   "pygments_lexer": "ipython3",
   "version": "3.6.0"
  }
 },
 "nbformat": 4,
 "nbformat_minor": 2
}
