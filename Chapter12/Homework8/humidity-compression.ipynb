{
 "cells": [
  {
   "cell_type": "markdown",
   "metadata": {},
   "source": [
    "# Compression of Moist Air"
   ]
  },
  {
   "cell_type": "code",
   "execution_count": null,
   "metadata": {
    "collapsed": true
   },
   "outputs": [],
   "source": [
    "from thermostate import State, Q_, units, SystemInternational as SI"
   ]
  },
  {
   "cell_type": "markdown",
   "metadata": {},
   "source": [
    "## Definitions"
   ]
  },
  {
   "cell_type": "code",
   "execution_count": null,
   "metadata": {
    "collapsed": true
   },
   "outputs": [],
   "source": [
    "T_1 = Q_(50.0, 'degC')\n",
    "p_1 = Q_(0.9, 'bar')\n",
    "phi_1 = Q_(0.7, 'dimensionless')\n",
    "Vdot_1 = Q_(0.8, 'm**3/s')\n",
    "\n",
    "T_2 = Q_(195.0, 'degC')\n",
    "p_2 = Q_(1.5, 'bar')"
   ]
  },
  {
   "cell_type": "markdown",
   "metadata": {},
   "source": [
    "## Problem Statement"
   ]
  },
  {
   "cell_type": "markdown",
   "metadata": {},
   "source": [
    "Moist air enters a compressor operating at steady state at 50 degC, 0.9, bar, with a relative humidity of 70% and a volumetric flow rate of 0.8 m3/s. The moist air exits the compressor at 195 degC and 1.5 bar. Assuming the compressor is well insulated, determine\n",
    "\n",
    "1. the relative humidity at the exit\n",
    "2. the power input, in kW\n",
    "3. the rate of entropy destruction, in kW/K"
   ]
  },
  {
   "cell_type": "markdown",
   "metadata": {},
   "source": [
    "## Solution"
   ]
  },
  {
   "cell_type": "markdown",
   "metadata": {},
   "source": [
    "### 1.  the relative humidity at the exit"
   ]
  },
  {
   "cell_type": "markdown",
   "metadata": {},
   "source": [
    "The first thing we have to do is check that no water will be condensed at the outlet of the compressor. To do so, we compare the partial pressure of the water vapor at the outlet to the saturation pressure at the outlet temperature."
   ]
  },
  {
   "cell_type": "code",
   "execution_count": null,
   "metadata": {},
   "outputs": [],
   "source": [
    "st_2g = State('water', T=T_2, x=Q_(1.0, 'dimensionless'))\n",
    "pg_2 = st_2g.p.to('bar')\n",
    "print(pg_2)"
   ]
  },
  {
   "cell_type": "markdown",
   "metadata": {},
   "source": [
    "The saturation pressure of the water vapor at the outlet is nearly 14 bar. The total pressure at the outlet is actually 1.5 bar (given in the problem statement), and the partial pressure of the water vapor is some fraction of that, so there definitely won't be any condensation at the outlet."
   ]
  },
  {
   "cell_type": "markdown",
   "metadata": {},
   "source": [
    "<br/><br/><br/><br/><br/><br/><br/><br/><br/><br/><br/><br/><br/><br/><br/><br/><br/><br/><br/><br/><br/><br/><br/><br/><br/><br/><br/><br/>"
   ]
  },
  {
   "cell_type": "markdown",
   "metadata": {},
   "source": [
    "Since there is no condensation, this is a constant composition process and $\\omega_1 = \\omega_2$. If we can calculate the humidity ratio at the inlet, we can use it to find the partial pressure of the water vapor at the outlet, and determine the relative humidity. The humidity ratio is\n",
    "$$\\omega = 0.622 \\frac{p_v}{p - p_v}$$\n",
    "so at state 1"
   ]
  },
  {
   "cell_type": "code",
   "execution_count": null,
   "metadata": {},
   "outputs": [],
   "source": [
    "st_1g = State('water', T=T_1, x=Q_(1.0, 'dimensionless'))\n",
    "pg_1 = st_1g.p.to('bar')\n",
    "pv_1 = phi_1*pg_1\n",
    "print(pv_1)"
   ]
  },
  {
   "cell_type": "code",
   "execution_count": null,
   "metadata": {},
   "outputs": [],
   "source": [
    "MW_air = Q_(28.97, 'kg/kmol')\n",
    "MW_h2o = Q_(18.02, 'kg/kmol')\n",
    "omega_1 = (MW_h2o/MW_air*pv_1/(p_1 - pv_1)).to('dimensionless')\n",
    "print(omega_1)"
   ]
  },
  {
   "cell_type": "markdown",
   "metadata": {},
   "source": [
    "With the value for the humidity ratio, we can find the partial pressure of the water vapor at state 2"
   ]
  },
  {
   "cell_type": "code",
   "execution_count": null,
   "metadata": {},
   "outputs": [],
   "source": [
    "omega_2 = omega_1\n",
    "pv_2 = (p_2*omega_2/(MW_h2o/MW_air + omega_2)).to('bar')\n",
    "print(pv_2)"
   ]
  },
  {
   "cell_type": "markdown",
   "metadata": {},
   "source": [
    "and finally, using this, we can find the relative humidity at state 2"
   ]
  },
  {
   "cell_type": "code",
   "execution_count": null,
   "metadata": {},
   "outputs": [],
   "source": [
    "phi_2 = (pv_2/pg_2).to('dimensionless')\n",
    "print(phi_2, phi_2.to('percent'))"
   ]
  },
  {
   "cell_type": "markdown",
   "metadata": {},
   "source": [
    "### 2. the work input to the compressor"
   ]
  },
  {
   "cell_type": "markdown",
   "metadata": {},
   "source": [
    "To find the work input to the compressor, we draw a control volume around the compressor and write the energy rate balance\n",
    "\\begin{align}\n",
    "0 &= \\dot{Q} - \\dot{W} + \\dot{m}_a h_{a1} + \\dot{m}_v h_{v1} - \\dot{m}_a h_{a2} - \\dot{m}_v h_{v2} \\\\\n",
    "\\dot{W} &= \\dot{m}_a (h_{a1} - h_{a2}) + \\dot{m}_v (h_{v1} - h_{v2}) \\\\\n",
    "\\dot{W} &= \\dot{m}_a [h_{a1} - h_{a2} + \\omega(h_{v1} - h_{v2})]\n",
    "\\end{align}\n",
    "\n",
    "$\\dot{m}_a$ can be found by dividing the volumetric flow rate by the specific volume of the air at state 1\n",
    "$$\\dot{m}_a = \\frac{\\dot{V}_1}{v_{a1}}$$"
   ]
  },
  {
   "cell_type": "code",
   "execution_count": null,
   "metadata": {},
   "outputs": [],
   "source": [
    "pa_1 = p_1 - pv_1\n",
    "va_1 = ((units.molar_gas_constant/MW_air)*T_1/pa_1).to('m**3/kg')\n",
    "mdot_a = Vdot_1/va_1\n",
    "print(mdot_a)"
   ]
  },
  {
   "cell_type": "markdown",
   "metadata": {},
   "source": [
    "Now to find the enthalpy values from `State` objects"
   ]
  },
  {
   "cell_type": "code",
   "execution_count": null,
   "metadata": {},
   "outputs": [],
   "source": [
    "st_a1 = State('air', T=T_1, p=pa_1)\n",
    "ha_1 = st_a1.h.to(SI.h)\n",
    "\n",
    "st_a2 = State('air', T=T_2, p=(p_2 - pv_2))\n",
    "ha_2 = st_a2.h.to(SI.h)\n",
    "\n",
    "st_v1 = State('water', T=T_1, p=pv_1)\n",
    "hv_1 = st_v1.h.to(SI.h)\n",
    "\n",
    "st_v2 = State('water', T=T_2, p=pv_2)\n",
    "hv_2= st_v2.h.to(SI.h)\n",
    "\n",
    "Wdot_c = (mdot_a*(ha_1 - ha_2 + omega_1*(hv_1 - hv_2))).to('kW')\n",
    "print(Wdot_c)"
   ]
  },
  {
   "cell_type": "markdown",
   "metadata": {},
   "source": [
    "We can check what the answer would be if we used saturated vapor enthalpies for the water vapor"
   ]
  },
  {
   "cell_type": "code",
   "execution_count": null,
   "metadata": {},
   "outputs": [],
   "source": [
    "st_v1 = State('water', T=T_1, x=Q_(1.0, 'dimensionless'))\n",
    "hv_1 = st_v1.h.to(SI.h)\n",
    "\n",
    "st_v2 = State('water', T=T_2, x=Q_(1.0, 'dimensionless'))\n",
    "hv_2 = st_v2.h.to(SI.h)\n",
    "\n",
    "Wdot_c = (mdot_a*(ha_1 - ha_2 + omega_1*(hv_1 - hv_2))).to('kW')\n",
    "print(Wdot_c)"
   ]
  },
  {
   "cell_type": "markdown",
   "metadata": {},
   "source": [
    "The answer is a little bit less than 4% different - pretty good, considering!"
   ]
  },
  {
   "cell_type": "markdown",
   "metadata": {},
   "source": [
    "### 3. The rate of entropy production"
   ]
  },
  {
   "cell_type": "markdown",
   "metadata": {},
   "source": [
    "Similar to the energy rate balance, the entropy rate balance reduces to\n",
    "$$\\dot{\\sigma} = \\dot{m}_a[s_{a2} - s_{a1} + \\omega(s_{v2} - s_{v1})]$$\n",
    "\n",
    "Redefining the states back to the partial pressures,"
   ]
  },
  {
   "cell_type": "code",
   "execution_count": null,
   "metadata": {},
   "outputs": [],
   "source": [
    "st_a1 = State('air', T=T_1, p=pa_1)\n",
    "sa_1 = st_a1.s.to(SI.s)\n",
    "\n",
    "st_a2 = State('air', T=T_2, p=(p_2 - pv_2))\n",
    "sa_2 = st_a2.s.to(SI.s)\n",
    "\n",
    "st_v1 = State('water', T=T_1, p=pv_1)\n",
    "sv_1 = st_v1.s.to(SI.s)\n",
    "\n",
    "st_v2 = State('water', T=T_2, p=pv_2)\n",
    "sv_2= st_v2.s.to(SI.s)\n",
    "\n",
    "sigma_dot = mdot_a*(sa_2 - sa_1 + omega_1*(sv_2 - sv_1))\n",
    "print(sigma_dot)"
   ]
  },
  {
   "cell_type": "markdown",
   "metadata": {},
   "source": [
    "The rate of entropy production is positive, indicating that this process is irreversible."
   ]
  }
 ],
 "metadata": {
  "kernelspec": {
   "display_name": "Python 3",
   "language": "python",
   "name": "python3"
  },
  "language_info": {
   "codemirror_mode": {
    "name": "ipython",
    "version": 3
   },
   "file_extension": ".py",
   "mimetype": "text/x-python",
   "name": "python",
   "nbconvert_exporter": "python",
   "pygments_lexer": "ipython3",
   "version": "3.6.0"
  }
 },
 "nbformat": 4,
 "nbformat_minor": 2
}
