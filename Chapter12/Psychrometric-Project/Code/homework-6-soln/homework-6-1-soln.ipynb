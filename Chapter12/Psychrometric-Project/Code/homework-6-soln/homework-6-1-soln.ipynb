{
 "cells": [
  {
   "cell_type": "markdown",
   "metadata": {
    "deletable": true,
    "editable": true
   },
   "source": [
    "# Homework 6-1\n",
    "\n",
    "---\n",
    "\n",
    "## Imports"
   ]
  },
  {
   "cell_type": "code",
   "execution_count": 1,
   "metadata": {
    "collapsed": false,
    "deletable": true,
    "editable": true
   },
   "outputs": [],
   "source": [
    "from thermostate import State, Q_, units, SystemInternational as SI"
   ]
  },
  {
   "cell_type": "markdown",
   "metadata": {
    "deletable": true,
    "editable": true
   },
   "source": [
    "---\n",
    "\n",
    "## Definitions"
   ]
  },
  {
   "cell_type": "code",
   "execution_count": 2,
   "metadata": {
    "collapsed": false,
    "deletable": true,
    "editable": true
   },
   "outputs": [],
   "source": [
    "sub_a = 'air'\n",
    "T_a2 = Q_(15.0, 'degC')\n",
    "p_a2 = Q_(1.0, 'bar')\n",
    "T_a1 = Q_(22.0, 'degC')\n",
    "p_a1 = p_a2\n",
    "Vdot_a = Q_(19.0, 'm**3/min')\n",
    "\n",
    "sub_r = 'R22'\n",
    "T_r1 = Q_(10.0, 'degC')\n",
    "p_r1 = Q_(4.0, 'bar')\n",
    "p_r3 = Q_(9.0, 'bar')\n",
    "x_r3 = Q_(0.0, 'dimensionless')\n",
    "eta_c = Q_(0.7, 'dimensionless')"
   ]
  },
  {
   "cell_type": "markdown",
   "metadata": {
    "deletable": true,
    "editable": true
   },
   "source": [
    "---\n",
    "\n",
    "## Problem Statement"
   ]
  },
  {
   "cell_type": "markdown",
   "metadata": {
    "deletable": true,
    "editable": true,
    "variables": {
     "format(T_a1)": "22.0 celsius",
     "format(T_a2)": "15.0 celsius",
     "format(T_r1)": "10.0 celsius",
     "format(Vdot_a)": "19.0 m<sup>3</sup>/min",
     "format(eta_c)": "0.7 ",
     "format(p_a2)": "1.0 bar",
     "format(p_r1)": "4.0 bar",
     "format(p_r3)": "9.0 bar",
     "format(sub_a)": "air",
     "format(sub_a.title())": "Air",
     "format(sub_r)": "R22"
    }
   },
   "source": [
    "An air conditioner supplies 19.0 m<sup>3</sup>/min of air to a room at 15.0 celsius and 1.0 bar. Air enters the evaporator at 22.0 celsius. The air conditioner operates on a steady-state vapor-compression cycle, with R22 entering the compressor at 10.0 celsius and 4.0 bar. Saturated liquid exits the condenser at 9.0 bar. The compressor has an isentropic efficiency of 0.7  and both heat exchangers operate isobarically. Determine the\n",
    "\n",
    "1. compressor power, in kW. Hint: Draw a control volume around the evaporator to find the mass flow rate\n",
    "2. refrigeration capacity, in tons\n",
    "3. coefficient of performance"
   ]
  },
  {
   "cell_type": "markdown",
   "metadata": {
    "deletable": true,
    "editable": true
   },
   "source": [
    "---\n",
    "\n",
    "## Solution"
   ]
  },
  {
   "cell_type": "markdown",
   "metadata": {
    "deletable": true,
    "editable": true
   },
   "source": [
    "### 1. the compressor power"
   ]
  },
  {
   "cell_type": "markdown",
   "metadata": {
    "deletable": true,
    "editable": true
   },
   "source": [
    "To find the compressor power, we require the enthalpies at all the states, including the air. This air conditioner works by drawing air over the evaporator, so that the air transfers energy into the refrigerant and leaves the heat exchanger colder than it came in, while the refrigerant leaves warmer than it came in. Defining the states"
   ]
  },
  {
   "cell_type": "code",
   "execution_count": 3,
   "metadata": {
    "collapsed": false,
    "deletable": true,
    "editable": true
   },
   "outputs": [],
   "source": [
    "st_a1 = State(sub_a, T=T_a1, p=p_a1)\n",
    "h_a1 = st_a1.h.to(SI.h)\n",
    "\n",
    "st_a2 = State(sub_a, T=T_a2, p=p_a2)\n",
    "h_a2 = st_a2.h.to(SI.h)\n",
    "v_a2 = st_a2.v.to(SI.v)\n",
    "\n",
    "st_r1 = State(sub_r, T=T_r1, p=p_r1)\n",
    "h_r1 = st_r1.h.to(SI.h)\n",
    "s_r1 = st_r1.s.to(SI.s)\n",
    "\n",
    "s_r2s = s_r1\n",
    "p_r2s = p_r3\n",
    "st_r2s = State(sub_r, s=s_r2s, p=p_r2s)\n",
    "h_r2s = st_r2s.h.to(SI.h)\n",
    "T_r2s = st_r2s.T.to(SI.T)\n",
    "\n",
    "h_r2 = (h_r2s - h_r1)/eta_c + h_r1\n",
    "p_r2 = p_r3\n",
    "st_r2 = State(sub_r, p=p_r2, h=h_r2)\n",
    "T_r2 = st_r2.T.to(SI.T)\n",
    "s_r2 = st_r2.s.to(SI.s)\n",
    "\n",
    "st_r3 = State(sub_r, x=x_r3, p=p_r3)\n",
    "T_r3 = st_r3.T.to(SI.T)\n",
    "h_r3 = st_r3.h.to(SI.h)\n",
    "s_r3 = st_r3.s.to(SI.s)\n",
    "\n",
    "h_r4 = h_r3\n",
    "p_r4 = p_r1\n",
    "st_r4 = State(sub_r, h=h_r4, p=p_r4)\n",
    "T_r4 = st_r4.T.to(SI.T)\n",
    "x_r4 = st_r4.x\n",
    "s_r4 = st_r4.s.to(SI.s)"
   ]
  },
  {
   "cell_type": "markdown",
   "metadata": {
    "deletable": true,
    "editable": true,
    "variables": {
     "format(T_a1, round_2f)": "22.00 celsius",
     "format(T_a2, round_2f)": "15.00 celsius",
     "format(T_r1, round_2f)": "10.00 celsius",
     "format(T_r2, round_2f)": "61.58 celsius",
     "format(T_r2s, round_2f)": "49.78 celsius",
     "format(T_r3, round_2f)": "19.60 celsius",
     "format(T_r4, round_2f)": "-6.56 celsius",
     "format(h_a1, round_2f)": "421.42 kJ/kg",
     "format(h_a2, round_2f)": "414.38 kJ/kg",
     "format(h_r1, round_2f)": "414.26 kJ/kg",
     "format(h_r2, round_2f)": "444.97 kJ/kg",
     "format(h_r2s, round_2f)": "435.76 kJ/kg",
     "format(h_r3, round_2f)": "223.57 kJ/kg",
     "format(h_r4, round_2f)": "223.57 kJ/kg",
     "format(p_a1, round_2f)": "1.00 bar",
     "format(p_a2, round_2f)": "1.00 bar",
     "format(p_r1, round_2f)": "4.00 bar",
     "format(p_r2, round_2f)": "9.00 bar",
     "format(p_r2s, round_2f)": "9.00 bar",
     "format(p_r3, round_2f)": "9.00 bar",
     "format(p_r4, round_2f)": "4.00 bar",
     "format(s_r1, round_2f)": "1.80 kJ/(K kg)",
     "format(s_r2, round_2f)": "1.83 kJ/(K kg)",
     "format(s_r2s, round_2f)": "1.80 kJ/(K kg)",
     "format(s_r3, round_2f)": "1.08 kJ/(K kg)",
     "format(s_r4, round_2f)": "1.09 kJ/(K kg)",
     "format(x_r3, round_2p)": "0.00% ",
     "format(x_r4, round_2p)": "14.84% "
    }
   },
   "source": [
    "Summarizing the states:\n",
    "\n",
    "| State |              T              |              p              |              s              |              h              |             x              |\n",
    "|-------|-----------------------------|-----------------------------|-----------------------------|-----------------------------|----------------------------|\n",
    "| A-1   | 22.00 celsius  | 1.00 bar  | ---                         | 421.42 kJ/kg  | ---                        |\n",
    "| A-2   | 15.00 celsius  | 1.00 bar  | ---                         | 414.38 kJ/kg  | ---                        |\n",
    "| R-1   | 10.00 celsius  | 4.00 bar  | 1.80 kJ/(K kg)  | 414.26 kJ/kg  | ---                        |\n",
    "| R-2s  | 49.78 celsius | 9.00 bar | 1.80 kJ/(K kg) | 435.76 kJ/kg | ---                        |\n",
    "| R-2   | 61.58 celsius  | 9.00 bar  | 1.83 kJ/(K kg)  | 444.97 kJ/kg  | ---                        |\n",
    "| R-3   | 19.60 celsius  | 9.00 bar  | 1.08 kJ/(K kg)  | 223.57 kJ/kg  | 0.00%  |\n",
    "| R-4   | -6.56 celsius  | 4.00 bar  | 1.09 kJ/(K kg)  | 223.57 kJ/kg  | 14.84%  |\n",
    "\n",
    "Now, we can draw a control volume around the evaporator to find the mass flow rate of the refrigerant. The mass flow rate of the air is found by\n",
    "$$\\dot{m}_a = \\frac{\\dot{V}_{a,2}}{v_{a,2}}$$\n",
    "\n",
    "and the mass flow rate of refrigerant is\n",
    "$$\\dot{m}_r = \\dot{m}_a\\frac{h_{a,2} - h_{a,1}}{h_{r,4} - h_{r,1}}$$"
   ]
  },
  {
   "cell_type": "code",
   "execution_count": 4,
   "metadata": {
    "collapsed": true,
    "deletable": true,
    "editable": true
   },
   "outputs": [],
   "source": [
    "mdot_a = (Vdot_a/v_a2).to('kg/hr')\n",
    "mdot_r = (mdot_a*(h_a2 - h_a1)/(h_r4 - h_r1)).to('kg/hr')"
   ]
  },
  {
   "cell_type": "markdown",
   "metadata": {
    "deletable": true,
    "editable": true,
    "variables": {
     "format(mdot_a, round_2f)": "1378.84 kg/hr",
     "format(mdot_r, round_2f)": "50.92 kg/hr"
    }
   },
   "source": [
    "The two mass flow rates are $\\dot{m}_a =$ 1378.84 kg/hr and $\\dot{m}_r =$ 50.92 kg/hr.\n",
    "\n",
    "Finally, the compressor power is given by\n",
    "$$\\dot{W}_c = \\dot{m}_r(h_1 - h_2)$$"
   ]
  },
  {
   "cell_type": "code",
   "execution_count": 5,
   "metadata": {
    "collapsed": true,
    "deletable": true,
    "editable": true
   },
   "outputs": [],
   "source": [
    "Wdot_c = (mdot_r*(h_r1 - h_r2)).to('kW')"
   ]
  },
  {
   "cell_type": "markdown",
   "metadata": {
    "deletable": true,
    "editable": true,
    "variables": {
     "format(Wdot_c, round_2f)": "-0.43 kW"
    }
   },
   "source": [
    "<div class=\"alert alert-success\">\n",
    "\n",
    "**Answer:** The input power to the compressor is $\\dot{W}_c =$ -0.43 kW\n",
    "\n",
    "</div>"
   ]
  },
  {
   "cell_type": "markdown",
   "metadata": {
    "deletable": true,
    "editable": true
   },
   "source": [
    "### 2. refrigeration capacity"
   ]
  },
  {
   "cell_type": "markdown",
   "metadata": {
    "deletable": true,
    "editable": true
   },
   "source": [
    "The refrigeration capacity is the heat transfer input to the evaporator\n",
    "$$\\dot{Q}_{in} = \\dot{m}_r(h_{r,1} - h_{r,4}) = \\dot{m}_a(h_{a,2} - h_{a,1})$$"
   ]
  },
  {
   "cell_type": "code",
   "execution_count": 6,
   "metadata": {
    "collapsed": true,
    "deletable": true,
    "editable": true
   },
   "outputs": [],
   "source": [
    "Qdot_in_r = (mdot_r*(h_r1 - h_r4)).to('refrigeration_ton')\n",
    "Qdot_in_a = (mdot_a*(h_a2 - h_a1)).to('refrigeration_ton')"
   ]
  },
  {
   "cell_type": "markdown",
   "metadata": {
    "deletable": true,
    "editable": true,
    "variables": {
     "format(Qdot_in_a, round_2f)": "-0.77 ton_of_refrigeration",
     "format(Qdot_in_r, round_2f)": "0.77 ton_of_refrigeration"
    }
   },
   "source": [
    "<div class=\"alert alert-success\">\n",
    "\n",
    "**Answer:** The capacity calculated by the refrigerant is $\\dot{Q}_{in,r} =$ 0.77 ton_of_refrigeration and the capacity calculated by the air is $\\dot{Q}_{in,a} =$ -0.77 ton_of_refrigeration. As expected, they are the same, but with opposite sign, since the air is losing energy while the refrigerant is gaining energy.\n",
    "\n",
    "</div>"
   ]
  },
  {
   "cell_type": "markdown",
   "metadata": {
    "deletable": true,
    "editable": true
   },
   "source": [
    "### 3. coefficient of performance"
   ]
  },
  {
   "cell_type": "markdown",
   "metadata": {
    "deletable": true,
    "editable": true
   },
   "source": [
    "The COP of this cycle is\n",
    "$$\\beta = \\frac{\\dot{Q}_{in}}{\\dot{W}_c}$$"
   ]
  },
  {
   "cell_type": "code",
   "execution_count": 7,
   "metadata": {
    "collapsed": false,
    "deletable": true,
    "editable": true
   },
   "outputs": [],
   "source": [
    "beta = abs(Qdot_in_r.to('kW')/Wdot_c.to('kW'))"
   ]
  },
  {
   "cell_type": "markdown",
   "metadata": {
    "deletable": true,
    "editable": true,
    "variables": {
     "format(beta, round_2f)": "6.21 "
    }
   },
   "source": [
    "<div class=\"alert alert-success\">\n",
    "\n",
    "**Answer:** The COP is $\\beta =$ 6.21 \n",
    "\n",
    "</div>"
   ]
  }
 ],
 "metadata": {
  "anaconda-cloud": {},
  "kernelspec": {
   "display_name": "Python 3",
   "language": "python",
   "name": "python3"
  },
  "language_info": {
   "codemirror_mode": {
    "name": "ipython",
    "version": 3
   },
   "file_extension": ".py",
   "mimetype": "text/x-python",
   "name": "python",
   "nbconvert_exporter": "python",
   "pygments_lexer": "ipython3",
   "version": "3.6.0"
  }
 },
 "nbformat": 4,
 "nbformat_minor": 2
}
