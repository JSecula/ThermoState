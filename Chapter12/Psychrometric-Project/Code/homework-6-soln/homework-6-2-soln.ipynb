{
 "cells": [
  {
   "cell_type": "markdown",
   "metadata": {
    "deletable": true,
    "editable": true
   },
   "source": [
    "# Homework 6-2\n",
    "\n",
    "---\n",
    "\n",
    "## Imports"
   ]
  },
  {
   "cell_type": "code",
   "execution_count": 1,
   "metadata": {
    "collapsed": false,
    "deletable": true,
    "editable": true
   },
   "outputs": [],
   "source": [
    "from thermostate import State, Q_, units\n",
    "from numpy import sqrt"
   ]
  },
  {
   "cell_type": "markdown",
   "metadata": {
    "deletable": true,
    "editable": true
   },
   "source": [
    "---\n",
    "\n",
    "## Definitions"
   ]
  },
  {
   "cell_type": "code",
   "execution_count": 2,
   "metadata": {
    "collapsed": false,
    "deletable": true,
    "editable": true
   },
   "outputs": [],
   "source": [
    "substance = 'water'\n",
    "T = Q_(375.0, 'degC')\n",
    "V = Q_(17.8, 'm**3')\n",
    "m = Q_(513.0, 'kg')\n",
    "p_limit = Q_(80.0, 'bar')"
   ]
  },
  {
   "cell_type": "markdown",
   "metadata": {
    "deletable": true,
    "editable": true
   },
   "source": [
    "---\n",
    "\n",
    "## Problem Statement"
   ]
  },
  {
   "cell_type": "markdown",
   "metadata": {
    "deletable": true,
    "editable": true,
    "variables": {
     "format(V)": "17.8 m<sup>3</sup>",
     "format(p_limit)": "80.0 bar",
     "format(substance)": "water"
    }
   },
   "source": [
    "The pressure within a 17.8 m<sup>3</sup> tank should not exceed 80.0 bar. If water is in the tank, evaluate the actual pressure and determine whether the safe pressure is exceeded using\n",
    "\n",
    "1. the ideal gas equation of state\n",
    "2. the van der Waals equation of state\n",
    "3. the Redlich-Kwong equation of state\n",
    "4. the compressibility chart\n",
    "5. ThermoState"
   ]
  },
  {
   "cell_type": "markdown",
   "metadata": {
    "deletable": true,
    "editable": true
   },
   "source": [
    "---\n",
    "\n",
    "## Solution"
   ]
  },
  {
   "cell_type": "markdown",
   "metadata": {
    "deletable": true,
    "editable": true
   },
   "source": [
    "### 1. the ideal gas equation of state"
   ]
  },
  {
   "cell_type": "markdown",
   "metadata": {
    "deletable": true,
    "editable": true
   },
   "source": [
    "The ideal gas EOS is\n",
    "$$pV = mRT$$"
   ]
  },
  {
   "cell_type": "code",
   "execution_count": 3,
   "metadata": {
    "collapsed": false,
    "deletable": true,
    "editable": true
   },
   "outputs": [],
   "source": [
    "MW_water = Q_(18.0, 'g/mol')\n",
    "p_igl = (m*units.molar_gas_constant*T/(V*MW_water)).to('bar')"
   ]
  },
  {
   "cell_type": "markdown",
   "metadata": {
    "collapsed": false,
    "deletable": true,
    "editable": true,
    "variables": {
     "format(p_igl, round_2f)": "86.28 bar"
    }
   },
   "source": [
    "<div class=\"alert alert-success\">\n",
    "\n",
    "**Answer:** The pressure is 86.28 bar, which exceeds the safe pressure limit\n",
    "\n",
    "</div>"
   ]
  },
  {
   "cell_type": "markdown",
   "metadata": {
    "deletable": true,
    "editable": true
   },
   "source": [
    "### 2. the van der Waals equation of state"
   ]
  },
  {
   "cell_type": "markdown",
   "metadata": {
    "deletable": true,
    "editable": true
   },
   "source": [
    "The vdW EOS is\n",
    "$$p = \\frac{\\overline{R}T}{\\overline{v} - b} - \\frac{a}{\\overline{v}^2}$$"
   ]
  },
  {
   "cell_type": "code",
   "execution_count": 4,
   "metadata": {
    "collapsed": false,
    "deletable": true,
    "editable": true
   },
   "outputs": [],
   "source": [
    "n = m/MW_water\n",
    "v_bar = V/n\n",
    "a = Q_(5.531, 'bar*m**6/kmol**2')\n",
    "b = Q_(0.0305, 'm**3/kmol')\n",
    "\n",
    "p_vdW = (units.molar_gas_constant*T/(v_bar - b) - a/v_bar**2).to('bar')"
   ]
  },
  {
   "cell_type": "markdown",
   "metadata": {
    "deletable": true,
    "editable": true,
    "variables": {
     "format(p_vdW, round_2f)": "76.54 bar"
    }
   },
   "source": [
    "<div class=\"alert alert-success\">\n",
    "\n",
    "**Answer:** The pressure is 76.54 bar, which is lower than the safe pressure limit\n",
    "\n",
    "</div>"
   ]
  },
  {
   "cell_type": "markdown",
   "metadata": {
    "deletable": true,
    "editable": true
   },
   "source": [
    "### 3. the Relich-Kwong equation of state"
   ]
  },
  {
   "cell_type": "markdown",
   "metadata": {
    "deletable": true,
    "editable": true
   },
   "source": [
    "The R-K EOS is\n",
    "$$p = \\frac{\\overline{R}T}{\\overline{v} - b} - \\frac{a}{\\overline{v}(\\overline{v} + b)\\sqrt{T}}$$"
   ]
  },
  {
   "cell_type": "code",
   "execution_count": 5,
   "metadata": {
    "collapsed": false,
    "deletable": true,
    "editable": true
   },
   "outputs": [],
   "source": [
    "a = Q_(142.59, 'bar*m**6*K**(1/2)/kmol**2')\n",
    "b = Q_(0.02111, 'm**3/kmol')\n",
    "p_RK = (units.molar_gas_constant*T/(v_bar - b) - a/(v_bar*(v_bar + b)*sqrt(T.to('K')))).to('bar')"
   ]
  },
  {
   "cell_type": "markdown",
   "metadata": {
    "deletable": true,
    "editable": true,
    "variables": {
     "format(p_RK, round_2f)": "75.41 bar"
    }
   },
   "source": [
    "<div class=\"alert alert-success\">\n",
    "\n",
    "**Answer:** The pressure is 75.41 bar, which is lower than the safe pressure limit\n",
    "\n",
    "</div>"
   ]
  },
  {
   "cell_type": "markdown",
   "metadata": {
    "deletable": true,
    "editable": true
   },
   "source": [
    "### 4. the compressibility chart"
   ]
  },
  {
   "cell_type": "markdown",
   "metadata": {
    "deletable": true,
    "editable": true
   },
   "source": [
    "To use the compressibility chart, we need to read the value of $p_R$ given $v'_R$ and $T_R$, where\n",
    "$$p_R = \\frac{p}{p_c}$$\n",
    "\n",
    "$$v'_R = \\frac{\\overline{v}p_c}{\\overline{R}T_c}$$\n",
    "\n",
    "and\n",
    "$$T_R = \\frac{T}{T_c}$$"
   ]
  },
  {
   "cell_type": "code",
   "execution_count": 6,
   "metadata": {
    "collapsed": true,
    "deletable": true,
    "editable": true
   },
   "outputs": [],
   "source": [
    "p_c = Q_(220.9, 'bar')\n",
    "T_c = Q_(647.3, 'K')\n",
    "v_R = (v_bar*p_c/(units.molar_gas_constant*T_c)).to('dimensionless')\n",
    "T_R = (T.to('K')/T_c).to('dimensionless')\n",
    "p_R = Q_(0.35, 'dimensionless')\n",
    "p_CC = p_R*p_c"
   ]
  },
  {
   "cell_type": "markdown",
   "metadata": {
    "deletable": true,
    "editable": true,
    "variables": {
     "format(T_R, round_3g)": "1 ",
     "format(p_CC, round_2f)": "77.31 bar",
     "format(p_R, round_3g)": "0.35 ",
     "format(v_R, round_3g)": "2.56 "
    }
   },
   "source": [
    "<div class=\"alert alert-success\">\n",
    "\n",
    "**Answer:** The values for $v'_R =$ 2.56  and $T_R =$ 1 . From Figure A-1, the value of $p_R \\approx$ 0.35 , such that $p =$ 77.31 bar. This value is below the safe pressure limit.\n",
    "\n",
    "</div>"
   ]
  },
  {
   "cell_type": "markdown",
   "metadata": {
    "deletable": true,
    "editable": true
   },
   "source": [
    "### 5. ThermoState"
   ]
  },
  {
   "cell_type": "markdown",
   "metadata": {
    "deletable": true,
    "editable": true
   },
   "source": [
    "We can use the specific volume and the temperature to fix the state."
   ]
  },
  {
   "cell_type": "code",
   "execution_count": 7,
   "metadata": {
    "collapsed": false,
    "deletable": true,
    "editable": true
   },
   "outputs": [],
   "source": [
    "st = State(substance, v=V/m, T=T)\n",
    "p_TS = st.p.to('bar')"
   ]
  },
  {
   "cell_type": "markdown",
   "metadata": {
    "collapsed": true,
    "deletable": true,
    "editable": true,
    "variables": {
     "format(p_TS, round_2f)": "75.18 bar"
    }
   },
   "source": [
    "<div class=\"alert alert-success\">\n",
    "\n",
    "**Answer:** The pressure is 75.18 bar, below the safe pressure limit\n",
    "\n",
    "</div>"
   ]
  }
 ],
 "metadata": {
  "anaconda-cloud": {},
  "kernelspec": {
   "display_name": "Python 3",
   "language": "python",
   "name": "python3"
  },
  "language_info": {
   "codemirror_mode": {
    "name": "ipython",
    "version": 3
   },
   "file_extension": ".py",
   "mimetype": "text/x-python",
   "name": "python",
   "nbconvert_exporter": "python",
   "pygments_lexer": "ipython3",
   "version": "3.6.0"
  }
 },
 "nbformat": 4,
 "nbformat_minor": 2
}
