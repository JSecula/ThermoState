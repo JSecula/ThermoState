{
 "cells": [
  {
   "cell_type": "markdown",
   "metadata": {
    "deletable": true,
    "editable": true
   },
   "source": [
    "# Homework 6-3\n",
    "\n",
    "---\n",
    "\n",
    "## Imports"
   ]
  },
  {
   "cell_type": "code",
   "execution_count": 1,
   "metadata": {
    "collapsed": false,
    "deletable": true,
    "editable": true
   },
   "outputs": [],
   "source": [
    "from thermostate import State, Q_, units\n",
    "import numpy as np\n",
    "from numpy import sqrt, log"
   ]
  },
  {
   "cell_type": "markdown",
   "metadata": {
    "deletable": true,
    "editable": true
   },
   "source": [
    "---\n",
    "\n",
    "## Definitions"
   ]
  },
  {
   "cell_type": "code",
   "execution_count": 2,
   "metadata": {
    "collapsed": false,
    "deletable": true,
    "editable": true
   },
   "outputs": [],
   "source": [
    "substance = 'air'\n",
    "m = Q_(1.0, 'kg')\n",
    "V_1 = Q_(0.01, 'm**3')\n",
    "p_1 = Q_(70.0, 'bar')\n",
    "V_2 = Q_(0.05, 'm**3')"
   ]
  },
  {
   "cell_type": "markdown",
   "metadata": {
    "deletable": true,
    "editable": true
   },
   "source": [
    "---\n",
    "\n",
    "## Problem Statement"
   ]
  },
  {
   "cell_type": "markdown",
   "metadata": {
    "deletable": true,
    "editable": true,
    "variables": {
     "format(V_1)": "0.01 m<sup>3</sup>",
     "format(V_2)": "0.05 m<sup>3</sup>",
     "format(m)": "1.0 kg",
     "format(p_1)": "70.0 bar",
     "format(substance)": "air"
    }
   },
   "source": [
    "1.0 kg of air initially occupying a volume of 0.01 m<sup>3</sup> at a pressure of 70.0 bar expands in a piston-cylinder assembly isothermally and without irreversibilities until the volume is 0.05 m<sup>3</sup>. Using the Redlich-Kwong equation of state, determine the\n",
    "\n",
    "1. temperature during the process, in K\n",
    "2. final pressure, in bar\n",
    "3. work developed in the process, in kJ\n",
    "\n",
    "Hint: The equation for the work in a piston-cylinder is\n",
    "$$W = n \\int_{\\bar{v}_1}^{\\bar{v}_2} p d \\bar{v}$$\n",
    "You will need to perform the symbolic integration of the R-K EOS and then plug in numbers"
   ]
  },
  {
   "cell_type": "markdown",
   "metadata": {
    "deletable": true,
    "editable": true
   },
   "source": [
    "---\n",
    "\n",
    "## Solution"
   ]
  },
  {
   "cell_type": "markdown",
   "metadata": {
    "deletable": true,
    "editable": true
   },
   "source": [
    "### 1. the temperature in the process"
   ]
  },
  {
   "cell_type": "markdown",
   "metadata": {
    "deletable": true,
    "editable": true
   },
   "source": [
    "The R-K EOS is\n",
    "$$p = \\frac{\\overline{R} T}{\\overline{v} - b} - \\frac{a}{\\overline{v}(\\overline{v} + b)\\sqrt{T}}$$\n",
    "\n",
    "This equation cannot be solved for the temperature explicitly, so a guess-and-check method must be used. We guess a temperature, then check the pressure is equal to what we expect."
   ]
  },
  {
   "cell_type": "code",
   "execution_count": 3,
   "metadata": {
    "collapsed": false,
    "deletable": true,
    "editable": true
   },
   "outputs": [],
   "source": [
    "MW_air = Q_(28.97, 'g/mol')\n",
    "v_bar_1 = V_1*MW_air/m\n",
    "a = Q_(15.989, 'bar*(m**6/kmol**2)*K**(1/2)')\n",
    "b = Q_(0.02541, 'm**3/kmol')\n",
    "R_bar = units.molar_gas_constant\n",
    "\n",
    "# Use a bisection method to find the temperature\n",
    "err = 1.0\n",
    "T_guess_a = Q_(200.0, 'K')\n",
    "p_guess_a = R_bar*T_guess_a/(v_bar_1 - b) - a/(v_bar_1*(v_bar_1 + b)*np.sqrt(T_guess_a))\n",
    "err_a = (p_guess_a - p_1)/p_1\n",
    "T_guess_b = Q_(300.0, 'K')\n",
    "while abs(err) >= 1.0E-6:\n",
    "    T_guess = (T_guess_a + T_guess_b)/2\n",
    "    p_guess = R_bar*T_guess/(v_bar_1 - b) - a/(v_bar_1*(v_bar_1 + b)*np.sqrt(T_guess))\n",
    "    err = (p_guess - p_1)/p_1\n",
    "    if np.sign(err) == np.sign(err_a):\n",
    "        T_guess_a = T_guess\n",
    "        p_guess_a = R_bar*T_guess_a/(v_bar_1 - b) - a/(v_bar_1*(v_bar_1 + b)*np.sqrt(T_guess_a))\n",
    "        err_a = (p_guess_a - p_1)/p_1\n",
    "    else:\n",
    "        T_guess_b = T_guess\n",
    "\n",
    "T = T_guess"
   ]
  },
  {
   "cell_type": "markdown",
   "metadata": {
    "deletable": true,
    "editable": true
   },
   "source": [
    "<div class=\"alert alert-success\">\n",
    "\n",
    "**Answer:** The temperature during this process is $T =$ 257.22 K\n",
    "\n",
    "</div>"
   ]
  },
  {
   "cell_type": "markdown",
   "metadata": {
    "collapsed": true,
    "deletable": true,
    "editable": true
   },
   "source": [
    "### 2. the final pressure"
   ]
  },
  {
   "cell_type": "markdown",
   "metadata": {
    "deletable": true,
    "editable": true
   },
   "source": [
    "Now that we know the temperature, we can apply the R-K EOS to find the final pressure."
   ]
  },
  {
   "cell_type": "code",
   "execution_count": 4,
   "metadata": {
    "collapsed": false,
    "deletable": true,
    "editable": true
   },
   "outputs": [],
   "source": [
    "v_bar_2 = V_2*MW_air/m\n",
    "p_2 = (units.molar_gas_constant*T/(v_bar_2 - b) - a/(v_bar_2*(v_bar_2 + b)*np.sqrt(T))).to('bar')"
   ]
  },
  {
   "cell_type": "markdown",
   "metadata": {
    "collapsed": false,
    "deletable": true,
    "editable": true,
    "variables": {
     "format(p_2, round_2f)": "14.56 bar"
    }
   },
   "source": [
    "<div class=\"alert alert-success\">\n",
    "\n",
    "**Answer:** The final presure is $p_2 =$ 14.56 bar\n",
    "\n",
    "</div>"
   ]
  },
  {
   "cell_type": "markdown",
   "metadata": {
    "deletable": true,
    "editable": true
   },
   "source": [
    "### 3. the work output"
   ]
  },
  {
   "cell_type": "markdown",
   "metadata": {
    "deletable": true,
    "editable": true
   },
   "source": [
    "To find the work output, we have to integrate the R-K EOS as a function of the molar specific volume\n",
    "\\begin{align*}\n",
    "W &= n\\int_{\\overline{v}_1}^{\\overline{v}_2} p d \\overline{v} \\\\\n",
    "W &= n\\int_{\\overline{v}_1}^{\\overline{v}_2} \\left[\\frac{\\overline{R} T}{\\overline{v} - b} - \\frac{a}{\\overline{v}(\\overline{v} + b)\\sqrt{T}}\\right] d \\overline{v} \\\\\n",
    "W &= n\\left\\{\\overline{R}T\\ln{\\left[\\frac{b - \\overline{v}_2}{b - \\overline{v}_1}\\right]} - \\frac{a \\ln{\\left[\\frac{\\left(b + \\overline{v}_1\\right)\\overline{v}_2}{\\left(b + \\overline{v}_2\\right)\\overline{v}_1}\\right]}}{b\\sqrt{T}}\\right\\}\n",
    "\\end{align*}"
   ]
  },
  {
   "cell_type": "code",
   "execution_count": 5,
   "metadata": {
    "collapsed": false,
    "deletable": true,
    "editable": true
   },
   "outputs": [],
   "source": [
    "n = m/MW_air\n",
    "first_log = (b - v_bar_2)/(b - v_bar_1)\n",
    "second_log = ((b + v_bar_1)*v_bar_2)/((b + v_bar_2)*v_bar_1)\n",
    "W = (n*(units.molar_gas_constant*T*np.log(first_log) - (a*np.log(second_log)/(b*np.sqrt(T))))).to('kJ')"
   ]
  },
  {
   "cell_type": "markdown",
   "metadata": {
    "deletable": true,
    "editable": true,
    "variables": {
     "format(W, round_2f)": "115.25 kJ"
    }
   },
   "source": [
    "<div class=\"alert alert-success\">\n",
    "\n",
    "**Answer:** The work is $W =$ 115.25 kJ\n",
    "\n",
    "</div>"
   ]
  }
 ],
 "metadata": {
  "anaconda-cloud": {},
  "kernelspec": {
   "display_name": "Python 3",
   "language": "python",
   "name": "python3"
  },
  "language_info": {
   "codemirror_mode": {
    "name": "ipython",
    "version": 3
   },
   "file_extension": ".py",
   "mimetype": "text/x-python",
   "name": "python",
   "nbconvert_exporter": "python",
   "pygments_lexer": "ipython3",
   "version": "3.6.0"
  }
 },
 "nbformat": 4,
 "nbformat_minor": 2
}
