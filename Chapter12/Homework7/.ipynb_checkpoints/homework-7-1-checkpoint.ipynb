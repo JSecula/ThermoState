{
 "cells": [
  {
   "cell_type": "markdown",
   "metadata": {
    "deletable": true,
    "editable": true,
    "variables": {
     "format(T_1)": "250.0 K",
     "format(T_2)": "475.0 K",
     "format(mdot)": "1.0 kg/s",
     "format(p_1)": "7.0 bar",
     "format(p_2)": "63.0 bar",
     "format(sub_1)": "oxygen",
     "format(sub_2)": "nitrogen"
    }
   },
   "source": [
    "An equimolar mixture of oxygen and nitrogen enters a compressor operating at steady state at 250.0 K, 7.0 bar with a mass flow rate of 1.0 kg/s. The mixture exits at 63.0 bar, 475.0 K with no significant change in kinetic or potential energy. Stray heat transfer from the compressor can be ignored. Determine for the compressor\n",
    "\n",
    "1. the power required, in kW\n",
    "2. the rate of entropy production, in kW/K"
   ]
  },
  {
   "cell_type": "code",
   "execution_count": 11,
   "metadata": {
    "collapsed": false
   },
   "outputs": [
    {
     "name": "stdout",
     "output_type": "stream",
     "text": [
      "                                     Jason Secula                                    \n",
      "                          Applied Thermodynamics [ME 2234]                           \n",
      "                              Professor Bryan W. Weber                               \n",
      "                                     HomeWork 7.1                                    \n",
      "           \n",
      "The Compressor Work required is 441.34137955975604 kilowatt\n",
      "The entropy produced is 0.030861130938973476 kilowatt / kelvin\n"
     ]
    }
   ],
   "source": [
    "from thermostate import State, Q_, units, SystemInternational as SI\n",
    "#_____________________________________________________________________ Line\n",
    "print('Jason Secula'.center(85))\n",
    "print('Applied Thermodynamics [ME 2234] '.center(85))\n",
    "print('Professor Bryan W. Weber '.center(85))\n",
    "print('HomeWork 7.1'.center(85))\n",
    "print('           ')\n",
    "#_____________________________________________________________________ Line\n",
    "\n",
    "sub_1 = 'oxygen'    #Stable as O2, so it this suppose to be O2? or does it not matter?\n",
    "sub_2 = 'nitrogen'  \n",
    "mdot = Q_(1.0, 'kg/s')\n",
    "\n",
    "T_1 = Q_(250.0, 'K')\n",
    "p_1 = Q_(7.0, 'bar')\n",
    "st_1a = State(sub_1, T=T_1, p=p_1) #Oxygen In\n",
    "st_1b = State(sub_2, T=T_1, p=p_1) #Nitrogen In\n",
    "\n",
    "T_2 = Q_(475.0, 'K')\n",
    "p_2 = Q_(63.0, 'bar')\n",
    "st_2a = State(sub_1, T=T_2, p=p_2) #Oxygen Out\n",
    "st_2b = State(sub_2, T=T_2, p=p_2) #Nitrogen out\n",
    "\n",
    "Pwra = (mdot*(st_2a.h-st_1a.h)) #Using Enthalpy of Oxygen\n",
    "Pwrb = (mdot*(st_2b.h-st_1b.h)) #Using Enthalpy of Nitrogen\n",
    "ΔSa = (mdot*(st_2a.s-st_1a.s))  #Using Entropy of Oxygen\n",
    "ΔSb = (mdot*(st_2b.s-st_1b.s))  #Using Entropy of Nitrogen\n",
    "print ('The Compressor Work required is {}'.format((Pwra+Pwrb).to('kW')))\n",
    "print ('The entropy produced is {}'.format((ΔSa+ΔSb).to('kW/K')))"
   ]
  }
 ],
 "metadata": {
  "anaconda-cloud": {},
  "kernelspec": {
   "display_name": "Python 3",
   "language": "python",
   "name": "python3"
  },
  "language_info": {
   "codemirror_mode": {
    "name": "ipython",
    "version": 3
   },
   "file_extension": ".py",
   "mimetype": "text/x-python",
   "name": "python",
   "nbconvert_exporter": "python",
   "pygments_lexer": "ipython3",
   "version": "3.6.0"
  }
 },
 "nbformat": 4,
 "nbformat_minor": 2
}
