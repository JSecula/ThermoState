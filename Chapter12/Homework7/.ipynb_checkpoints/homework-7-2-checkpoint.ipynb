{
 "cells": [
  {
   "cell_type": "code",
   "execution_count": 8,
   "metadata": {
    "collapsed": false
   },
   "outputs": [
    {
     "name": "stdout",
     "output_type": "stream",
     "text": [
      "                                     Jason Secula                                    \n",
      "                          Applied Thermodynamics [ME 2234]                           \n",
      "                              Professor Bryan W. Weber                               \n",
      "                                     HomeWork 7.2                                    \n",
      "           \n",
      "The Temperature exiting the turbine is 610.3372004011075 kelvin\n",
      "The Power created by the Turbine is 829.3805512022966 kilowatt\n"
     ]
    }
   ],
   "source": [
    "from thermostate import State, Q_, units, SystemInternational as SI\n",
    "#_____________________________________________________________________ Line\n",
    "print('Jason Secula'.center(85))\n",
    "print('Applied Thermodynamics [ME 2234] '.center(85))\n",
    "print('Professor Bryan W. Weber '.center(85))\n",
    "print('HomeWork 7.2'.center(85))\n",
    "print('           ')\n",
    "#_____________________________________________________________________ Line\n",
    "R = Q_(8.134,'kJ/(kg*K)')\n",
    "mdot = Q_(2.0, 'kg/s')\n",
    "\n",
    "sub_1 = 'nitrogen'\n",
    "x_1 = Q_(0.66, 'dimensionless')\n",
    "\n",
    "sub_2 = 'carbondioxide'\n",
    "x_2 = Q_(0.17, 'dimensionless')\n",
    "\n",
    "sub_3 = 'water'\n",
    "x_3 = Q_(0.17, 'dimensionless')\n",
    "\n",
    "T_1 = Q_(1000.0, 'K')\n",
    "p_1 = Q_(9.0, 'bar')\n",
    "p_2 = Q_(1.0, 'bar')\n",
    "\n",
    "st_N = State(sub_1, T=T_1, p=p_1)  # Nitrogen\n",
    "st_CO = State(sub_2, T=T_1, p=p_1) # CarbonDioxide\n",
    "st_HO = State(sub_3, T=T_1, p=p_1) # Water\n",
    "#4th Attempt at finding T, equations from chapter 11\n",
    "cv = ((x_1*st_N.cv)+(x_2*st_CO.cv)+(x_3*st_HO.cv)) #total cv\n",
    "cp = ((x_1*st_N.cp)+(x_2*st_CO.cp)+(x_3*st_HO.cp)) #total cp\n",
    "v = (cp/cv)\n",
    "T_2 = (((p_2/p_1)**((v-1)/v))*T_1).to('K') \n",
    "Pwr = (mdot*(cv*(T_1-T_2))).to('kW') #Chapter 9\n",
    "print ('The Temperature exiting the turbine is {}'.format(T_2))\n",
    "print ('The Power output of the Turbine is {}'.format(Pwr))"
   ]
  }
 ],
 "metadata": {
  "anaconda-cloud": {},
  "kernelspec": {
   "display_name": "Python 3",
   "language": "python",
   "name": "python3"
  },
  "language_info": {
   "codemirror_mode": {
    "name": "ipython",
    "version": 3
   },
   "file_extension": ".py",
   "mimetype": "text/x-python",
   "name": "python",
   "nbconvert_exporter": "python",
   "pygments_lexer": "ipython3",
   "version": "3.6.0"
  }
 },
 "nbformat": 4,
 "nbformat_minor": 2
}
