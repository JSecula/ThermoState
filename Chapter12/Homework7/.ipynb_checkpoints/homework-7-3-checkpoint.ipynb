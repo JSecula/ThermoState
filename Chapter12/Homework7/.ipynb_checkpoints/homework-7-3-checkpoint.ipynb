{
 "cells": [
  {
   "cell_type": "code",
   "execution_count": 27,
   "metadata": {
    "collapsed": false,
    "scrolled": true
   },
   "outputs": [
    {
     "name": "stdout",
     "output_type": "stream",
     "text": [
      "                                     Jason Secula                                    \n",
      "                          Applied Thermodynamics [ME 2234]                           \n",
      "                              Professor Bryan W. Weber                               \n",
      "                                     HomeWork 7.3                                    \n",
      "           \n",
      "1. The Relative humity of the room is 30.605657859863143 dimensionless\n",
      "2. The dew point Temperature is 100.4217569018985 degC\n",
      "3. The mass of the Water Vapor in the room is 12.492365776469935 kilogram\n"
     ]
    }
   ],
   "source": [
    "from thermostate import State, Q_, units, SystemInternational as SI\n",
    "#_____________________________________________________________________ Line\n",
    "print('Jason Secula'.center(85))\n",
    "print('Applied Thermodynamics [ME 2234] '.center(85))\n",
    "print('Professor Bryan W. Weber '.center(85))\n",
    "print('HomeWork 7.3'.center(85))\n",
    "print('           ')\n",
    "#_____________________________________________________________________ Line\n",
    "R = Q_(8.134,'kJ/(kg*K)')\n",
    "sub_1 = 'air'\n",
    "sub_2 = 'water'\n",
    "\n",
    "V = Q_(3.0E4, 'm**3')\n",
    "T = Q_(26.0, 'degC')\n",
    "x_water = Q_(1.0,'dimensionless') #P_g Staturation Pressure of Water\n",
    "x_dew = Q_(0.0,'dimensionless') #P_g Staturation Pressure of Water\n",
    "p = Q_(1.0, 'atm').to('pascal')\n",
    "LH_air = State(sub_1, T=T, p=p)\n",
    "LH_w = State(sub_2, T=T, x=x_water) #To get Saturation Temperature of Water\n",
    "ω = Q_(0.01, 'dimensionless')\n",
    "# ω=0.622(p_v/(p-p_v))    Page 788 of TextBook\n",
    "# (p-p_v)/p_v =0.622/ω\n",
    "#62.2 = (p_v/p)-1\n",
    "#63.2*p = p_v\n",
    "p_v = (((ω/0.622)+1)*p)\n",
    "#p_v = p_g(T)\n",
    "#φ = p_v/p_g\n",
    "φ = (p_v/LH_w.p)\n",
    "#T_dew = T_sat(p_v)\n",
    "Dew = State(sub_2, x=x_dew, p=p_v)\n",
    "m_a = ((p*V)/(R*T)).to('kg')\n",
    "m_v = ω*m_a\n",
    "print ('1. The Relative humity of the room is {}'.format(φ))\n",
    "print ('2. The dew point Temperature is {}'.format((Dew.T).to('degC')))\n",
    "print ('3. The mass of the Water Vapor in the room is {}'.format(m_v))\n",
    "\n",
    "\n"
   ]
  }
 ],
 "metadata": {
  "anaconda-cloud": {},
  "kernelspec": {
   "display_name": "Python 3",
   "language": "python",
   "name": "python3"
  },
  "language_info": {
   "codemirror_mode": {
    "name": "ipython",
    "version": 3
   },
   "file_extension": ".py",
   "mimetype": "text/x-python",
   "name": "python",
   "nbconvert_exporter": "python",
   "pygments_lexer": "ipython3",
   "version": "3.6.0"
  }
 },
 "nbformat": 4,
 "nbformat_minor": 2
}
