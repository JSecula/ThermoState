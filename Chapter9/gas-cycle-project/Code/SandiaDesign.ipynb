{
 "cells": [
  {
   "cell_type": "code",
   "execution_count": null,
   "metadata": {
    "collapsed": true
   },
   "outputs": [],
   "source": [
    "from thermostate import State, Q_, units\n",
    "from math import pi\n",
    "#___________________________________\n",
    "import matplotlib.pyplot as plt\n",
    "import scipy.special as special\n",
    "import numpy as np\n",
    "#_____________________________________________________________________ Line\n",
    "print('SuperCriticalCO_2 through Brayton cycle'.center(85))\n",
    "print(' ')\n",
    "print(' ')\n",
    "print('Jason Secula'.center(85))\n",
    "print('Applied Thermodynamics [ME 2234]'.center(85))\n",
    "print('Professor Bryan W. Weber'.center(85))\n",
    "print('Sandia Design Values'.center(85))\n",
    "print('           ')\n",
    "\n",
    "substance = 'AIR' #R-744 for CO2 did not work...\n",
    "mdot = Q_(3.53, 'kg/s')\n",
    "mdotEq = Q_(3.5474701,'kg/s')\n",
    "Pratio = Q_(1.818450313, 'dimensionless')\n",
    "Chillr = Q_(52.7043019,'rpm')\n",
    "dh.Ideal = Q_(9.911067497,'kJ/kg')\n",
    "η = Q_(66.3818019, 'percent')\n",
    "\n",
    "#_____________________________________________________________________ Line\n",
    "#_____________________State 1, Into Compressor 1._____________________\n",
    "#_____________________________________________________________________\n",
    "p_1 = Q_(7690, 'kPa')\n",
    "T_1 = Q_(305.15, 'K')\n",
    "h_1 = Q_(309.3829231, 'kj/kg')\n",
    "st_1 = State(substance, T=T_1, p=p_1)\n",
    "#_____________________________________________________________________ Line\n",
    "#_____________________State 2____________________\n",
    "#_____________________________________________________________________\n",
    "p_2 = Q_(13984, 'kPa')\n",
    "T_2 = Q_(324.6590279, 'K')\n",
    "h_2 = Q_(324.3133239, 'kj/kg')\n",
    "st_2 = State(substance, T=T_2, p=p_2)\n",
    "#_____________________________________________________________________ Line\n",
    "#_____________________State 3____________________\n",
    "#_____________________________________________________________________\n",
    "p_3 = Q_(7766.90, 'kPa')\n",
    "T_3 = Q_(306.1755619, 'K')\n",
    "h_3 = Q_(324.31, 'kj/kg')\n",
    "st_3 = State(substance, T=T_3, p=p_3)\n",
    "#_____________________________________________________________________ Line\n",
    "#_____________________Work Calculations ______________________________\n",
    "#_____________________________________________________________________\n",
    "\n",
    "\n"
   ]
  }
 ],
 "metadata": {
  "kernelspec": {
   "display_name": "Python 3",
   "language": "python",
   "name": "python3"
  },
  "language_info": {
   "codemirror_mode": {
    "name": "ipython",
    "version": 3
   },
   "file_extension": ".py",
   "mimetype": "text/x-python",
   "name": "python",
   "nbconvert_exporter": "python",
   "pygments_lexer": "ipython3",
   "version": "3.6.0"
  }
 },
 "nbformat": 4,
 "nbformat_minor": 2
}
