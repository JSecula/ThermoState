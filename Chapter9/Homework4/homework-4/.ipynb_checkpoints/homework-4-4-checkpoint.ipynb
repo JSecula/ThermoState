{
 "cells": [
  {
   "cell_type": "markdown",
   "metadata": {
    "variables": {
     "format(T_1)": "280.0 K",
     "format(T_3)": "2100.0 K",
     "format(Vdot)": "60.0 m<sup>3</sup>/s",
     "format(eta_c, \".0%~H\")": "95% ",
     "format(eta_t, \".0%~H\")": "92% ",
     "format(p2_p1)": "20.0 ",
     "format(p_1)": "0.8 bar"
    }
   },
   "source": [
    "An air-standard Brayton cycle operates at steady state with compressor inlet conditions of 280.0 K and 0.8 bar, a fixed turbine inlet temperature of 2100.0 K and a compressor pressure ratio of 20.0 . The volumetric flow rate of the air at the inlet to the compressor is 60.0 m<sup>3</sup>/s and the isentropic efficiencies of the turbine and compressor are 92%  and 95%  respectively. For the cycle,\n",
    "\n",
    "1. determine the net power output, in MW\n",
    "2. the rate of heat addition in the combustor, in MW\n",
    "3. determine the thermal efficiency"
   ]
  },
  {
   "cell_type": "code",
   "execution_count": 8,
   "metadata": {
    "collapsed": false
   },
   "outputs": [
    {
     "name": "stdout",
     "output_type": "stream",
     "text": [
      "Jason Secula\n",
      "Homework 4.4\n",
      "           \n",
      "1) The Net Work Output is  = 42.111643156430674 megawatt\n",
      "2) The Heat Input is  = 102708432.00942758 joule / second\n",
      "3) The Thermal Efficiency is  = 4.1001154756763553e-07 megawatt * second / joule\n",
      "60.0 meter ** 3 / second\n",
      "59.74541396211747 kilogram / second\n"
     ]
    }
   ],
   "source": [
    "from thermostate import State, Q_, units\n",
    "from math import pi\n",
    "#____________________________________________ Line\n",
    "substance = 'air'\n",
    "Vdot = Q_(60.0, 'm**3/s')\n",
    "eta_t = Q_(0.92, 'dimensionless')\n",
    "eta_c = Q_(0.95, 'dimensionless')\n",
    "#____________________________________________ Line\n",
    "print('Jason Secula')\n",
    "print('Homework 4.4')\n",
    "print('           ')\n",
    "#____________________________________________ Line\n",
    "p_1 = Q_(0.8, 'bar')\n",
    "T_1 = Q_(280.0, 'K')\n",
    "st_1 = State(substance, T=T_1, p=p_1)\n",
    "#_________1-2. Isentropic compression___________ Line \n",
    "p12 = Q_(20.0, 'dimensionless')\n",
    "p2 = (p12*p_1)\n",
    "st_2 = State(substance, s=st_1.s, p=p2 )\n",
    "#_________2-3. Isobaric Heat Addition___________ Line \n",
    "T_3 = Q_(2100.0, 'K')\n",
    "st_3 = State(substance, T=T_3, p=p2 )\n",
    "#_________3-4. Isentropic Expansion_____________ Line\n",
    "st_4 = State(substance, p=st_1.p, s=st_3.s) \n",
    "#_________4-1. Isobaric Heat Rejection_________ Line \n",
    "mdot = (Vdot/st_1.v) # This is 59.74541396211747 kilogram / second\n",
    "Wdot_c = (st_1.cp*(st_2.T-T_1)) #Inlet Compresser (Wdot_c/mdot)\n",
    "Wdot_t = (st_1.cp*(T_3-st_4.T))   #Turbine (Wdot_t/mdot)\n",
    "Wnet = (mdot*(Wdot_t-Wdot_c)).to('MW')\n",
    "print('1) The Net Work Output is  = {}'.format(Wnet))\n",
    "Qin = (mdot*(st_3.h-st_2.h))\n",
    "print('2) The Heat Input is  = {}'.format(Qin))\n",
    "eta = (((st_1.h-st_1.h)+(st_3.h-st_4.h))/(st_3.h-st_2.h))\n",
    "print('3) The Thermal Efficiency is  = {}'.format(eta))\n"
   ]
  }
 ],
 "metadata": {
  "anaconda-cloud": {},
  "kernelspec": {
   "display_name": "Python 3",
   "language": "python",
   "name": "python3"
  },
  "language_info": {
   "codemirror_mode": {
    "name": "ipython",
    "version": 3
   },
   "file_extension": ".py",
   "mimetype": "text/x-python",
   "name": "python",
   "nbconvert_exporter": "python",
   "pygments_lexer": "ipython3",
   "version": "3.6.0"
  }
 },
 "nbformat": 4,
 "nbformat_minor": 2
}
