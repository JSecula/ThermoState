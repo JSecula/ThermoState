{
 "cells": [
  {
   "cell_type": "markdown",
   "metadata": {},
   "source": [
    "#### JASON SECULA\n",
    "##HOMEWORK 4"
   ]
  },
  {
   "cell_type": "code",
   "execution_count": 12,
   "metadata": {
    "collapsed": false
   },
   "outputs": [
    {
     "name": "stdout",
     "output_type": "stream",
     "text": [
      "Jason Secula\n",
      "Homework 4.1\n",
      "           \n",
      "1) The Net Work Output of the Atkinson Cycle  = -1303.3800349706426 kilojoule / kilogram\n",
      "2) The Efficiency of the Atkinson Cycle (r) is  = 2.7437131882626145 dimensionless\n",
      "           \n",
      "3) Compairing the Atkinson Cycle vs. Otto Cycle.\n",
      "The Net Work Output of the Otto Cylce is  = 723.0014771842461 kilojoule / kilogram\n",
      "The Thermal Efficiency of the Otto Cycle is  = 0.5164296265601757 dimensionless\n",
      "The Atkinson Cycle is more efficient.\n"
     ]
    }
   ],
   "source": [
    "from thermostate import State, Q_, units\n",
    "from math import pi\n",
    "\n",
    "substance = 'air'\n",
    "r = Q_(8.5, 'dimensionless')\n",
    "q_23 = Q_(1400.0, 'kJ/kg')\n",
    "print('Jason Secula')\n",
    "print('Homework 4.1') #Page 951 Prblm 9.18\n",
    "print('           ')\n",
    "#State1\n",
    "p_1 = Q_(1.0, 'bar') \n",
    "T_1 = Q_(300.0, 'K')\n",
    "st_1 = State(substance, T=T_1, p=p_1)\n",
    "#1-2. Isentropic compression\n",
    "\n",
    "k=(st_1.cp/st_1.cv) #K constant from constnt pressure/volume\n",
    "v_2 = (st_1.v/r)  #Solve for Vol2 using Compression\n",
    "st_2 = State(substance, s=st_1.s, v=v_2 )\n",
    "#2-3. Isochoric heat addition\n",
    "\n",
    "u_3 = (q_23+st_2.u)\n",
    "st_3 = State(substance, v=st_2.v, u = u_3 )\n",
    "#3-4. Isentropic expansion\n",
    "\n",
    "st_4 = State(substance, v=st_1.v, s=st_3.s) \n",
    "#4-1. Isobaric heat rejection\n",
    "\n",
    "Wnet = ((st_4.u - st_3.u) - (st_2.u - st_1.u)).to('kJ/kg') #Wout-Win. \n",
    "eta = (1-((k*((r**(1/k))-1)))/(((r**(1/k))-(r-1))))#Equation on Page 591\n",
    "#r_p = (st_3.p/st_2.p) #printed: -24.343881501380096 dimensionless\n",
    "#eta_p = (1-((k*((r_p**(1/k))-1)))/(((r_p**(1/k))-(r_p-1))))#Equation on Page 591\n",
    "#r_v = (st_4.v/st_3.v) #printed: 2.7437131882626145 dimensionless (same as eta)\n",
    "#eta_v = (1-((k*((r_v**(1/k))-1)))/(((r_v**(1/k))-(r_v-1))))#Equation on Page 591\n",
    "print('1) The Net Work Output of the Atkinson Cycle  = {}'.format(Wnet)) #W_net in kJ/kg \n",
    "print('2) The Efficiency of the Atkinson Cycle (r) is  = {}'.format(eta))\n",
    "print('           ')\n",
    "print('3) Compairing the Atkinson Cycle vs. Otto Cycle.') \n",
    "sto1 = State(substance, T=T_1, p=p_1)\n",
    "vo2 = (st_1.v/r)\n",
    "sto2 = State(substance, s=sto1.s, v=vo2)\n",
    "uo3 = (q_23 + sto2.u)\n",
    "sto3 = State(substance, u=uo3, v=vo2)\n",
    "sto4 = State(substance, v=sto1.v, s=sto3.s)\n",
    "WnetO = ((sto3.u -sto4.u)-(sto2.u-sto1.u)).to('kJ/kg')\n",
    "etaO = (1-((sto4.u-sto1.u)/(sto3.u-sto2.u)))\n",
    "print('The Net Work Output of the Otto Cylce is  = {}'.format(WnetO)) #W_net in kJ/kg \n",
    "print('The Thermal Efficiency of the Otto Cycle is  = {}'.format(etaO))\n",
    "if eta < etaO:\n",
    "    diff = Q_((etaO-eta),'percent')\n",
    "    print('The Otto Cycle is more efficient by '.format(diff))    \n",
    "else:\n",
    "    difnc = Q_((eta-etaO),'percent')\n",
    "    print('The Atkinson Cycle is more efficient.')\n",
    "\n"
   ]
  }
 ],
 "metadata": {
  "anaconda-cloud": {},
  "kernelspec": {
   "display_name": "Python 3",
   "language": "python",
   "name": "python3"
  },
  "language_info": {
   "codemirror_mode": {
    "name": "ipython",
    "version": 3
   },
   "file_extension": ".py",
   "mimetype": "text/x-python",
   "name": "python",
   "nbconvert_exporter": "python",
   "pygments_lexer": "ipython3",
   "version": "3.6.0"
  }
 },
 "nbformat": 4,
 "nbformat_minor": 2
}
