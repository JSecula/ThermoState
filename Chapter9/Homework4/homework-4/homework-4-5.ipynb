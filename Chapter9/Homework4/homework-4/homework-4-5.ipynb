{
 "cells": [
  {
   "cell_type": "code",
   "execution_count": 23,
   "metadata": {
    "collapsed": false
   },
   "outputs": [
    {
     "name": "stdout",
     "output_type": "stream",
     "text": [
      "Jason Secula\n",
      "Homework 4.5\n",
      "           \n",
      "1) The Net Work Output is  = 3474.1625143937777 horsepower\n",
      "2) The Thermal Efficiency is  = 0.8717940977669415 dimensionless\n",
      "3) Entropy through the Turbine = 5375.559997889791 joule / kelvin / second\n",
      "3) Entropy through the Condeser = 5375.559997889802 joule / kelvin / second\n"
     ]
    }
   ],
   "source": [
    "from thermostate import State, Q_, units\n",
    "from math import pi\n",
    "substance = 'air'\n",
    "#_______________________________________________ Line\n",
    "print('Jason Secula')\n",
    "print('Homework 4.5')\n",
    "print('           ')\n",
    "#_______________________________________________ Line\n",
    "p_1 = Q_(14.7, 'psi')\n",
    "T_1 = Q_(520.0, 'degR')\n",
    "st_1 = State(substance, T=T_1, p=p_1)\n",
    "#_______________________________________________ Line\n",
    "p12 = Q_(14.0, 'dimensionless') #Given Pressure Ratio\n",
    "p2 = (p12*p_1)\n",
    "st_2 = State(substance, s=st_1.s, p = p2 )\n",
    "#_______________________________________________ Line\n",
    "T_3 = Q_(2500.0, 'degR')\n",
    "st_3 = State(substance, T=T_3, p=p2)\n",
    "#_______________________________________________ Line\n",
    "st_4 = State(substance, p=st_1.p, s=st_3.s) \n",
    "#_______________________________________________ Line\n",
    "Vdot = Q_(10000, 'ft**3/min')\n",
    "mdot = (Vdot/st_1.v).to('kg/s')\n",
    "eta_t = Q_(0.87, 'dimensionless')\n",
    "eta_c = Q_(0.83, 'dimensionless')\n",
    "Wdot_c = (st_1.cp*(st_2.T-T_1)/eta_t) #Inlet Compresser (Wdot_c/mdot)\n",
    "Wdot_t = (st_1.cp*(T_3-st_4.T)/eta_c)   #Turbine (Wdot_t/mdot)\n",
    "Wnet = (mdot*(Wdot_t-Wdot_c)).to('hp')\n",
    "print('1) The Net Work Output is  = {}'.format(Wnet))\n",
    "#_______________________________________________ Line\n",
    "eta = (((st_1.h-st_1.h)+(st_3.h-st_4.h))/(st_3.h-st_2.h))\n",
    "print('2) The Thermal Efficiency is  = {}'.format(eta))\n",
    "#_______________________________________________ Line\n",
    "S_t = (mdot*(st_3.s-st_2.s))#.to('hp/degree R')         #Entropy is Constant, so same value?\n",
    "S_c = (mdot*(st_4.s - st_1.s))#.to('hp/degree R')  #Having issues Converting to hp/R\n",
    "print('3a) Entropy through the Turbine = {}'.format(S_t))\n",
    "print('3b) Entropy through the Condeser = {}'.format(S_c))"
   ]
  }
 ],
 "metadata": {
  "anaconda-cloud": {},
  "kernelspec": {
   "display_name": "Python 3",
   "language": "python",
   "name": "python3"
  },
  "language_info": {
   "codemirror_mode": {
    "name": "ipython",
    "version": 3
   },
   "file_extension": ".py",
   "mimetype": "text/x-python",
   "name": "python",
   "nbconvert_exporter": "python",
   "pygments_lexer": "ipython3",
   "version": "3.6.0"
  }
 },
 "nbformat": 4,
 "nbformat_minor": 2
}
