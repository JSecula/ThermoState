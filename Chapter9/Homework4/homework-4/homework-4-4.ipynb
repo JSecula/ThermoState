{
 "cells": [
  {
   "cell_type": "code",
   "execution_count": 9,
   "metadata": {
    "collapsed": false
   },
   "outputs": [
    {
     "name": "stdout",
     "output_type": "stream",
     "text": [
      "Jason Secula\n",
      "Homework 4.4\n",
      "           \n",
      "1) The Net Work Output is  = 42.111643156430674 megawatt\n",
      "2) The Heat Input is  = 102708432.00942758 joule / second\n",
      "3) The Thermal Efficiency is  = 0.7559171505956533 dimensionless\n"
     ]
    }
   ],
   "source": [
    "from thermostate import State, Q_, units\n",
    "from math import pi\n",
    "#____________________________________________ Line\n",
    "substance = 'air'\n",
    "Vdot = Q_(60.0, 'm**3/s')\n",
    "eta_t = Q_(0.92, 'dimensionless')\n",
    "eta_c = Q_(0.95, 'dimensionless')\n",
    "#____________________________________________ Line\n",
    "print('Jason Secula')\n",
    "print('Homework 4.4')\n",
    "print('           ')\n",
    "#____________________________________________ Line\n",
    "p_1 = Q_(0.8, 'bar')\n",
    "T_1 = Q_(280.0, 'K')\n",
    "st_1 = State(substance, T=T_1, p=p_1)\n",
    "#_________1-2. Isentropic compression___________ Line \n",
    "p12 = Q_(20.0, 'dimensionless')\n",
    "p2 = (p12*p_1)\n",
    "st_2 = State(substance, s=st_1.s, p=p2 )\n",
    "#_________2-3. Isobaric Heat Addition___________ Line \n",
    "T_3 = Q_(2100.0, 'K')\n",
    "st_3 = State(substance, T=T_3, p=p2 )\n",
    "#_________3-4. Isentropic Expansion_____________ Line\n",
    "st_4 = State(substance, p=st_1.p, s=st_3.s) \n",
    "#_________4-1. Isobaric Heat Rejection_________ Line \n",
    "mdot = (Vdot/st_1.v) # This is 59.74541396211747 kilogram / second\n",
    "Wdot_c = (st_1.cp*(st_2.T-T_1)) #Inlet Compresser (Wdot_c/mdot)\n",
    "Wdot_t = (st_1.cp*(T_3-st_4.T))   #Turbine (Wdot_t/mdot)\n",
    "Wnet = (mdot*(Wdot_t-Wdot_c)).to('MW')\n",
    "print('1) The Net Work Output is  = {}'.format(Wnet))\n",
    "Qin = (mdot*(st_3.h-st_2.h))\n",
    "print('2) The Heat Input is  = {}'.format(Qin))\n",
    "eta = (((st_1.h-st_1.h)+(st_3.h-st_4.h))/(st_3.h-st_2.h))\n",
    "print('3) The Thermal Efficiency is  = {}'.format(eta))\n"
   ]
  }
 ],
 "metadata": {
  "anaconda-cloud": {},
  "kernelspec": {
   "display_name": "Python 3",
   "language": "python",
   "name": "python3"
  },
  "language_info": {
   "codemirror_mode": {
    "name": "ipython",
    "version": 3
   },
   "file_extension": ".py",
   "mimetype": "text/x-python",
   "name": "python",
   "nbconvert_exporter": "python",
   "pygments_lexer": "ipython3",
   "version": "3.6.0"
  }
 },
 "nbformat": 4,
 "nbformat_minor": 2
}
