{
 "cells": [
  {
   "cell_type": "code",
   "execution_count": null,
   "metadata": {
    "collapsed": true
   },
   "outputs": [],
   "source": [
    "from thermostate import State, Q_, units\n",
    "import matplotlib.pyplot as plt\n",
    "import numpy as np\n",
    "from math import pi\n",
    "#____________________________________________ Line 4 #\n",
    "substance = 'air'\n",
    "print('Jason Secula')\n",
    "print('Homework 4.2')\n",
    "print('           ')\n",
    "#____________________________________________ Line 11 #\n",
    "p_1 = Q_(1.0, 'bar')\n",
    "T_1 = Q_(300.0, 'K')\n",
    "st_1 = State(substance, T=T_1, p=p_1)\n",
    "#_________1-2. Isentropic compression_________ Line 15 #\n",
    "rp12 = Q_(8.0, 'dimensionless') #Pressure Ratio\n",
    "p2 = (rp12*st_1.p)\n",
    "st_2 = State(substance, s=st_1.s, p=p2)\n",
    "#_________2-3. Isobaric Heat Addition_________ Line 19 #\n",
    "T_3 = Q_(1700.0, 'K')\n",
    "st_3 = State(substance, T=T_3 , p=p2 )\n",
    "#_________3-4. Isentropic Expansion_________ Line 22 #\n",
    "st_4 = State(substance,p=st_1.p, s=st_3.s ) \n",
    "#_________4-1. Isobaric Heat Rejection_________ Line 24 #\n",
    "\n",
    "Wnet = ((st_4.u - st_3.u) - (st_2.u - st_1.u)).to('kJ/kg') #Wout-Win. \n",
    "print('1) The Net Work Output is  = {}'.format(Wnet)) #W_net in kJ/kg \n",
    "eta = (((st_1.h-st_1.h)+(st_3.h-st_4.h))/(st_3.h-st_2.h))\n",
    "print('2) The Thermal Efficiency is  = {}'.format(eta))\n",
    "print('           ')\n",
    "#____________________________________________ Line 31 #\n",
    "p_low = Q_(2.0, 'dimensionless')\n",
    "p_high = Q_(50.0, 'dimensionless')\n",
    "for p_low in range(51):\n",
    "    rp = p_low+1\n",
    "    p2p = (rp * p_1)  #Pressure at State 2 prime.\n",
    "    print('b. New Pressure Ratio = {}'.format(rp))\n",
    "    st_2p = State(substance, s=st_1.s, p=p2p)\n",
    "    Wnet2 = ((st_3.u - st_4.u) - (st_2p.u - st_1.u)).to('kJ/kg') #Wout-Win. \n",
    "    print('Work Output is  = {}'.format(Wnet2)) #W_net in kJ/kg \n",
    "    eta2 = (1-((st_4.u-st_1.u)/(st_3.u-st_2p.u)))\n",
    "    print('Efficiency is  = {}'.format(eta2))\n",
    "    print('           ')\n",
    "    while (p_low < p_high):\n",
    "        plt.lot([rp,Wnet2])\n",
    "        plt.title('The Total Work OutPut over time vs Pressure Ratio')\n",
    "        plt.ylabel('Work OutPut over time (kW)')   \n",
    "        plt.xlabel('Pressure Ratio')\n",
    "        plt.show()\n",
    "        \n",
    "import matplotlib.pyplot as plt\n",
    "\n",
    "x = np.array([,[0,1]])\n",
    "plt.matshow(x, cmap='Blues')\n",
    "plt.show()"
   ]
  }
 ],
 "metadata": {
  "kernelspec": {
   "display_name": "Python 3",
   "language": "python",
   "name": "python3"
  },
  "language_info": {
   "codemirror_mode": {
    "name": "ipython",
    "version": 3
   },
   "file_extension": ".py",
   "mimetype": "text/x-python",
   "name": "python",
   "nbconvert_exporter": "python",
   "pygments_lexer": "ipython3",
   "version": "3.6.0"
  }
 },
 "nbformat": 4,
 "nbformat_minor": 2
}
