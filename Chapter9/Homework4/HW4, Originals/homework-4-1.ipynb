{
 "cells": [
  {
   "cell_type": "markdown",
   "metadata": {},
   "source": [
    "# Homework 4-1\n",
    "\n",
    "---\n",
    "\n",
    "## Imports"
   ]
  },
  {
   "cell_type": "code",
   "execution_count": 1,
   "metadata": {
    "collapsed": false
   },
   "outputs": [],
   "source": [
    "from thermostate import State, Q_, units\n",
    "from math import pi"
   ]
  },
  {
   "cell_type": "markdown",
   "metadata": {},
   "source": [
    "---\n",
    "\n",
    "## Definitions"
   ]
  },
  {
   "cell_type": "code",
   "execution_count": 2,
   "metadata": {
    "collapsed": false
   },
   "outputs": [],
   "source": [
    "substance = 'air'\n",
    "p_1 = Q_(1.0, 'bar')\n",
    "T_1 = Q_(300.0, 'K')\n",
    "r = Q_(8.5, 'dimensionless')\n",
    "q_23 = Q_(1400.0, 'kJ/kg')"
   ]
  },
  {
   "cell_type": "markdown",
   "metadata": {},
   "source": [
    "---\n",
    "\n",
    "## Problem Statement"
   ]
  },
  {
   "cell_type": "markdown",
   "metadata": {
    "variables": {
     "format(T_1)": "300.0 K",
     "format(p_1)": "1.0 bar",
     "format(q_23)": "1400.0 kJ/kg",
     "format(r)": "8.5 "
    }
   },
   "source": [
    "The Atkinson cycle is another type of cycle possible in a reciprocating engine with four processes, which are\n",
    "\n",
    "1-2. Isentropic compression  \n",
    "2-3. Isochoric heat addition  \n",
    "3-4. Isentropic expansion  \n",
    "4-1. Isobaric heat rejection\n",
    "\n",
    "Consider an air-standard Atkinson cycle with conditions prior to compression of 1.0 bar and 300.0 K. The engine has a compression ratio of 8.5 , and 1400.0 kJ/kg of energy are added per unit mass in the heat addition. Determine\n",
    "\n",
    "1. the net work output, in kJ/kg\n",
    "2. the thermal efficiency of the cycle\n",
    "3. the thermal efficiency of an Otto cycle with the same conditions prior to compression, compression ratio, and heat addition. Which cycle, Atkinson or Otto has the greater thermal efficiency?"
   ]
  }
 ],
 "metadata": {
  "anaconda-cloud": {},
  "kernelspec": {
   "display_name": "Python 3",
   "language": "python",
   "name": "python3"
  },
  "language_info": {
   "codemirror_mode": {
    "name": "ipython",
    "version": 3
   },
   "file_extension": ".py",
   "mimetype": "text/x-python",
   "name": "python",
   "nbconvert_exporter": "python",
   "pygments_lexer": "ipython3",
   "version": "3.5.2"
  }
 },
 "nbformat": 4,
 "nbformat_minor": 2
}
