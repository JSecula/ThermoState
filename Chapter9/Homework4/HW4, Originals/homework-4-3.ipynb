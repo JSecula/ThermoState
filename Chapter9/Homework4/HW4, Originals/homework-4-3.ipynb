{
 "cells": [
  {
   "cell_type": "markdown",
   "metadata": {},
   "source": [
    "# Homework 4-3\n",
    "\n",
    "---\n",
    "\n",
    "## Imports"
   ]
  },
  {
   "cell_type": "code",
   "execution_count": 1,
   "metadata": {
    "collapsed": false
   },
   "outputs": [],
   "source": [
    "from thermostate import State, Q_, units\n",
    "from math import pi"
   ]
  },
  {
   "cell_type": "markdown",
   "metadata": {},
   "source": [
    "---\n",
    "\n",
    "## Definitions"
   ]
  },
  {
   "cell_type": "code",
   "execution_count": 2,
   "metadata": {
    "collapsed": false
   },
   "outputs": [],
   "source": [
    "substance = 'air'\n",
    "p_1 = Q_(1.0, 'bar')\n",
    "T_1 = Q_(300.0, 'K')\n",
    "mdot = Q_(6.0, 'kg/s')\n",
    "T_3 = Q_(1400.0, 'K')\n",
    "p2_p1 = Q_(10.0, 'dimensionless')\n",
    "T_3_low = Q_(1000.0, 'K')\n",
    "T_3_high = Q_(1800.0, 'K')"
   ]
  },
  {
   "cell_type": "markdown",
   "metadata": {},
   "source": [
    "---\n",
    "\n",
    "## Problem Statement"
   ]
  },
  {
   "cell_type": "markdown",
   "metadata": {
    "variables": {
     "format(T_1)": "300.0 K",
     "format(T_3)": "1400.0 K",
     "format(T_3_high)": "1800.0 K",
     "format(T_3_low)": "1000.0 K",
     "format(mdot)": "6.0 kg/s",
     "format(p2_p1)": "10.0 ",
     "format(p_1)": "1.0 bar"
    }
   },
   "source": [
    "An ideal cold air-standard Brayton cycle operates at steady state with compressor inlet conditions of 300.0 K and 1.0 bar and a fixed turbine inlet temperature of 1400.0 K and a compressor pressure ratio of 10.0 . The mass flow rate of the air is 6.0 kg/s. For the cycle,\n",
    "\n",
    "3. determine the back work ratio\n",
    "1. determine the net power output, in kW\n",
    "2. determine the thermal efficiency\n",
    "3. plot the net power output, in kW, and the thermal efficiency, as a function of the turbine inlet temperature from 1000.0 K to 1800.0 K"
   ]
  }
 ],
 "metadata": {
  "anaconda-cloud": {},
  "kernelspec": {
   "display_name": "Python 3",
   "language": "python",
   "name": "python3"
  },
  "language_info": {
   "codemirror_mode": {
    "name": "ipython",
    "version": 3
   },
   "file_extension": ".py",
   "mimetype": "text/x-python",
   "name": "python",
   "nbconvert_exporter": "python",
   "pygments_lexer": "ipython3",
   "version": "3.5.2"
  }
 },
 "nbformat": 4,
 "nbformat_minor": 2
}
