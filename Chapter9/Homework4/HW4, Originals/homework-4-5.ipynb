{
 "cells": [
  {
   "cell_type": "markdown",
   "metadata": {},
   "source": [
    "# Homework 4-5\n",
    "\n",
    "---\n",
    "\n",
    "## Imports"
   ]
  },
  {
   "cell_type": "code",
   "execution_count": 1,
   "metadata": {
    "collapsed": false
   },
   "outputs": [],
   "source": [
    "from thermostate import State, Q_, units\n",
    "from math import pi"
   ]
  },
  {
   "cell_type": "markdown",
   "metadata": {},
   "source": [
    "---\n",
    "\n",
    "## Definitions"
   ]
  },
  {
   "cell_type": "code",
   "execution_count": 2,
   "metadata": {
    "collapsed": false
   },
   "outputs": [],
   "source": [
    "substance = 'air'\n",
    "p_1 = Q_(14.7, 'psi')\n",
    "T_1 = Q_(520.0, 'degR')\n",
    "Vdot = Q_(10000, 'ft**3/min')\n",
    "T_3 = Q_(2500.0, 'degR')\n",
    "p2_p1 = Q_(14.0, 'dimensionless')\n",
    "eta_t = Q_(0.87, 'dimensionless')\n",
    "eta_c = Q_(0.83, 'dimensionless')"
   ]
  },
  {
   "cell_type": "markdown",
   "metadata": {},
   "source": [
    "---\n",
    "\n",
    "## Problem Statement"
   ]
  },
  {
   "cell_type": "markdown",
   "metadata": {
    "variables": {
     "format(T_1)": "520.0 rankine",
     "format(T_3)": "2500.0 rankine",
     "format(Vdot)": "10000 ft<sup>3</sup>/min",
     "format(eta_c, \".0%~H\")": "83% ",
     "format(eta_t, \".0%~H\")": "87% ",
     "format(p2_p1)": "14.0 ",
     "format(p_1)": "14.7 psi"
    }
   },
   "source": [
    "An air-standard Brayton cycle operates at steady state with compressor inlet conditions of 520.0 rankine and 14.7 psi, a fixed turbine inlet temperature of 2500.0 rankine and a compressor pressure ratio of 14.0 . The volumetric flow rate of the air at the inlet to the compressor is 10000 ft<sup>3</sup>/min and the isentropic efficiencies of the turbine and compressor are 87%  and 83%  respectively. For the cycle,\n",
    "\n",
    "1. determine the net power output, in hp\n",
    "2. determine the thermal efficiency\n",
    "3. determine the rate at which entropy is produced within the turbine and the compressor, in hp/°R"
   ]
  }
 ],
 "metadata": {
  "anaconda-cloud": {},
  "kernelspec": {
   "display_name": "Python 3",
   "language": "python",
   "name": "python3"
  },
  "language_info": {
   "codemirror_mode": {
    "name": "ipython",
    "version": 3
   },
   "file_extension": ".py",
   "mimetype": "text/x-python",
   "name": "python",
   "nbconvert_exporter": "python",
   "pygments_lexer": "ipython3",
   "version": "3.5.2"
  }
 },
 "nbformat": 4,
 "nbformat_minor": 2
}
