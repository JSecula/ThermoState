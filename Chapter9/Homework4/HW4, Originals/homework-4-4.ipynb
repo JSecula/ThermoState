{
 "cells": [
  {
   "cell_type": "markdown",
   "metadata": {},
   "source": [
    "# Homework 4-4\n",
    "\n",
    "---\n",
    "\n",
    "## Imports"
   ]
  },
  {
   "cell_type": "code",
   "execution_count": 1,
   "metadata": {
    "collapsed": false
   },
   "outputs": [],
   "source": [
    "from thermostate import State, Q_, units\n",
    "from math import pi"
   ]
  },
  {
   "cell_type": "markdown",
   "metadata": {},
   "source": [
    "---\n",
    "\n",
    "## Definitions"
   ]
  },
  {
   "cell_type": "code",
   "execution_count": 2,
   "metadata": {
    "collapsed": false
   },
   "outputs": [],
   "source": [
    "substance = 'air'\n",
    "p_1 = Q_(0.8, 'bar')\n",
    "T_1 = Q_(280.0, 'K')\n",
    "Vdot = Q_(60.0, 'm**3/s')\n",
    "T_3 = Q_(2100.0, 'K')\n",
    "p2_p1 = Q_(20.0, 'dimensionless')\n",
    "eta_t = Q_(0.92, 'dimensionless')\n",
    "eta_c = Q_(0.95, 'dimensionless')"
   ]
  },
  {
   "cell_type": "markdown",
   "metadata": {},
   "source": [
    "---\n",
    "\n",
    "## Problem Statement"
   ]
  },
  {
   "cell_type": "markdown",
   "metadata": {
    "variables": {
     "format(T_1)": "280.0 K",
     "format(T_3)": "2100.0 K",
     "format(Vdot)": "60.0 m<sup>3</sup>/s",
     "format(eta_c, \".0%~H\")": "95% ",
     "format(eta_t, \".0%~H\")": "92% ",
     "format(p2_p1)": "20.0 ",
     "format(p_1)": "0.8 bar"
    }
   },
   "source": [
    "An air-standard Brayton cycle operates at steady state with compressor inlet conditions of 280.0 K and 0.8 bar, a fixed turbine inlet temperature of 2100.0 K and a compressor pressure ratio of 20.0 . The volumetric flow rate of the air at the inlet to the compressor is 60.0 m<sup>3</sup>/s and the isentropic efficiencies of the turbine and compressor are 92%  and 95%  respectively. For the cycle,\n",
    "\n",
    "1. determine the net power output, in MW\n",
    "2. the rate of heat addition in the combustor, in MW\n",
    "3. determine the thermal efficiency"
   ]
  }
 ],
 "metadata": {
  "anaconda-cloud": {},
  "kernelspec": {
   "display_name": "Python 3",
   "language": "python",
   "name": "python3"
  },
  "language_info": {
   "codemirror_mode": {
    "name": "ipython",
    "version": 3
   },
   "file_extension": ".py",
   "mimetype": "text/x-python",
   "name": "python",
   "nbconvert_exporter": "python",
   "pygments_lexer": "ipython3",
   "version": "3.5.2"
  }
 },
 "nbformat": 4,
 "nbformat_minor": 2
}
