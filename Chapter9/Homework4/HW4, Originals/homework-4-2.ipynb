{
 "cells": [
  {
   "cell_type": "markdown",
   "metadata": {},
   "source": [
    "# Homework 4-2\n",
    "\n",
    "---\n",
    "\n",
    "## Imports"
   ]
  },
  {
   "cell_type": "code",
   "execution_count": 1,
   "metadata": {
    "collapsed": false
   },
   "outputs": [],
   "source": [
    "from thermostate import State, Q_, units\n",
    "from math import pi"
   ]
  },
  {
   "cell_type": "markdown",
   "metadata": {},
   "source": [
    "---\n",
    "\n",
    "## Definitions"
   ]
  },
  {
   "cell_type": "code",
   "execution_count": 2,
   "metadata": {
    "collapsed": false
   },
   "outputs": [],
   "source": [
    "substance = 'air'\n",
    "p_1 = Q_(1.0, 'bar')\n",
    "T_1 = Q_(300.0, 'K')\n",
    "T_3 = Q_(1700.0, 'K')\n",
    "p2_p1 = Q_(8.0, 'dimensionless')\n",
    "p_low = Q_(2.0, 'dimensionless')\n",
    "p_high = Q_(50.0, 'dimensionless')"
   ]
  },
  {
   "cell_type": "markdown",
   "metadata": {},
   "source": [
    "---\n",
    "\n",
    "## Problem Statement"
   ]
  },
  {
   "cell_type": "markdown",
   "metadata": {
    "variables": {
     "format(T_1)": "300.0 K",
     "format(T_3)": "1700.0 K",
     "format(p2_p1)": "8.0 ",
     "format(p_1)": "1.0 bar",
     "format(p_high)": "50.0 ",
     "format(p_low)": "2.0 "
    }
   },
   "source": [
    "An ideal air-standard Brayton cycle operates at steady state with compressor inlet conditions of 300.0 K and 1.0 bar and a fixed turbine inlet temperature of 1700.0 K and a compressor pressure ratio of 8.0 . For the cycle,\n",
    "\n",
    "1. determine the net work developed per unit mass flowing, in kJ/kg\n",
    "2. determine the thermal efficiency\n",
    "3. plot the net work developed per unit mass flowing, in kJ/kg, as a function of the compressor pressure ratio from 2.0  to 50.0 \n",
    "4. plot the thermal efficiency as a function of the compressor pressure ratio from 2.0  to 50.0 "
   ]
  }
 ],
 "metadata": {
  "anaconda-cloud": {},
  "kernelspec": {
   "display_name": "Python 3",
   "language": "python",
   "name": "python3"
  },
  "language_info": {
   "codemirror_mode": {
    "name": "ipython",
    "version": 3
   },
   "file_extension": ".py",
   "mimetype": "text/x-python",
   "name": "python",
   "nbconvert_exporter": "python",
   "pygments_lexer": "ipython3",
   "version": "3.5.2"
  }
 },
 "nbformat": 4,
 "nbformat_minor": 2
}
