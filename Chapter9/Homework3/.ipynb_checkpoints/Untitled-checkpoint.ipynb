{
 "cells": [
  {
   "cell_type": "code",
   "execution_count": null,
   "metadata": {
    "collapsed": false
   },
   "outputs": [],
   "source": [
    "from thermostate import State, Q_, units\n",
    "from math import pi\n",
    "x = 1\n",
    "while True:\n",
    "    print('X indexed is: ', x)\n",
    "if x > 100:\n",
    "    x =+ 1\n",
    "    print('The new value of X={}'.format(x))\n",
    "    if x > 100:\n",
    "        S = (x/(3**x))\n",
    "        print('Sn is Equal to Sn={}'.format(S))\n",
    "\n"
   ]
  }
 ],
 "metadata": {
  "kernelspec": {
   "display_name": "Python 3",
   "language": "python",
   "name": "python3"
  },
  "language_info": {
   "codemirror_mode": {
    "name": "ipython",
    "version": 3
   },
   "file_extension": ".py",
   "mimetype": "text/x-python",
   "name": "python",
   "nbconvert_exporter": "python",
   "pygments_lexer": "ipython3",
   "version": "3.6.0"
  }
 },
 "nbformat": 4,
 "nbformat_minor": 2
}
