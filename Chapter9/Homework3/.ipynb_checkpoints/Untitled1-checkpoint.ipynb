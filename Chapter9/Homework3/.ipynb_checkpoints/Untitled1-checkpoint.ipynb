{
 "cells": [
  {
   "cell_type": "code",
   "execution_count": 31,
   "metadata": {
    "collapsed": false
   },
   "outputs": [
    {
     "name": "stdout",
     "output_type": "stream",
     "text": [
      "Jason Secula\n",
      "Homework 4.2\n",
      "           \n",
      "1) The Net Work Output is  = -782.6833477489292 kilojoule / kilogram\n",
      "2) The Thermal Efficiency is  = 0.5992960243969171 dimensionless\n",
      "           \n",
      "Compression Ratio  = 12,Work Output  = 384653.6573720699 joule / kilogram\n",
      "Compression Ratio  = 13,Work Output  = 374474.981632282 joule / kilogram\n",
      "Compression Ratio  = 14,Work Output  = 364841.07132971904 joule / kilogram\n",
      "Compression Ratio  = 15,Work Output  = 355687.1104811464 joule / kilogram\n",
      "Compression Ratio  = 16,Work Output  = 346959.73132912593 joule / kilogram\n",
      "Compression Ratio  = 17,Work Output  = 338614.41211504734 joule / kilogram\n",
      "Compression Ratio  = 18,Work Output  = 330613.58298897 joule / kilogram\n",
      "Compression Ratio  = 19,Work Output  = 322925.21908674063 joule / kilogram\n",
      "Compression Ratio  = 20,Work Output  = 315521.7766618588 joule / kilogram\n",
      "Compression Ratio  = 21,Work Output  = 308379.37580607575 joule / kilogram\n",
      "Compression Ratio  = 22,Work Output  = 301477.1636839018 joule / kilogram\n",
      "Compression Ratio  = 23,Work Output  = 294796.81208655157 joule / kilogram\n",
      "Compression Ratio  = 24,Work Output  = 288322.1164114025 joule / kilogram\n",
      "Compression Ratio  = 25,Work Output  = 282038.6722532966 joule / kilogram\n",
      "Compression Ratio  = 26,Work Output  = 275933.61210721824 joule / kilogram\n",
      "Compression Ratio  = 27,Work Output  = 269995.3891445638 joule / kilogram\n",
      "Compression Ratio  = 28,Work Output  = 264213.59822787705 joule / kilogram\n",
      "Compression Ratio  = 29,Work Output  = 258578.82665926532 joule / kilogram\n",
      "Compression Ratio  = 30,Work Output  = 253082.52887514653 joule / kilogram\n",
      "Compression Ratio  = 31,Work Output  = 247716.92058053555 joule / kilogram\n",
      "Compression Ratio  = 32,Work Output  = 242474.8887813983 joule / kilogram\n",
      "Compression Ratio  = 33,Work Output  = 237349.91490861785 joule / kilogram\n",
      "Compression Ratio  = 34,Work Output  = 232336.00879205728 joule / kilogram\n",
      "Compression Ratio  = 35,Work Output  = 227427.6516812566 joule / kilogram\n",
      "Compression Ratio  = 36,Work Output  = 222619.74685173773 joule / kilogram\n",
      "Compression Ratio  = 37,Work Output  = 217907.5766056229 joule / kilogram\n",
      "Compression Ratio  = 38,Work Output  = 213286.7646893781 joule / kilogram\n",
      "Compression Ratio  = 39,Work Output  = 208753.24332242075 joule / kilogram\n",
      "Compression Ratio  = 40,Work Output  = 204303.22416785941 joule / kilogram\n",
      "Compression Ratio  = 41,Work Output  = 199933.172687812 joule / kilogram\n",
      "Compression Ratio  = 42,Work Output  = 195639.78541621484 joule / kilogram\n",
      "Compression Ratio  = 43,Work Output  = 191419.9697560271 joule / kilogram\n",
      "Compression Ratio  = 44,Work Output  = 187270.82596857462 joule / kilogram\n",
      "Compression Ratio  = 45,Work Output  = 183189.63107300806 joule / kilogram\n",
      "Compression Ratio  = 46,Work Output  = 179173.82441558188 joule / kilogram\n",
      "Compression Ratio  = 47,Work Output  = 175220.9947032273 joule / kilogram\n",
      "Compression Ratio  = 48,Work Output  = 171328.86832501716 joule / kilogram\n",
      "Compression Ratio  = 49,Work Output  = 167495.29880953592 joule / kilogram\n",
      "Compression Ratio  = 50,Work Output  = 163718.25728690822 joule / kilogram\n",
      "Compression Ratio  = 51,Work Output  = 159995.8238416377 joule / kilogram\n",
      "Compression Ratio  = 52,Work Output  = 156326.17965732224 joule / kilogram\n",
      "Compression Ratio  = 53,Work Output  = 152707.59986697102 joule / kilogram\n",
      "Compression Ratio  = 54,Work Output  = 149138.44703348726 joule / kilogram\n",
      "Compression Ratio  = 55,Work Output  = 145617.16519418976 joule / kilogram\n",
      "Compression Ratio  = 56,Work Output  = 142142.27441126143 joule / kilogram\n",
      "Compression Ratio  = 57,Work Output  = 138712.36577692465 joule / kilogram\n",
      "Compression Ratio  = 58,Work Output  = 135326.0968281126 joule / kilogram\n",
      "Compression Ratio  = 59,Work Output  = 131982.18733063468 joule / kilogram\n",
      "Compression Ratio  = 60,Work Output  = 128679.41539732716 joule / kilogram\n",
      "Compression Ratio  = 61,Work Output  = 125416.61390861927 joule / kilogram\n",
      "Compression Ratio  = 61,Thermal = 0.18025167447631452 dimensionless\n"
     ]
    }
   ],
   "source": [
    "from thermostate import State, Q_, units\n",
    "import matplotlib.pyplot as plt\n",
    "from math import pi\n",
    "#____________________________________________ Line 4 #\n",
    "substance = 'air'\n",
    "print('Jason Secula')\n",
    "print('Homework 4.2')\n",
    "print('           ')\n",
    "#____________________________________________ Line 11 #\n",
    "p_1 = Q_(1.0, 'bar')\n",
    "T_1 = Q_(300.0, 'K')\n",
    "st_1 = State(substance, T=T_1, p=p_1)\n",
    "#_________1-2. Isentropic compression_________ Line 15 #\n",
    "rp12 = Q_(8.0, 'dimensionless') #Pressure Ratio\n",
    "p2 = (rp12*st_1.p)\n",
    "st_2 = State(substance, s=st_1.s, p=p2)\n",
    "#_________2-3. Isobaric Heat Addition_________ Line 19 #\n",
    "T_3 = Q_(1700.0, 'K')\n",
    "st_3 = State(substance, T=T_3 , p=p2 )\n",
    "#_________3-4. Isentropic Expansion_________ Line 22 #\n",
    "st_4 = State(substance,p=st_1.p, s=st_3.s ) \n",
    "#_________4-1. Isobaric Heat Rejection_________ Line 24 #\n",
    "\n",
    "Wnet = ((st_4.u - st_3.u) - (st_2.u - st_1.u)).to('kJ/kg') #Wout-Win. \n",
    "print('1) The Net Work Output is  = {}'.format(Wnet)) #W_net in kJ/kg \n",
    "eta = (((st_1.h-st_1.h)+(st_3.h-st_4.h))/(st_3.h-st_2.h))\n",
    "print('2) The Thermal Efficiency is  = {}'.format(eta))\n",
    "print('           ')\n",
    "#____________________________________________ Line 31 #\n",
    "p_low = 2 #Had to make it readable as an integer for Python\n",
    "p_high = 50\n",
    "for p_low in range(p_high):\n",
    "    rb =(p_low+1)\n",
    "    p2p = (rb*p_1)\n",
    "    st_2p = State(substance, s=st_1.s, p=p2p)\n",
    "    Wnet2 = ((st_3.u - st_4.u) - (st_2p.u - st_1.u)) #Wout-Win. \n",
    "    print('Compression Ratio  = {},'.format(rb)+'Work Output  = {}'.format(Wnet2)) #W_net in kJ/kg \n",
    "    eta2 = (1-((st_4.u-st_1.u)/(st_3.u-st_2p.u)))\n",
    "print('Compression Ratio  = {},'.format(rb)+'Thermal = {}'.format(eta2)) #W_net in kJ/kg \n",
    "\n"
   ]
  },
  {
   "cell_type": "code",
   "execution_count": null,
   "metadata": {
    "collapsed": true
   },
   "outputs": [],
   "source": []
  }
 ],
 "metadata": {
  "kernelspec": {
   "display_name": "Python 3",
   "language": "python",
   "name": "python3"
  },
  "language_info": {
   "codemirror_mode": {
    "name": "ipython",
    "version": 3
   },
   "file_extension": ".py",
   "mimetype": "text/x-python",
   "name": "python",
   "nbconvert_exporter": "python",
   "pygments_lexer": "ipython3",
   "version": "3.6.0"
  }
 },
 "nbformat": 4,
 "nbformat_minor": 2
}
