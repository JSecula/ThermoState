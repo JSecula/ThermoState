{
 "cells": [
  {
   "cell_type": "markdown",
   "metadata": {},
   "source": [
    "###### ---\n",
    "\n",
    "## Jason Secula\n",
    "##Homework 3"
   ]
  },
  {
   "cell_type": "code",
   "execution_count": 7,
   "metadata": {
    "collapsed": false
   },
   "outputs": [
    {
     "name": "stdout",
     "output_type": "stream",
     "text": [
      "Jason Secula\n",
      "Homework 3.1\n",
      "           \n",
      "The Work done by the system = 0.471238898038469 kilojoule\n",
      "           \n",
      "1) The Total Power Producted = 6.5797362673929065 kilowatt\n",
      "           \n"
     ]
    },
    {
     "ename": "SyntaxError",
     "evalue": "can't use starred expression here (<ipython-input-7-cdd2b1a2b8c2>, line 27)",
     "output_type": "error",
     "traceback": [
      "\u001b[0;36m  File \u001b[0;32m\"<ipython-input-7-cdd2b1a2b8c2>\"\u001b[0;36m, line \u001b[0;32m27\u001b[0m\n\u001b[0;31m    Waste = ((  *(Q_in - Q_out))).to('kW')\u001b[0m\n\u001b[0m               ^\u001b[0m\n\u001b[0;31mSyntaxError\u001b[0m\u001b[0;31m:\u001b[0m can't use starred expression here\n"
     ]
    }
   ],
   "source": [
    "from thermostate import State, Q_, units\n",
    "from math import pi\n",
    "print('Jason Secula')\n",
    "print('Homework 3.1')\n",
    "print('           ')\n",
    "rpm = Q_(4000.0, 'revolution/minute')\n",
    "bore = Q_(100.0, 'mm')\n",
    "stroke = Q_(100.0, 'mm')\n",
    "MEP = Q_(0.6, 'MPa')\n",
    "eta = Q_(0.35, 'dimensionless')\n",
    "n_cyl = Q_(4.0, 'dimensionless')\n",
    "units.define('cycle = 2*revolution')  # Define a four-stroke cycle - one cycle is two revolutions of the crankshaft\n",
    "\n",
    "#1) the total power output produced, in kW\n",
    "Vd = ((((bore**2)*pi)/4)*stroke)\n",
    "W_net = (MEP*Vd).to('kJ')\n",
    "Power=((n_cyl*((rpm/2)/60))*(W_net)).to('kW') #(Mep = W_net/Vd >> Mep*Vd=W_net)\n",
    "print('The Work done by the system = {}'.format(W_net)) #W_net\n",
    "print('           ')\n",
    "print('1) The Total Power Producted = {}'.format(Power))\n",
    "print('           ')\n",
    "#2) the waste heat ( Q˙out), in kW\n",
    "Q_in = ((Power)/eta)\n",
    "Q_out = ((eta-1)*(-1*Q_in)) # Eta = 1-(Qout/Qin) \n",
    "#Q_out2 = ((Q_in)+(-1*W_net)) #W_net = (Qin-Qout)\n",
    "#Q_out3 = (Q_in-(eta*Q_in)) #Eta = W_net/Q_in >>  Eta = *([W_net=(Qin-Qout)] / Q_in)*\n",
    "print('The Heat put into the system = {}'.format(Q_in))\n",
    "print('The Heat removed from the system = {}'.format(Q_out))\n",
    "print('           ')\n",
    "print('2) The Waste heat of the system is = {}'.format(Q_out))\n",
    "print('           ')\n",
    "#3) the volumetric air intake per cylinder, in L/s\n",
    "#3.eq) V_dotIn = (RPM/2)*V_d,  V_d = V_btc-V_tdc\n",
    "Vdot_in=((((rpm/2)/60))*Vd).to('L/s')\n",
    "print('3) The Volumetric Air Intake per cylinder is  = {}'.format(Vdot_in)) #W_net\n",
    "\n",
    "\n",
    "\n",
    "#print('1) The Total Power Producted = {}'.format(something) + ', words = {}'.format(somethings))\n",
    "\n"
   ]
  }
 ],
 "metadata": {
  "anaconda-cloud": {},
  "kernelspec": {
   "display_name": "Python 3",
   "language": "python",
   "name": "python3"
  },
  "language_info": {
   "codemirror_mode": {
    "name": "ipython",
    "version": 3
   },
   "file_extension": ".py",
   "mimetype": "text/x-python",
   "name": "python",
   "nbconvert_exporter": "python",
   "pygments_lexer": "ipython3",
   "version": "3.6.0"
  }
 },
 "nbformat": 4,
 "nbformat_minor": 2
}
