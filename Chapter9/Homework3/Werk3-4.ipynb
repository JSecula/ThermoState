{
 "cells": [
  {
   "cell_type": "markdown",
   "metadata": {},
   "source": [
    "---\n",
    "\n",
    "## Problem Statement"
   ]
  },
  {
   "cell_type": "markdown",
   "metadata": {
    "variables": {
     "format(T_1)": "298.0 K",
     "format(T_max)": "2100.0 K",
     "format(p_1)": "100.0 kPa",
     "format(p_max)": "7.0 MPa"
    }
   },
   "source": [
    "At the beginning of the compression process of the air standard Diesel cycle, the working fluid is at 100.0 kPa and 298.0 K. The maximum pressure and temperature in the cycle are 7.0 MPa and 2100.0 K. Determine\n",
    "\n",
    "1. the compression ratio\n",
    "2. the cutoff ratio\n",
    "3. the thermal efficiency\n",
    "4. the MEP, in bar"
   ]
  },
  {
   "cell_type": "code",
   "execution_count": null,
   "metadata": {
    "collapsed": true
   },
   "outputs": [],
   "source": [
    "from thermostate import State, Q_, units\n",
    "from math import pi\n",
    "print('Jason Secula')\n",
    "print('Homework 3.4')\n",
    "print('           ')\n",
    "substance = 'air'\n",
    "T_1 = Q_(298.0, 'K')\n",
    "p_1 = Q_(100.0, 'kPa')\n",
    "T_max = Q_(2100.0, 'K')\n",
    "p_max = Q_(7.0, 'MPa')\n",
    "\n",
    "print('1) The Compression Ratio  = {}'.format(r)) \n",
    "eta = (1-((st_4.u-st_1.u)/(st_3.u-st_4.u)))\n",
    "print('2) The CutOff Ratio = {}'.format(CoR)) \n",
    "eta = (1-((st_4.u-st_1.u)/(st_3.u-st_4.u)))\n",
    "print('3) The Thermal Efficiency is  = {}'.format(eta)) \n",
    "MEP = (Wnet/Vd).to('bar') #V_d = V_btc-V_tdc\n",
    "print('4 ) The MEP is  = {}'.format(MEP))\n"
   ]
  }
 ],
 "metadata": {
  "anaconda-cloud": {},
  "kernelspec": {
   "display_name": "Python 3",
   "language": "python",
   "name": "python3"
  },
  "language_info": {
   "codemirror_mode": {
    "name": "ipython",
    "version": 3
   },
   "file_extension": ".py",
   "mimetype": "text/x-python",
   "name": "python",
   "nbconvert_exporter": "python",
   "pygments_lexer": "ipython3",
   "version": "3.6.0"
  }
 },
 "nbformat": 4,
 "nbformat_minor": 2
}
