{
 "cells": [
  {
   "cell_type": "markdown",
   "metadata": {},
   "source": [
    "---\n",
    "\n",
    "## Problem Statement"
   ]
  },
  {
   "cell_type": "markdown",
   "metadata": {
    "variables": {
     "format(T_1)": "27.0 celsius",
     "format(p_1)": "98.0 kPa",
     "format(q_in)": "632.0 kJ/kg",
     "format(r)": "8.3 "
    }
   },
   "source": [
    "An air-standard Otto cycle has a compression ratio of $r =$ 8.3 . At the beginning of the compression process, the air is at 27.0 celsius, 98.0 kPa, and 632.0 kJ/kg of heat is transferred during the constant-volume heat addition process. Determine\n",
    "\n",
    "1. the pressure ($p_2$) in kPa and the temperature ($T_2$) in K at the end of compression\n",
    "2. the net work output, in kJ/kg\n",
    "3. the thermal efficiency\n",
    "4. the mean effective pressure, in bar"
   ]
  },
  {
   "cell_type": "code",
   "execution_count": 1,
   "metadata": {
    "collapsed": false
   },
   "outputs": [
    {
     "ename": "ImportError",
     "evalue": "cannot import name 'plot'",
     "output_type": "error",
     "traceback": [
      "\u001b[0;31m---------------------------------------------------------------------------\u001b[0m",
      "\u001b[0;31mImportError\u001b[0m                               Traceback (most recent call last)",
      "\u001b[0;32m<ipython-input-1-d636a90d08d7>\u001b[0m in \u001b[0;36m<module>\u001b[0;34m()\u001b[0m\n\u001b[1;32m      1\u001b[0m \u001b[0;32mfrom\u001b[0m \u001b[0mthermostate\u001b[0m \u001b[0;32mimport\u001b[0m \u001b[0mState\u001b[0m\u001b[0;34m,\u001b[0m \u001b[0mQ_\u001b[0m\u001b[0;34m,\u001b[0m \u001b[0munits\u001b[0m\u001b[0;34m\u001b[0m\u001b[0m\n\u001b[1;32m      2\u001b[0m \u001b[0;32mfrom\u001b[0m \u001b[0mmath\u001b[0m \u001b[0;32mimport\u001b[0m \u001b[0mpi\u001b[0m\u001b[0;34m\u001b[0m\u001b[0m\n\u001b[0;32m----> 3\u001b[0;31m \u001b[0;32mfrom\u001b[0m \u001b[0mmath\u001b[0m \u001b[0;32mimport\u001b[0m \u001b[0mplot\u001b[0m\u001b[0;34m\u001b[0m\u001b[0m\n\u001b[0m\u001b[1;32m      4\u001b[0m \u001b[0;34m\u001b[0m\u001b[0m\n\u001b[1;32m      5\u001b[0m \u001b[0mprint\u001b[0m\u001b[0;34m(\u001b[0m\u001b[0;34m'Jason Secula'\u001b[0m\u001b[0;34m)\u001b[0m\u001b[0;34m\u001b[0m\u001b[0m\n",
      "\u001b[0;31mImportError\u001b[0m: cannot import name 'plot'"
     ]
    }
   ],
   "source": [
    "from thermostate import State, Q_, units\n",
    "from math import pi\n",
    "\n",
    "print('Jason Secula')\n",
    "print('Homework 3.2')\n",
    "print('           ')\n",
    "substance = 'air'\n",
    "T_1 = Q_(27.0, 'degC')\n",
    "p_1 = Q_(98.0, 'kPa')\n",
    "r = Q_(8.3, 'dimensionless')\n",
    "q_in = Q_(632.0, 'kJ/kg')\n",
    "\n",
    "st_1 = State(substance, T=T_1, p=p_1)\n",
    "v_r2 = (st_1.v/r)\n",
    "st_2 = State(substance, s=st_1.s, v=v_r2 )\n",
    "#p_2 = (p_1*((st_2.T/T_1)*()))\n",
    "#V_3 and V_2 are equal\n",
    "\n",
    "#v_4 = (r*st_3.v)\n",
    "\n",
    "print('1) The Pressure during at state 2  is = {}'.format(p_2) +', The Temperature at state 2 is = {}'.format(st_2s.h)) \n",
    "print('2) The Net Work Output  = {}'.format(Wnet)) in #W_net in kJ/kg \n",
    "eta = (1-((st_4.u-st_1.u)/(st_3.u-st_4.u)))\n",
    "print('3) The Thermal Efficiency is  = {}'.format(eta)) \n",
    "MEP = (Wnet/Vd).to('bar') #V_d = V_btc-V_tdc\n",
    "print('4) The MEP is  = {}'.format(MEP))\n",
    "\n",
    "\n"
   ]
  }
 ],
 "metadata": {
  "anaconda-cloud": {},
  "kernelspec": {
   "display_name": "Python 3",
   "language": "python",
   "name": "python3"
  },
  "language_info": {
   "codemirror_mode": {
    "name": "ipython",
    "version": 3
   },
   "file_extension": ".py",
   "mimetype": "text/x-python",
   "name": "python",
   "nbconvert_exporter": "python",
   "pygments_lexer": "ipython3",
   "version": "3.6.0"
  }
 },
 "nbformat": 4,
 "nbformat_minor": 2
}
