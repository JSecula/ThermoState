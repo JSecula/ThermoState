{
 "cells": [
  {
   "cell_type": "code",
   "execution_count": 7,
   "metadata": {
    "collapsed": false
   },
   "outputs": [
    {
     "name": "stdout",
     "output_type": "stream",
     "text": [
      "Jason Secula\n",
      "Homework 3.4\n",
      "           \n",
      "From State 2 to State 3, the Diesel Cycle is at Constant Pressure.\n",
      "The Specific Heat durning a =  supercritical phase is = 1198.054996872492 joule / kelvin / kilogram\n",
      "From State 4 to State 1, the Diesel Cycle is at Constant Volume.\n",
      "The Specific Heat during a =  supercritical phase is = 788.2469168329408 joule / kelvin / kilogram\n",
      "1) The Compression Ratio  = 0.10188636230955084 dimensionless\n",
      "2) The CutOff Ratio = 0.855127399150307 meter ** 3 / kilogram\n",
      "3) The Thermal Efficiency is  = 0.42867868671721476 dimensionless\n",
      "4 ) The MEP is  = 6.345806051667074 bar\n"
     ]
    }
   ],
   "source": [
    "from thermostate import State, Q_, units\n",
    "from math import pi\n",
    "print('Jason Secula')\n",
    "print('Homework 3.4')\n",
    "print('           ')\n",
    "substance = 'air'\n",
    "T_1 = Q_(298.0, 'K')\n",
    "p_1 = Q_(100.0, 'kPa')\n",
    "T_3 = Q_(2100.0, 'K')\n",
    "p_2 = Q_(7.0, 'MPa')\n",
    "p_3 = p_2\n",
    "#^_^Given-^-^-^-^-^-^-^-^-^-^-^-^-^\n",
    "#State 1\n",
    "st_1 = State(substance, T=T_1, p=p_1)\n",
    "#State 2\n",
    "st_2 = State(substance, p=p_2, s=st_1.s) #Entropy Constant\n",
    "#State 3\n",
    "st_3 = State(substance, p=p_3, T=T_3)\n",
    "#State 4\n",
    "st_4 = State(substance, v=st_1.v, s=st_3.s) \n",
    "#^_^_^ Entropy Constant at State 3, Volume Constant from 4 to 1.\n",
    "cp = ((st_3.cp+st_2.cp)/2) #Since The CP values were different, I just Averaged them. \n",
    "cv = ((st_4.cv+st_1.cv)/2)\n",
    "print('From State 2 to State 3, the Diesel Cycle is at Constant Pressure.')\n",
    "print ('The Specific Heat durning a =  {}'.format(st_2.phase) + ' phase is = {}'.format(cp))\n",
    "print('From State 4 to State 1, the Diesel Cycle is at Constant Volume.')\n",
    "print ('The Specific Heat during a =  {}'.format(st_1.phase) + ' phase is = {}'.format(cv))\n",
    "k =  (cp/cv)\n",
    "\n",
    "#(r**(k-1)) = (st_2.T/st_1.T)\n",
    "r = (st_3.v/st_1.v) #I'm not sure if this volume will work.\n",
    "#Below is the cutOff Compression Ratio from my notes\n",
    "#r_c = (st_3.v/st_2.v) = 2.173253395664343 dimensionless\n",
    "r_c1 = (st_3.v/r)\n",
    "#r_c2 = (st_4.v/st_3.v) = 9.814856250945569 dimensionless\n",
    "Vd = (st_4.v-st_3.v)\n",
    "print('1) The Compression Ratio  = {}'.format(r)) \n",
    "#r_c = (V_3/V_2) #This is the cut off Ratio given by the book.\n",
    "#(V_4/V_3) = (V_4/V_2)*(V_2/V_3) = (V_1/V_2)*(V_2/V_3) = (r/r_c)\n",
    "print('2) The CutOff Ratio = {}'.format(r_c1)) \n",
    "eta = (1-((st_4.u-st_1.u)/(st_3.u-st_4.u)))\n",
    "print('3) The Thermal Efficiency is  = {}'.format(eta)) \n",
    "MEP = (((st_3.u -st_4.u)-(st_2.u-st_1.u))/Vd).to('bar') #V_d = V_btc-V_tdc\n",
    "print('4 ) The MEP is  = {}'.format(MEP))\n"
   ]
  },
  {
   "cell_type": "code",
   "execution_count": null,
   "metadata": {
    "collapsed": true
   },
   "outputs": [],
   "source": []
  }
 ],
 "metadata": {
  "anaconda-cloud": {},
  "kernelspec": {
   "display_name": "Python 3",
   "language": "python",
   "name": "python3"
  },
  "language_info": {
   "codemirror_mode": {
    "name": "ipython",
    "version": 3
   },
   "file_extension": ".py",
   "mimetype": "text/x-python",
   "name": "python",
   "nbconvert_exporter": "python",
   "pygments_lexer": "ipython3",
   "version": "3.6.0"
  }
 },
 "nbformat": 4,
 "nbformat_minor": 2
}
