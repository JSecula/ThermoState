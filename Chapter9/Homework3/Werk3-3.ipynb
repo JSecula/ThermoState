{
 "cells": [
  {
   "cell_type": "markdown",
   "metadata": {},
   "source": [
    "---\n",
    "\n",
    "## Problem Statement"
   ]
  },
  {
   "cell_type": "markdown",
   "metadata": {
    "variables": {
     "format(T_1)": "27.0 celsius",
     "format(T_max)": "1726.0 celsius",
     "format(V_1)": "566.0 cm<sup>3</sup>",
     "format(p_1)": "101.0 kPa",
     "format(r)": "8.0 "
    }
   },
   "source": [
    "The temperature at the beginning of the compression process of an air standard Otto cycle with a compression ratio of 8.0  is 27.0 celsius, the pressure is 101.0 kPa, and the cylinder volume is 566.0 cm<sup>3</sup>. The maximum temperature during the cycle is 1726.0 celsius. Determine\n",
    "\n",
    "1. the net work output, in kJ\n",
    "2. the thermal efficiency\n",
    "3. the MEP, in bar\n",
    "4. Calculate the same values assuming a cold air standard analysis. Remember that you can get the value of the specific heat by creating a `State` and accessing the `cv` attribute (for instance, like `st_ambient.cv`). Also, note that you should not use any `State`s, other than to get values for $c_v$ and $k$."
   ]
  },
  {
   "cell_type": "code",
   "execution_count": null,
   "metadata": {
    "collapsed": true
   },
   "outputs": [],
   "source": [
    "from thermostate import State, Q_, units\n",
    "from math import pi\n",
    "print('Jason Secula')\n",
    "print('Homework 3.3')\n",
    "print('           ')\n",
    "substance = 'air'\n",
    "T_1 = Q_(27.0, 'degC')\n",
    "p_1 = Q_(101.0, 'kPa')\n",
    "V_1 = Q_(566.0, 'cm**3')\n",
    "r = Q_(8.0, 'dimensionless')\n",
    "T_4 = Q_(1726.0, 'degC')\n",
    "\n",
    "st_1 = State(substance, T=T_1, p=p_1)\n",
    "\n",
    "print('1) The Net Work Output  = {}'.format(Wnet)) #W_net in kJ/kg \n",
    "eta = (1-((st_4.u-st_1.u)/(st_3.u-st_4.u)))\n",
    "print('2) The Thermal Efficiency is  = {}'.format(eta)) \n",
    "MEP = (Wnet/Vd).to('bar') #V_d = V_btc-V_tdc\n",
    "print('3) The MEP is  = {}'.format(MEP))\n",
    "print('4) The cold air  = {}'.format(CASA))"
   ]
  }
 ],
 "metadata": {
  "anaconda-cloud": {},
  "kernelspec": {
   "display_name": "Python 3",
   "language": "python",
   "name": "python3"
  },
  "language_info": {
   "codemirror_mode": {
    "name": "ipython",
    "version": 3
   },
   "file_extension": ".py",
   "mimetype": "text/x-python",
   "name": "python",
   "nbconvert_exporter": "python",
   "pygments_lexer": "ipython3",
   "version": "3.6.0"
  }
 },
 "nbformat": 4,
 "nbformat_minor": 2
}
