{
 "cells": [
  {
   "cell_type": "markdown",
   "metadata": {},
   "source": [
    "---\n",
    "\n",
    "## Problem Statement"
   ]
  },
  {
   "cell_type": "markdown",
   "metadata": {
    "variables": {
     "format(T_1)": "298.0 K",
     "format(T_max)": "2100.0 K",
     "format(p_1)": "100.0 kPa",
     "format(p_max)": "7.0 MPa"
    }
   },
   "source": [
    "At the beginning of the compression process of the air standard Diesel cycle, the working fluid is at 100.0 kPa and 298.0 K. The maximum pressure and temperature in the cycle are 7.0 MPa and 2100.0 K. Determine\n",
    "\n",
    "1. the compression ratio\n",
    "2. the cutoff ratio\n",
    "3. the thermal efficiency\n",
    "4. the MEP, in bar"
   ]
  },
  {
   "cell_type": "code",
   "execution_count": 3,
   "metadata": {
    "collapsed": false
   },
   "outputs": [
    {
     "name": "stdout",
     "output_type": "stream",
     "text": [
      "Jason Secula\n",
      "Homework 3.4\n",
      "           \n",
      "From State 2 to State 3, the Diesel Cycle is at Constant Pressure.\n",
      "The Specific Heat during a =  supercritical phase is = 1139.2119432406714 joule / kelvin / kilogram\n",
      "The Specific Heat during a =  supercritical phase is = 1256.8980505043126 joule / kelvin / kilogram\n",
      "From State 4 to State 1, the Diesel Cycle is at Constant Volume.\n",
      "The Specific Heat during a =  supercritical phase is = 717.8757093981959 joule / kelvin / kilogram\n",
      "The Specific Heat during a =  supercritical phase is = 858.6181242676857 joule / kelvin / kilogram\n",
      "the k  (3CP/4CV) value was found to be  = 1.463861540980537 dimensionless\n",
      "the k1 (2CP/1CV) value was found to be  = 1.586920867117355 dimensionless\n",
      "the k2 (3CP/1CV) value was found to be  = 1.7508574730268918 dimensionless\n",
      "the k3 (2CP/4CV) value was found to be  = 1.3267969904691959 dimensionless\n",
      "1) The Compression Ratio  = 0.10188636230955084 dimensionless\n"
     ]
    },
    {
     "ename": "NameError",
     "evalue": "name 'CoR' is not defined",
     "output_type": "error",
     "traceback": [
      "\u001b[0;31m---------------------------------------------------------------------------\u001b[0m",
      "\u001b[0;31mNameError\u001b[0m                                 Traceback (most recent call last)",
      "\u001b[0;32m<ipython-input-3-dbd01b27548f>\u001b[0m in \u001b[0;36m<module>\u001b[0;34m()\u001b[0m\n\u001b[1;32m     42\u001b[0m \u001b[0;31m#(V_4/V_3) = (V_4/V_2)*(V_2/V_3) = (V_1/V_2)*(V_2/V_3) = (r/r_c)\u001b[0m\u001b[0;34m\u001b[0m\u001b[0;34m\u001b[0m\u001b[0m\n\u001b[1;32m     43\u001b[0m \u001b[0meta\u001b[0m \u001b[0;34m=\u001b[0m \u001b[0;34m(\u001b[0m\u001b[0;36m1\u001b[0m\u001b[0;34m-\u001b[0m\u001b[0;34m(\u001b[0m\u001b[0;34m(\u001b[0m\u001b[0mst_4\u001b[0m\u001b[0;34m.\u001b[0m\u001b[0mu\u001b[0m\u001b[0;34m-\u001b[0m\u001b[0mst_1\u001b[0m\u001b[0;34m.\u001b[0m\u001b[0mu\u001b[0m\u001b[0;34m)\u001b[0m\u001b[0;34m/\u001b[0m\u001b[0;34m(\u001b[0m\u001b[0mst_3\u001b[0m\u001b[0;34m.\u001b[0m\u001b[0mh\u001b[0m\u001b[0;34m-\u001b[0m\u001b[0mst_2\u001b[0m\u001b[0;34m.\u001b[0m\u001b[0mh\u001b[0m\u001b[0;34m)\u001b[0m\u001b[0;34m)\u001b[0m\u001b[0;34m)\u001b[0m\u001b[0;34m\u001b[0m\u001b[0m\n\u001b[0;32m---> 44\u001b[0;31m \u001b[0mprint\u001b[0m\u001b[0;34m(\u001b[0m\u001b[0;34m'2) The CutOff Ratio = {}'\u001b[0m\u001b[0;34m.\u001b[0m\u001b[0mformat\u001b[0m\u001b[0;34m(\u001b[0m\u001b[0mCoR\u001b[0m\u001b[0;34m)\u001b[0m\u001b[0;34m)\u001b[0m\u001b[0;34m\u001b[0m\u001b[0m\n\u001b[0m\u001b[1;32m     45\u001b[0m \u001b[0meta\u001b[0m \u001b[0;34m=\u001b[0m \u001b[0;34m(\u001b[0m\u001b[0;36m1\u001b[0m\u001b[0;34m-\u001b[0m\u001b[0;34m(\u001b[0m\u001b[0;34m(\u001b[0m\u001b[0mst_4\u001b[0m\u001b[0;34m.\u001b[0m\u001b[0mu\u001b[0m\u001b[0;34m-\u001b[0m\u001b[0mst_1\u001b[0m\u001b[0;34m.\u001b[0m\u001b[0mu\u001b[0m\u001b[0;34m)\u001b[0m\u001b[0;34m/\u001b[0m\u001b[0;34m(\u001b[0m\u001b[0mst_3\u001b[0m\u001b[0;34m.\u001b[0m\u001b[0mu\u001b[0m\u001b[0;34m-\u001b[0m\u001b[0mst_4\u001b[0m\u001b[0;34m.\u001b[0m\u001b[0mu\u001b[0m\u001b[0;34m)\u001b[0m\u001b[0;34m)\u001b[0m\u001b[0;34m)\u001b[0m\u001b[0;34m\u001b[0m\u001b[0m\n\u001b[1;32m     46\u001b[0m \u001b[0mprint\u001b[0m\u001b[0;34m(\u001b[0m\u001b[0;34m'3) The Thermal Efficiency is  = {}'\u001b[0m\u001b[0;34m.\u001b[0m\u001b[0mformat\u001b[0m\u001b[0;34m(\u001b[0m\u001b[0meta\u001b[0m\u001b[0;34m)\u001b[0m\u001b[0;34m)\u001b[0m\u001b[0;34m\u001b[0m\u001b[0m\n",
      "\u001b[0;31mNameError\u001b[0m: name 'CoR' is not defined"
     ]
    }
   ],
   "source": [
    "from thermostate import State, Q_, units\n",
    "from math import pi\n",
    "print('Jason Secula')\n",
    "print('Homework 3.4')\n",
    "print('           ')\n",
    "substance = 'air'\n",
    "T_1 = Q_(298.0, 'K')\n",
    "p_1 = Q_(100.0, 'kPa')\n",
    "T_3 = Q_(2100.0, 'K')\n",
    "p_2 = Q_(7.0, 'MPa')\n",
    "p_3 = p_2\n",
    "#^_^Given-^-^-^-^-^-^-^-^-^-^-^-^-^\n",
    "#State 1\n",
    "st_1 = State(substance, T=T_1, p=p_1)\n",
    "#State 2\n",
    "st_2 = State(substance, p=p_2, s=st_1.s) #Entropy Constant\n",
    "#State 3\n",
    "st_3 = State(substance, p=p_3, T=T_3)\n",
    "#State 4\n",
    "st_4 = State(substance, v=st_1.v, s=st_3.s) \n",
    "#^_^_^ Entropy Constant at State 3, Volume Constant from 4 to 1.\n",
    "cp = ((st_3.cp+st_2.cp)/2) #Since The CP values were different, I just Averaged them. \n",
    "cv = ((st_4.cv+st_1.cv)/2)\n",
    "print('From State 2 to State 3, the Diesel Cycle is at Constant Pressure.')\n",
    "print ('The Specific Heat durning a =  {}'.format(st_2.phase) + ' phase is = {}'.format(cp))\n",
    "print('From State 4 to State 1, the Diesel Cycle is at Constant Volume.')\n",
    "print ('The Specific Heat during a =  {}'.format(st_1.phase) + ' phase is = {}'.format(cv))\n",
    "k =  (cp/cv)\n",
    "\n",
    "#(r**(k-1)) = (st_2.T/st_1.T)\n",
    "r = (st_3.v/st_1.v) #I'm not sure if this volume will work.\n",
    "r_c = (st_3.v/st_2.v) #This is the cutOff Compression Ratio from my notes\n",
    "\n",
    "print('1) The Compression Ratio  = {}'.format(r)) \n",
    "#r_c = (V_3/V_2) #This is the cut off Ratio given by the book.\n",
    "#(V_4/V_3) = (V_4/V_2)*(V_2/V_3) = (V_1/V_2)*(V_2/V_3) = (r/r_c)\n",
    "eta = (1-((st_4.u-st_1.u)/(st_3.h-st_2.h)))\n",
    "print('2) The CutOff Ratio = {}'.format(CoR)) \n",
    "eta = (1-((st_4.u-st_1.u)/(st_3.u-st_4.u)))\n",
    "print('3) The Thermal Efficiency is  = {}'.format(eta)) \n",
    "MEP = (Wnet/Vd).to('bar') #V_d = V_btc-V_tdc\n",
    "print('4 ) The MEP is  = {}'.format(MEP))\n"
   ]
  }
 ],
 "metadata": {
  "anaconda-cloud": {},
  "kernelspec": {
   "display_name": "Python 3",
   "language": "python",
   "name": "python3"
  },
  "language_info": {
   "codemirror_mode": {
    "name": "ipython",
    "version": 3
   },
   "file_extension": ".py",
   "mimetype": "text/x-python",
   "name": "python",
   "nbconvert_exporter": "python",
   "pygments_lexer": "ipython3",
   "version": "3.6.0"
  }
 },
 "nbformat": 4,
 "nbformat_minor": 2
}
