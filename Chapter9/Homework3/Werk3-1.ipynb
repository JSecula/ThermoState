{
 "cells": [
  {
   "cell_type": "markdown",
   "metadata": {},
   "source": [
    "# Homework 3-1\n",
    "\n",
    "---\n",
    "\n",
    "## Imports"
   ]
  },
  {
   "cell_type": "markdown",
   "metadata": {},
   "source": [
    "---\n",
    "\n",
    "## Problem Statement"
   ]
  },
  {
   "cell_type": "markdown",
   "metadata": {
    "variables": {
     "format(MEP)": "0.6 MPa",
     "format(bore)": "100.0 mm",
     "format(eta, \".0%~H\")": "35% ",
     "format(rpm)": "4000.0 revolution/min"
    }
   },
   "source": [
    "A four-cylinder four-stroke engine operates at 4000.0 revolution/min. The bore and stroke are 100.0 mm each, the MEP is measured as 0.6 MPa, and the thermal efficiency is 35% . Determine\n",
    "\n",
    "1. the total power output produced, in kW\n",
    "2. the waste heat ($\\dot{Q}_{out}$), in kW\n",
    "3. the volumetric air intake **per cylinder**, in L/s"
   ]
  },
  {
   "cell_type": "code",
   "execution_count": 4,
   "metadata": {
    "collapsed": false
   },
   "outputs": [
    {
     "name": "stdout",
     "output_type": "stream",
     "text": [
      "Jason Secula\n",
      "Homework 3.\n",
      "           \n",
      "The Work done by the system = 471238.89803846896 megapascal * millimeter ** 3\n",
      "1) The Total Power Producted = 9.86960440108936 kilowatt\n"
     ]
    }
   ],
   "source": [
    "from thermostate import State, Q_, units\n",
    "from math import pi\n",
    "print('Jason Secula')\n",
    "print('Homework 3.')\n",
    "print('           ')\n",
    "rpm = Q_(4000.0, 'revolution/minute')\n",
    "bore = Q_(100.0, 'mm')\n",
    "stroke = Q_(100.0, 'mm')\n",
    "MEP = Q_(0.6, 'MPa')\n",
    "eta = Q_(0.35, 'dimensionless')\n",
    "n_cyl = Q_(4.0, 'dimensionless')\n",
    "units.define('cycle = 2*revolution')  # Define a four-stroke cycle - one cycle is two revolutions of the crankshaft\n",
    "\n",
    "#1) the total power output produced, in kW\n",
    "Vd = ((((bore**2)*pi)/4)*stroke)\n",
    "Power=((n_cyl*((rpm/2)/60))*(MEP*Vd)).to('kW') #(Mep = W_net/Vd >> Mep*Vd=W_net)\n",
    "print('The Work done by the system = {}'.format(MEP*Vd))\n",
    "print('1) The Total Power Producted = {}'.format(Power))\n",
    "print('           ')\n",
    "\n",
    "#2) the waste heat ( Q˙out), in kW\n",
    "\n",
    "\n",
    "#3) the volumetric air intake per cylinder, in L/s\n",
    "#3.eq) V_dotIn = (RPM/2)*V_d,  V_d = V_btc-V_tdc\n",
    "\n",
    "\n",
    "#print('1) The Total Power Producted = {}'.format(something) + ', words = {}'.format(somethings))\n",
    "\n"
   ]
  },
  {
   "cell_type": "code",
   "execution_count": null,
   "metadata": {
    "collapsed": true
   },
   "outputs": [],
   "source": []
  }
 ],
 "metadata": {
  "anaconda-cloud": {},
  "kernelspec": {
   "display_name": "Python 3",
   "language": "python",
   "name": "python3"
  },
  "language_info": {
   "codemirror_mode": {
    "name": "ipython",
    "version": 3
   },
   "file_extension": ".py",
   "mimetype": "text/x-python",
   "name": "python",
   "nbconvert_exporter": "python",
   "pygments_lexer": "ipython3",
   "version": "3.6.0"
  }
 },
 "nbformat": 4,
 "nbformat_minor": 2
}
