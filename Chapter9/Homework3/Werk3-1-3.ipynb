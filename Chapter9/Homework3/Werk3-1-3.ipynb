{
 "cells": [
  {
   "cell_type": "markdown",
   "metadata": {},
   "source": [
    "---\n",
    "\n",
    "## Problem Statement"
   ]
  },
  {
   "cell_type": "markdown",
   "metadata": {
    "variables": {
     "format(MEP)": "0.6 MPa",
     "format(bore)": "100.0 mm",
     "format(eta, \".0%~H\")": "35% ",
     "format(rpm)": "4000.0 revolution/min"
    }
   },
   "source": [
    "A four-cylinder four-stroke engine operates at 4000.0 revolution/min. The bore and stroke are 100.0 mm each, the MEP is measured as 0.6 MPa, and the thermal efficiency is 35% . Determine\n",
    "\n",
    "1. the total power output produced, in kW\n",
    "2. the waste heat ($\\dot{Q}_{out}$), in kW\n",
    "3. the volumetric air intake **per cylinder**, in L/s"
   ]
  },
  {
   "cell_type": "code",
   "execution_count": 51,
   "metadata": {
    "collapsed": false
   },
   "outputs": [
    {
     "name": "stdout",
     "output_type": "stream",
     "text": [
      "Jason Secula\n",
      "Homework 3.1\n",
      "           \n",
      "The Work done by the system = 0.471238898038469 kilojoule\n",
      "           \n",
      "1) The Total Power Producted = 6.5797362673929065 kilowatt\n",
      "           \n",
      "The Heat put into the system = 1.346396851538483 kilojoule\n",
      "The Heat removed from the system = 0.875157953500014 kilojoule\n",
      "           \n",
      "2) The Waste heat of the system is = 6.579736267392906 kilowatt\n",
      "           \n",
      "3) The Volumetric Air Intake per cylinder is  = 2.741556778080378 liter / second\n"
     ]
    }
   ],
   "source": [
    "from thermostate import State, Q_, units\n",
    "from math import pi\n",
    "print('Jason Secula')\n",
    "print('Homework 3.1')\n",
    "print('           ')\n",
    "rpm = Q_(4000.0, 'revolution/minute')\n",
    "bore = Q_(100.0, 'mm')\n",
    "stroke = Q_(100.0, 'mm')\n",
    "MEP = Q_(0.6, 'MPa')\n",
    "eta = Q_(0.35, 'dimensionless')\n",
    "n_cyl = Q_(4.0, 'dimensionless')\n",
    "units.define('cycle = 2*revolution')  # Define a four-stroke cycle - one cycle is two revolutions of the crankshaft\n",
    "\n",
    "#1) the total power output produced, in kW\n",
    "Vd = ((((bore**2)*pi)/4)*stroke)\n",
    "W_net = (MEP*Vd).to('kJ')\n",
    "Power=((n_cyl*((rpm/2)/60))*(W_net)).to('kW') #(Mep = W_net/Vd >> Mep*Vd=W_net)\n",
    "print('The Work done by the system = {}'.format(W_net)) #W_net\n",
    "print('           ')\n",
    "print('1) The Total Power Producted = {}'.format(Power))\n",
    "print('           ')\n",
    "#2) the waste heat ( Q˙out), in kW\n",
    "Q_in = ((W_net)/eta)\n",
    "Q_out = ((eta-1)*(-1*Q_in)) # Eta = 1-(Qout/Qin) \n",
    "#Q_out2 = ((Q_in)+(-1*W_net)) #W_net = (Qin-Qout)\n",
    "#Q_out3 = (Q_in-(eta*Q_in)) #Eta = W_net/Q_in >>  Eta = *([W_net=(Qin-Qout)] / Q_in)*\n",
    "Waste = ((  *(Q_in - Q_out)).to('kW')\n",
    "print('The Heat put into the system = {}'.format(Q_in))\n",
    "print('The Heat removed from the system = {}'.format(Q_out))\n",
    "print('           ')\n",
    "print('2) The Waste heat of the system is = {}'.format(Waste))\n",
    "print('           ')\n",
    "#3) the volumetric air intake per cylinder, in L/s\n",
    "#3.eq) V_dotIn = (RPM/2)*V_d,  V_d = V_btc-V_tdc\n",
    "Vdot_in=((((rpm/2)/60))*Vd).to('L/s')\n",
    "print('3) The Volumetric Air Intake per cylinder is  = {}'.format(Vdot_in)) #W_net\n",
    "\n",
    "\n",
    "\n",
    "#print('1) The Total Power Producted = {}'.format(something) + ', words = {}'.format(somethings))\n",
    "\n"
   ]
  },
  {
   "cell_type": "code",
   "execution_count": null,
   "metadata": {
    "collapsed": true
   },
   "outputs": [],
   "source": []
  }
 ],
 "metadata": {
  "anaconda-cloud": {},
  "kernelspec": {
   "display_name": "Python 3",
   "language": "python",
   "name": "python3"
  },
  "language_info": {
   "codemirror_mode": {
    "name": "ipython",
    "version": 3
   },
   "file_extension": ".py",
   "mimetype": "text/x-python",
   "name": "python",
   "nbconvert_exporter": "python",
   "pygments_lexer": "ipython3",
   "version": "3.6.0"
  }
 },
 "nbformat": 4,
 "nbformat_minor": 2
}
