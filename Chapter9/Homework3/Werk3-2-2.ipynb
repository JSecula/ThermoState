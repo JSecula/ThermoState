{
 "cells": [
  {
   "cell_type": "code",
   "execution_count": 46,
   "metadata": {
    "collapsed": false,
    "scrolled": false
   },
   "outputs": [
    {
     "name": "stdout",
     "output_type": "stream",
     "text": [
      "Jason Secula\n",
      "Homework 3.2\n",
      "           \n",
      "1)\n",
      "The Pressure During state 2  is = 1869.963558169547 kilopascal\n",
      "The Temperature at state 2 is = 685.0769114998297 kelvin\n",
      "2) The Net Work Output, Wnet/M, is : = 338.41522846685405 kilojoule / kilogram\n",
      "3) The Thermal Efficiency is  = 0.5354671336500836 dimensionless\n",
      "4) The MEP is  = 4.37791536711773 bar\n"
     ]
    }
   ],
   "source": [
    "from thermostate import State, Q_, units\n",
    "from math import pi\n",
    "print('Jason Secula')\n",
    "print('Homework 3.2')\n",
    "print('           ')\n",
    "substance = 'air'\n",
    "T_1 = Q_(27.0, 'degC')\n",
    "p_1 = Q_(98.0, 'kPa')\n",
    "r = Q_(8.3, 'dimensionless')\n",
    "R_bar = Q_(8.314, 'kJ/mole')\n",
    "q_in = Q_(632.0, 'kJ/kg')\n",
    "#StateOne, Piston: Bottom Dead Center\n",
    "st_1 = State(substance, T=T_1, p=p_1)\n",
    "\n",
    "#StateTwo, Piston: Top Dead Center\n",
    "v_2 = (st_1.v/r)\n",
    "st_2 = State(substance, s=st_1.s, v=v_2)\n",
    "p_2 = (st_2.p).to('kPa')\n",
    "#p_2a = (p_1*((st_2.T/T_1)*r)) = 1856.5435942494137 kilopascal, 13 kPa off...\n",
    "\n",
    "#StateThree, Piston: to Bottom Dead Center\n",
    "v_3 = v_2 #Constant Volume heat addition from 2 to 3\n",
    "u_3 = (q_in+st_2.u)\n",
    "st_3 = State(substance, u=u_3, v=v_3)\n",
    "\n",
    "#StateFour, Piston: to Top Dead Center\n",
    "st_4 = State(substance, v=st_1.v, s=st_3.s)\n",
    "\n",
    "print('1)'+ '\\n' +'The Pressure During state 2  is = {}'.format(p_2) + '\\n' + 'The Temperature at state 2 is = {}'.format(st_2.T)) \n",
    "v_3 = (st_4.v/r)\n",
    "Vd = (v_4-st_3.v)\n",
    "Vda = (v_3-st_4.v)\n",
    "Wnet = ((st_3.u -st_4.u)-(st_2.u-st_1.u)).to('kJ/kg')\n",
    "print('2) The Net Work Output, Wnet/M, is : = {}'.format(Wnet)) #W_net in kJ/kg \n",
    "eta = (1-((st_4.u-st_1.u)/(st_3.u-st_2.u)))\n",
    "print('3) The Thermal Efficiency is  = {}'.format(eta)) \n",
    "MEP = (Wnet/Vd).to('bar')\n",
    "print('4) The MEP is  = {}'.format(MEP))"
   ]
  }
 ],
 "metadata": {
  "anaconda-cloud": {},
  "kernelspec": {
   "display_name": "Python 3",
   "language": "python",
   "name": "python3"
  },
  "language_info": {
   "codemirror_mode": {
    "name": "ipython",
    "version": 3
   },
   "file_extension": ".py",
   "mimetype": "text/x-python",
   "name": "python",
   "nbconvert_exporter": "python",
   "pygments_lexer": "ipython3",
   "version": "3.6.0"
  }
 },
 "nbformat": 4,
 "nbformat_minor": 2
}
