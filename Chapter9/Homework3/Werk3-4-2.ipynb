{
 "cells": [
  {
   "cell_type": "markdown",
   "metadata": {},
   "source": [
    "---\n",
    "\n",
    "## Problem Statement"
   ]
  },
  {
   "cell_type": "markdown",
   "metadata": {
    "variables": {
     "format(T_1)": "298.0 K",
     "format(T_max)": "2100.0 K",
     "format(p_1)": "100.0 kPa",
     "format(p_max)": "7.0 MPa"
    }
   },
   "source": [
    "At the beginning of the compression process of the air standard Diesel cycle, the working fluid is at 100.0 kPa and 298.0 K. The maximum pressure and temperature in the cycle are 7.0 MPa and 2100.0 K. Determine\n",
    "\n",
    "1. the compression ratio\n",
    "2. the cutoff ratio\n",
    "3. the thermal efficiency\n",
    "4. the MEP, in bar"
   ]
  },
  {
   "cell_type": "code",
   "execution_count": null,
   "metadata": {
    "collapsed": true
   },
   "outputs": [],
   "source": [
    "from thermostate import State, Q_, units\n",
    "from math import pi\n",
    "print('Jason Secula')\n",
    "print('Homework 3.4')\n",
    "print('           ')\n",
    "substance = 'air'\n",
    "T_1 = Q_(298.0, 'K')\n",
    "p_1 = Q_(100.0, 'kPa')\n",
    "T_3 = Q_(2100.0, 'K')\n",
    "p_2 = Q_(7.0, 'MPa')\n",
    "p_3 = p_2\n",
    "#^_^Given-^-^-^-^-^-^-^-^-^-^-^-^-^\n",
    "#State 1\n",
    "st_1 = State(substance, T=T_1, p=p_1)\n",
    "#State 2\n",
    "st_2 = State(substance, p=p_2, s=st_1.s) #Entropy Constant\n",
    "#State 3\n",
    "st_3 = State(substance, p=p_3, T=T_3)\n",
    "#State 4\n",
    "st_4 = State(substance, v=st_1.v, s=st_3.s) \n",
    "#^_^_^ Entropy Constant at State 3, Volume Constant from 4 to 1.\n",
    "print('From State 2 to State 3, the Diesel Cycle is at Constant Pressure.')\n",
    "print ('The Specific Heat during =  {}'.format(st_2.phase) + ', is = {}'.format(st_2.cp))\n",
    "print ('The Specific Heat during =  {}'.format(st_3.phase) + ', is = {}'.format(st_3.cp))\n",
    "print('From State 4 to State 1, the Diesel Cycle is at Constant Volume.')\n",
    "print ('The Specific Heat during =  {}'.format(st_1.phase) + ', is = {}'.format(st_1.cv))\n",
    "print ('The Specific Heat during =  {}'.format(st_1.phase) + ', is = {}'.format(st_4.cv))\n",
    "k =  (st_3.cp/st_4.cv)\n",
    "k1 = (st_2.cp/st_1.cv)\n",
    "k2 = (st_3.cp/st_1.cv)\n",
    "k3 = (st_2.cp/st_4.cv)\n",
    "print('the k value was found to be  = {}'.format(k))\n",
    "print('the k1 value was found to be  = {}'.format(k1)) \n",
    "print('the k2 value was found to be  = {}'.format(k2)) \n",
    "print('the k3 value was found to be  = {}'.format(k3)) \n",
    "\n",
    "\n",
    "print('1) The Compression Ratio  = {}'.format(r)) \n",
    "#r_c = (V_3/V_2) #This is the cut off Ratio given by the book.\n",
    "#(V_4/V_3) = (V_4/V_2)*(V_2/V_3) = (V_1/V_2)*(V_2/V_3) = (r/r_c)\n",
    "eta = (1-((st_4.u-st_1.u)/(st_3.u-st_4.u)))\n",
    "print('2) The CutOff Ratio = {}'.format(CoR)) \n",
    "eta = (1-((st_4.u-st_1.u)/(st_3.u-st_4.u)))\n",
    "print('3) The Thermal Efficiency is  = {}'.format(eta)) \n",
    "MEP = (Wnet/Vd).to('bar') #V_d = V_btc-V_tdc\n",
    "print('4 ) The MEP is  = {}'.format(MEP))\n"
   ]
  }
 ],
 "metadata": {
  "anaconda-cloud": {},
  "kernelspec": {
   "display_name": "Python 3",
   "language": "python",
   "name": "python3"
  },
  "language_info": {
   "codemirror_mode": {
    "name": "ipython",
    "version": 3
   },
   "file_extension": ".py",
   "mimetype": "text/x-python",
   "name": "python",
   "nbconvert_exporter": "python",
   "pygments_lexer": "ipython3",
   "version": "3.6.0"
  }
 },
 "nbformat": 4,
 "nbformat_minor": 2
}
