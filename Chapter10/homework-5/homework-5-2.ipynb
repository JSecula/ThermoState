{
 "cells": [
  {
   "cell_type": "code",
   "execution_count": 1,
   "metadata": {
    "collapsed": false
   },
   "outputs": [
    {
     "name": "stdout",
     "output_type": "stream",
     "text": [
      "                                     Jason Secula                                    \n",
      "                           Applied Thermodynamics [ME 2234]                          \n",
      "                               Professor Bryan W. Weber                              \n",
      "                                     Homework 5.2                                    \n",
      "           \n",
      "                    \n",
      "1a. Pressure into the Compressor     =    8.076025972616122 bar\n",
      "1b. Pressure into the Evaporator     =    4.146074673626297 bar\n",
      "2. Mass flow rate                    =    0.7857848404793406 kilogram / second\n",
      "3. Compressor (Qin)                  =    10.848046044685018 kilowatt\n",
      "4. Preformance(β = Qin/Wc)           =    11.707177447151732 dimensionless\n",
      "5. Carnot:(βmax = Tc/(TH-Tc))        =    11.797916666666666 dimensionless\n",
      "The difference between βmax and β is 0.09073921951493347 dimensionless.\n",
      "  The actual preformance of the cycle (β) is less than the Carnot preformance (βmax), \n",
      "  since the actual cycle accounts for inefficencies and irrevisibilities. \n"
     ]
    }
   ],
   "source": [
    "from thermostate import State, Q_, units\n",
    "from math import pi\n",
    "substance = 'r134a'           #Given Info\n",
    "Qdot_in = Q_(127.0, 'kW')\n",
    "Qdot_out = Q_(21.5, 'kW')\n",
    "eta_c = Q_(0.8, 'dimensionless')\n",
    "#_____________________________________________________________________ Line\n",
    "print('Jason Secula'.center(85))\n",
    "print(' Applied Thermodynamics [ME 2234] '.center(85))\n",
    "print(' Professor Bryan W. Weber '.center(85))\n",
    "print(' Homework 5.2 '.center(85))\n",
    "print('           ')\n",
    "#_____________________________________________________________________ Line\n",
    "#__________________________State 1____________________________________\n",
    "#_____________________________________________________________________\n",
    "x_1 = Q_(1.0, 'dimensionless')\n",
    "T_C = Q_(-3.0, 'degC')\n",
    "delta_T_evap = Q_(13.0, 'delta_degC')\n",
    "T_1 = (T_C+delta_T_evap)\n",
    "st_1 = State(substance, T=T_1, x=x_1)\n",
    "#_____________________________________________________________________ Line\n",
    "#__________________________State 2____________________________________\n",
    "#_____________________________________________________________________\n",
    "T_H = Q_(23.0, 'degC')\n",
    "delta_T_cond = Q_(11.0, 'delta_degC')\n",
    "T_2 = T_H+delta_T_cond\n",
    "st_2 = State(substance, T=T_2, s=st_1.s )\n",
    "#_____________________________________________________________________ Line\n",
    "#__________________________State 3____________________________________\n",
    "#_____________________________________________________________________\n",
    "p_3 = (st_2.p).to('bar')\n",
    "x_3 = Q_(0.0, 'dimensionless')\n",
    "st_3 = State(substance, x=x_3, p=p_3)\n",
    "#_____________________________________________________________________ Line\n",
    "#__________________________State 4____________________________________\n",
    "#_____________________________________________________________________\n",
    "st_4 = State(substance, s=st_3.s, T=st_1.T)\n",
    "p_4 = (st_4.p).to('bar')\n",
    "print ('                    ')\n",
    "#1. necessary pressures in the evaporator and condenser, in bar\n",
    "print ('1a. Pressure into the Compressor     =    {}'.format(p_3))\n",
    "print ('1b. Pressure into the Evaporator     =    {}'.format(p_4))\n",
    "mdot = (Qdot_in/(st_1.h-st_4.h)).to('kg/s')\n",
    "print ('2. Mass flow rate                    =    {}'.format(mdot))\n",
    "Wc = (mdot*(st_2.h-st_1.h)).to('kW')        #Would be negative which makes sense, work input. \n",
    "print ('3. Compressor (Qin)                  =    {}'.format(Wc))\n",
    "β = (Qdot_in/(Wc))                          #Eq given in class.\n",
    "βmax = (st_1.T/(st_2.T-st_1.T))             #Beta Max\n",
    "print ('4. Preformance(β = Qin/Wc)           =    {}'.format(β))\n",
    "print ('5. Carnot:(βmax = Tc/(TH-Tc))        =    {}'.format(βmax))\n",
    "Dif = βmax - β\n",
    "print ('The difference between βmax and β is {}.'.format(Dif))\n",
    "print ('  The actual preformance of the cycle (β) is less than the Carnot preformance (βmax), ') \n",
    "print ('  since the actual cycle accounts for inefficencies and irrevisibilities. ')\n"
   ]
  }
 ],
 "metadata": {
  "anaconda-cloud": {},
  "kernelspec": {
   "display_name": "Python 3",
   "language": "python",
   "name": "python3"
  },
  "language_info": {
   "codemirror_mode": {
    "name": "ipython",
    "version": 3
   },
   "file_extension": ".py",
   "mimetype": "text/x-python",
   "name": "python",
   "nbconvert_exporter": "python",
   "pygments_lexer": "ipython3",
   "version": "3.6.0"
  }
 },
 "nbformat": 4,
 "nbformat_minor": 2
}
