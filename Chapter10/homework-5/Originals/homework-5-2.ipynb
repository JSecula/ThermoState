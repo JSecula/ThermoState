{
 "cells": [
  {
   "cell_type": "markdown",
   "metadata": {},
   "source": [
    "# Homework 5-2\n",
    "\n",
    "---\n",
    "\n",
    "## Imports"
   ]
  },
  {
   "cell_type": "code",
   "execution_count": 1,
   "metadata": {
    "collapsed": false
   },
   "outputs": [],
   "source": [
    "from thermostate import State, Q_, units"
   ]
  },
  {
   "cell_type": "markdown",
   "metadata": {},
   "source": [
    "---\n",
    "\n",
    "## Definitions"
   ]
  },
  {
   "cell_type": "code",
   "execution_count": 2,
   "metadata": {
    "collapsed": false
   },
   "outputs": [],
   "source": [
    "substance = 'r134a'\n",
    "x_1 = Q_(1.0, 'dimensionless')\n",
    "x_3 = Q_(0.0, 'dimensionless')\n",
    "T_C = Q_(-3.0, 'degC')\n",
    "T_H = Q_(23.0, 'degC')\n",
    "delta_T_cond = Q_(11.0, 'delta_degC')\n",
    "delta_T_evap = Q_(13.0, 'delta_degC')\n",
    "Qdot_out = Q_(21.5, 'kW')\n",
    "eta_c = Q_(0.8, 'dimensionless')"
   ]
  },
  {
   "cell_type": "markdown",
   "metadata": {},
   "source": [
    "---\n",
    "\n",
    "## Problem Statement"
   ]
  },
  {
   "cell_type": "markdown",
   "metadata": {
    "variables": {
     "format(Qdot_out)": "21.5 kW",
     "format(T_C)": "-3.0 celsius",
     "format(T_H)": "23.0 celsius",
     "format(delta_T_cond)": "11.0 Δcelsius",
     "format(delta_T_evap)": "13.0 Δcelsius",
     "format(eta_c, round_2p)": "80.00% ",
     "format(substance)": "r134a"
    }
   },
   "source": [
    "An office building requires a heat transfer rate of 21.5 kW to maintain the inside temperature at 23.0 celsius when the outside temperature is -3.0 celsius. A vapor-compression heat pump with r134a as the working fluid is to be used to provide the necessary heating. The compressor operates adiabatically with an isentropic efficiency of 80.00% . The minimum temperature difference between the condenser and its surroundings is 11.0 Δcelsius and between the evaporator and its surroundings is 13.0 Δcelsius. The refrigerant exits the evaporator as a saturated vapor and exits the condenser as a saturated liquid. Determine the\n",
    "\n",
    "1. necessary pressures in the evaporator and condenser, in bar\n",
    "2. mass flow rate of the refrigerant, in kg/s\n",
    "3. compressor power, in kW\n",
    "4. coefficient of performance of the cycle\n",
    "5. coefficient of performance of a Carnot cycle operating between $T_C$ and $T_H$. Compare to the actual cycle and discuss."
   ]
  }
 ],
 "metadata": {
  "anaconda-cloud": {},
  "kernelspec": {
   "display_name": "Python 3",
   "language": "python",
   "name": "python3"
  },
  "language_info": {
   "codemirror_mode": {
    "name": "ipython",
    "version": 3
   },
   "file_extension": ".py",
   "mimetype": "text/x-python",
   "name": "python",
   "nbconvert_exporter": "python",
   "pygments_lexer": "ipython3",
   "version": "3.5.2"
  }
 },
 "nbformat": 4,
 "nbformat_minor": 2
}
