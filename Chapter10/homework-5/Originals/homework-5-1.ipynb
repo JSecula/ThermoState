{
 "cells": [
  {
   "cell_type": "markdown",
   "metadata": {},
   "source": [
    "# Homework 5-1\n",
    "\n",
    "---\n",
    "\n",
    "## Imports"
   ]
  },
  {
   "cell_type": "code",
   "execution_count": 1,
   "metadata": {
    "collapsed": false
   },
   "outputs": [],
   "source": [
    "from thermostate import State, Q_, units"
   ]
  },
  {
   "cell_type": "markdown",
   "metadata": {},
   "source": [
    "---\n",
    "\n",
    "## Definitions"
   ]
  },
  {
   "cell_type": "code",
   "execution_count": 3,
   "metadata": {
    "collapsed": false
   },
   "outputs": [],
   "source": [
    "substance = 'ammonia'\n",
    "x_1 = Q_(1.0, 'dimensionless')\n",
    "T_1 = Q_(-22.0, 'degC')\n",
    "p_2 = Q_(16.3, 'bar')\n",
    "T_2 = Q_(180.0, 'degC')\n",
    "x_3 = Q_(0.0, 'dimensionless')\n",
    "p_3 = p_2\n",
    "Qdot_in = Q_(127.0, 'kW')"
   ]
  },
  {
   "cell_type": "markdown",
   "metadata": {},
   "source": [
    "---\n",
    "\n",
    "## Problem Statement"
   ]
  },
  {
   "cell_type": "markdown",
   "metadata": {
    "variables": {
     "format(Qdot_in)": "127.0 kW",
     "format(T_1)": "-22.0 celsius",
     "format(T_2)": "180.0 celsius",
     "format(p_2)": "16.3 bar",
     "format(p_3)": "16.3 bar",
     "substance": "ammonia"
    }
   },
   "source": [
    "In a vapor-compression refrigeration cyle, ammonia exits the evaporator as a saturated vapor at -22.0 celsius. The refrigerant enters the condenser at 16.3 bar and 180.0 celsius, and saturated liquid exits at 16.3 bar. There is no significant heat transfer between the compressor and its surroundings, and the refrigerant passes through the evaporator with negligible change in pressure. If the refrigerating capacity is 127.0 kW, determine\n",
    "\n",
    "1. the mass flow rate of the refrigerant, in kg/s\n",
    "2. the power input to the compressor, in kW\n",
    "3. the coefficient of performance\n",
    "4. the isentropic compressor efficiency\n",
    "5. the rate of entropy production in the compressor, in kW/K"
   ]
  }
 ],
 "metadata": {
  "anaconda-cloud": {},
  "kernelspec": {
   "display_name": "Python 3",
   "language": "python",
   "name": "python3"
  },
  "language_info": {
   "codemirror_mode": {
    "name": "ipython",
    "version": 3
   },
   "file_extension": ".py",
   "mimetype": "text/x-python",
   "name": "python",
   "nbconvert_exporter": "python",
   "pygments_lexer": "ipython3",
   "version": "3.5.2"
  }
 },
 "nbformat": 4,
 "nbformat_minor": 2
}
