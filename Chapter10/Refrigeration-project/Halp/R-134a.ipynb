{
 "cells": [
  {
   "cell_type": "code",
   "execution_count": 1,
   "metadata": {
    "collapsed": true
   },
   "outputs": [],
   "source": [
    "from thermostate import State, Q_, units"
   ]
  },
  {
   "cell_type": "code",
   "execution_count": 2,
   "metadata": {
    "collapsed": true
   },
   "outputs": [],
   "source": [
    "substance = 'r134a'\n",
    "x_1 = Q_(1.0, 'dimensionless')\n",
    "x_3 = Q_(0.0, 'dimensionless')\n",
    "T_C = Q_(2.0, 'degC')\n",
    "T_H = Q_(40.0, 'degC')\n",
    "delta_T = Q_(20.0, 'delta_degC')\n",
    "Qdot_in = Q_(16880.0, 'kilojoule/min')\n",
    "eta_c = Q_(0.8, 'dimensionless')\n",
    "\n",
    "T_1 = Q_(-18.0, 'degC')\n",
    "T_4 = T_1\n",
    "T_3 = Q_(60.0, 'degC')"
   ]
  },
  {
   "cell_type": "code",
   "execution_count": 3,
   "metadata": {
    "collapsed": false
   },
   "outputs": [
    {
     "name": "stdout",
     "output_type": "stream",
     "text": [
      "T_1 = -18.0 degC\n",
      "T_2 = 80.18873530161255 degC\n",
      "T_2s = 69.5874541843828 degC\n",
      "T_3 = 60.0 degC\n",
      "T_4 = -18.0 degC\n",
      "p_1 = 1.4460036726034375 bar\n",
      "p_2 = 16.817842182961847 bar\n",
      "p_2s = 16.817842182961847 bar\n",
      "p_3 = 16.817842182961847 bar\n",
      "h_1 = 387.78785972217827 kilojoule / kilogram\n",
      "h_2 = 452.02670378710246 kilojoule / kilogram\n",
      "h_2s = 439.1789349741176 kilojoule / kilogram\n",
      "h_3 = 287.50469453813434 kilojoule / kilogram\n",
      "h_4 = 287.50469453813434 kilojoule / kilogram\n",
      "s_1 = 1.73957001345672 kilojoule / kelvin / kilogram\n",
      "s_2 = 1.776492946684397 kilojoule / kelvin / kilogram\n",
      "s_2s = 1.73957001345672 kilojoule / kelvin / kilogram\n",
      "s_3 = 1.2848197188591166 kilojoule / kelvin / kilogram\n"
     ]
    }
   ],
   "source": [
    "#State 1\n",
    "st_1 = State(substance, T=T_1, x=x_1)\n",
    "h_1 = st_1.h\n",
    "s_1 = st_1.s\n",
    "p_1 = st_1.p\n",
    "\n",
    "#State 3\n",
    "st_3 = State(substance, T=T_3, x=x_3)\n",
    "h_3 = st_3.h\n",
    "s_3 = st_3.s\n",
    "T_3 = st_3.T\n",
    "p_3 = st_3.p\n",
    "\n",
    "#State 2s\n",
    "s_2s=s_1\n",
    "p_2s=p_3\n",
    "st_2s = State(substance, p=p_2s, s=s_2s)\n",
    "h_2s = st_2s.h\n",
    "T_2s = st_2s.T\n",
    "\n",
    "#State 2\n",
    "p_2=p_3\n",
    "h_2= (h_1-((h_1-h_2s)/eta_c))\n",
    "st_2 = State(substance, p=p_2, h=h_2)\n",
    "s_2 = st_2.s\n",
    "T_2 = st_2.T\n",
    "\n",
    "#State 4\n",
    "T_4 = T_1\n",
    "h_4 = h_3\n",
    "\n",
    "print ('T_1 = {}'.format(T_1.to('degC')))\n",
    "print ('T_2 = {}'.format(T_2.to('degC')))\n",
    "print ('T_2s = {}'.format(T_2s.to('degC')))\n",
    "print ('T_3 = {}'.format(T_3.to('degC')))\n",
    "print ('T_4 = {}'.format(T_4.to('degC')))\n",
    "\n",
    "print ('p_1 = {}'.format(p_1.to('bar')))\n",
    "print ('p_2 = {}'.format(p_2.to('bar')))\n",
    "print ('p_2s = {}'.format(p_2s.to('bar')))\n",
    "print ('p_3 = {}'.format(p_3.to('bar')))\n",
    "\n",
    "print ('h_1 = {}'.format(h_1.to('kilojoule/kilogram')))\n",
    "print ('h_2 = {}'.format(h_2.to('kilojoule/kilogram')))\n",
    "print ('h_2s = {}'.format(h_2s.to('kilojoule/kilogram')))\n",
    "print ('h_3 = {}'.format(h_3.to('kilojoule/kilogram')))\n",
    "print ('h_4 = {}'.format(h_4.to('kilojoule/kilogram')))\n",
    "\n",
    "print ('s_1 = {}'.format(s_1.to('kilojoule/kilogram/K')))\n",
    "print ('s_2 = {}'.format(s_2.to('kilojoule/kilogram/K')))\n",
    "print ('s_2s = {}'.format(s_2s.to('kilojoule/kilogram/K')))\n",
    "print ('s_3 = {}'.format(s_3.to('kilojoule/kilogram/K')))"
   ]
  },
  {
   "cell_type": "code",
   "execution_count": 4,
   "metadata": {
    "collapsed": false
   },
   "outputs": [
    {
     "name": "stdout",
     "output_type": "stream",
     "text": [
      "mdot = 2.8053894471421845 kilogram / second\n"
     ]
    }
   ],
   "source": [
    "mdot=(Qdot_in/(h_1-h_4))\n",
    "print('mdot = {}'.format(mdot.to('kilogram/s')))"
   ]
  },
  {
   "cell_type": "code",
   "execution_count": 5,
   "metadata": {
    "collapsed": false
   },
   "outputs": [
    {
     "name": "stdout",
     "output_type": "stream",
     "text": [
      "Wdot_c = 8650.318811344836 kilojoule / minute\n",
      "Wdot_ckW = 144.17198018908059 kilowatt\n"
     ]
    }
   ],
   "source": [
    "Wdot_c=(((h_2-h_1)*mdot)*eta_c)\n",
    "print('Wdot_c = {}'.format(Wdot_c.to('kilojoule/min')))\n",
    "print('Wdot_ckW = {}'.format(Wdot_c.to('kilowatt')))"
   ]
  },
  {
   "cell_type": "code",
   "execution_count": 6,
   "metadata": {
    "collapsed": false
   },
   "outputs": [
    {
     "name": "stdout",
     "output_type": "stream",
     "text": [
      "Beta = 1.9513731653291195 dimensionless\n"
     ]
    }
   ],
   "source": [
    "Beta=(Qdot_in/Wdot_c)\n",
    "print('Beta = {}'.format(Beta.to('dimensionless')))"
   ]
  },
  {
   "cell_type": "code",
   "execution_count": null,
   "metadata": {
    "collapsed": true
   },
   "outputs": [],
   "source": []
  }
 ],
 "metadata": {
  "kernelspec": {
   "display_name": "Python 3",
   "language": "python",
   "name": "python3"
  },
  "language_info": {
   "codemirror_mode": {
    "name": "ipython",
    "version": 3
   },
   "file_extension": ".py",
   "mimetype": "text/x-python",
   "name": "python",
   "nbconvert_exporter": "python",
   "pygments_lexer": "ipython3",
   "version": "3.6.0"
  }
 },
 "nbformat": 4,
 "nbformat_minor": 2
}
