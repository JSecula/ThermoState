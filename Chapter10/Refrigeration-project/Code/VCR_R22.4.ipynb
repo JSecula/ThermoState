{
 "cells": [
  {
   "cell_type": "code",
   "execution_count": 1,
   "metadata": {
    "collapsed": false
   },
   "outputs": [
    {
     "ename": "IndentationError",
     "evalue": "unexpected indent (<ipython-input-1-7d1d22594475>, line 52)",
     "output_type": "error",
     "traceback": [
      "\u001b[0;36m  File \u001b[0;32m\"<ipython-input-1-7d1d22594475>\"\u001b[0;36m, line \u001b[0;32m52\u001b[0m\n\u001b[0;31m    st_2s = State(substance1,T=T_2, s=st_1.s)                      #\u001b[0m\n\u001b[0m    ^\u001b[0m\n\u001b[0;31mIndentationError\u001b[0m\u001b[0;31m:\u001b[0m unexpected indent\n"
     ]
    }
   ],
   "source": [
    "from thermostate import State, Q_, units\n",
    "from math import pi\n",
    "import numpy as np\n",
    "substance1 = 'R22'\n",
    "#^^ From my notes, P_saturated, at 4 Degrees C, 5.6619 Bar\n",
    "substance2 = 'R134a'\n",
    "substance3 = 'ammonia'\n",
    "#_____________________________________________________________________ Line\n",
    "print('Jason Secula'.center(85))\n",
    "print('Applied Thermodynamics [ME 2234] '.center(85))\n",
    "print('Professor Bryan W. Weber '.center(85))\n",
    "print('Vapor-Compression Refrigeration System'.center(85))\n",
    "print(' Evaluating R22 '.center(85))\n",
    "print('           ')\n",
    "#_____________________________________________________________________ Line\n",
    "Pwr_i = Q_(281.3, 'kW').to('J/s')   #Converted from Tons of Refrigerant\n",
    "Cost_i = (15.225) #In cents/kWh\n",
    "Cost_f = (18.268) #In Cents/kWh\n",
    "Q_in = Q_(80,'ton_of_refrigeration').to('J/s')\n",
    "Pwr = Q_(250, 'kWh')\n",
    "R_bar = Q_(8.31446,'J/(mol*K)')                 #Mdot Calculations in Book on Page 635\n",
    "#_____________________________________________________________________\n",
    "#Temp of Room is 2DegreesC\n",
    "#Temperture of the is 40 degrees to be cooled to 2 degrees C\n",
    "T_EvapHigh = Q_(-18,'dimensionless')\n",
    "T_EvapLow = Q_(-50,'dimensionless')\n",
    "TUnit = Q_(1, 'degC')\n",
    "T_CndrHigh = Q_(20,'dimensionless')\n",
    "T_CndrLow = Q_(5,'dimensionless')\n",
    "β = []\n",
    "W_c = []\n",
    "Q_out=[]\n",
    "T_range = np.arange(T_EvapLow, T_EvapHigh, 1)\n",
    "print('Test')\n",
    "print('           ')\n",
    "print('           ')\n",
    "for TEvap in T_range:\n",
    "    T_4 = TUnit*TEvap\n",
    "    x_4 = Q_(0.0, 'dimensionless')                    #Table A7, page 937\n",
    "    print('           State 4____________________________________')\n",
    "    st_4 = State(substance1, T=T_4,x=x_4)      #Need a pressure that will have a super heated vapor\n",
    "    print (('{},'.format(st_4.T.to('degC')))+('      {},'.format(st_4.phase))+('       h = {}'.format(st_4.h))) \n",
    "    print('           State 1____________________________________')\n",
    "    x_1 = Q_(1.0,'dimensionless')\n",
    "    st_1 = State(substance1, T=T_4, x=x_1) #Need a pressure that will have a super heated vapor\n",
    "    print (('{},'.format(st_1.T.to('degC')))+('       {},'.format(st_1.phase))+('       h = {}'.format(st_1.h))) \n",
    "    mdot = (Q_in/(st_1.h-st_4.h))\n",
    "    #T_rng = np.arange(T_CndrLow, T_CndrHigh, 1)\n",
    "    #for TCndr in T_rng:\n",
    "    #T_2 = TUnit*TCndr\n",
    "    print('           State 2____________________________________')\n",
    "        st_2s = State(substance1,T=T_2, s=st_1.s)                      #\n",
    "        print (('{},'.format(st_2s.T.to('degC')))+('       {},'.format(st_2s.phase))+('       = {}'.format(st_2s.h))) \n",
    "        print('           State 3____________________________________')\n",
    "        st_3 = State(substance1, h=st_4.h, p=st_2s.p)\n",
    "        print (('{},'.format(st_3.T.to('degC')))+('       {},'.format(st_3.phase))+('       = {}'.format(st_3.h))) \n",
    "        Q_out = mdot*(st_2s.h- st_3.h)\n",
    "        W_c = (mdot*(st_2s.h-st_1.h)).to('kW')\n",
    "        βeta = Q_in/W_comp\n",
    "        print('           ')\n",
    "        print('           ')\n",
    "        print('________________________________________________________________________')        \n",
    "        print(' mdot  is {} '.format(mdot).center(85))\n",
    "        print(' W_c   is {} '.format(W_comp).center(85))\n",
    "        print(' Q_in  is {} '.format(Q_in).center(85))\n",
    "        print(' Q_out is {} '.format(Q_out).center(85))\n",
    "        print(' β     is {} '.format(βeta).center(85))\n",
    "        print('________________________________________________________________________')  \n",
    "        print('           ')\n",
    "        print('           ')"
   ]
  }
 ],
 "metadata": {
  "kernelspec": {
   "display_name": "Python 3",
   "language": "python",
   "name": "python3"
  },
  "language_info": {
   "codemirror_mode": {
    "name": "ipython",
    "version": 3
   },
   "file_extension": ".py",
   "mimetype": "text/x-python",
   "name": "python",
   "nbconvert_exporter": "python",
   "pygments_lexer": "ipython3",
   "version": "3.6.0"
  }
 },
 "nbformat": 4,
 "nbformat_minor": 2
}
