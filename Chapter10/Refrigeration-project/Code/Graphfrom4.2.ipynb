{
 "cells": [
  {
   "cell_type": "code",
   "execution_count": 2,
   "metadata": {
    "collapsed": false
   },
   "outputs": [],
   "source": [
    "from thermostate import State, Q_, units\n",
    "substance = 'air'\n",
    "p_1 = Q_(1.0, 'bar')\n",
    "T_1 = Q_(300.0, 'K')\n",
    "T_3 = Q_(1700.0, 'K')\n",
    "p2_p1 = Q_(8.0, 'dimensionless')\n",
    "p_low = Q_(2.0, 'dimensionless')\n",
    "p_high = Q_(50.0, 'dimensionless')"
   ]
  },
  {
   "cell_type": "code",
   "execution_count": 3,
   "metadata": {
    "collapsed": false
   },
   "outputs": [],
   "source": [
    "st_1 = State(substance, T=T_1, p=p_1)\n",
    "h_1 = st_1.h.to('kJ/kg')\n",
    "s_1 = st_1.s.to('kJ/(kg*K)')\n",
    "\n",
    "s_2 = s_1\n",
    "p_2 = p_1*p2_p1\n",
    "st_2 = State(substance, p=p_2, s=s_2)\n",
    "h_2 = st_2.h.to('kJ/kg')\n",
    "T_2 = st_2.T\n",
    "\n",
    "p_3 = p_2\n",
    "st_3 = State(substance, p=p_3, T=T_3)\n",
    "h_3 = st_3.h.to('kJ/kg')\n",
    "s_3 = st_3.s.to('kJ/(kg*K)')\n",
    "\n",
    "s_4 = s_3\n",
    "p_4 = p_1\n",
    "st_4 = State(substance, p=p_4, s=s_4)\n",
    "h_4 = st_4.h.to('kJ/kg')\n",
    "T_4 = st_4.T"
   ]
  },
  {
   "cell_type": "code",
   "execution_count": 4,
   "metadata": {
    "collapsed": true
   },
   "outputs": [],
   "source": [
    "W_c = h_1 - h_2\n",
    "W_t = h_3 - h_4\n",
    "W_net = W_c + W_t"
   ]
  },
  {
   "cell_type": "code",
   "execution_count": 5,
   "metadata": {
    "collapsed": true
   },
   "outputs": [],
   "source": [
    "Q_23 = h_3 - h_2\n",
    "eta = W_net/Q_23"
   ]
  },
  {
   "cell_type": "code",
   "execution_count": 6,
   "metadata": {
    "collapsed": false
   },
   "outputs": [],
   "source": [
    "import numpy as np\n",
    "eta_l = []\n",
    "W_net_l = []\n",
    "p_range = np.arange(p_low, p_high, 1)\n",
    "for p_ratio in p_range:\n",
    "    s_2 = s_1\n",
    "    p_2 = p_1*p_ratio\n",
    "    st_2 = State(substance, p=p_2, s=s_2)\n",
    "    h_2 = st_2.h.to('kJ/kg')\n",
    "    T_2 = st_2.T\n",
    "\n",
    "    p_3 = p_2\n",
    "    st_3 = State(substance, p=p_3, T=T_3)\n",
    "    h_3 = st_3.h.to('kJ/kg')\n",
    "    s_3 = st_3.s.to('kJ/(kg*K)')\n",
    "\n",
    "    s_4 = s_3\n",
    "    p_4 = p_1\n",
    "    st_4 = State(substance, p=p_4, s=s_4)\n",
    "    h_4 = st_4.h.to('kJ/kg')\n",
    "    T_4 = st_4.T\n",
    "    \n",
    "    W_c = h_1 - h_2\n",
    "    W_t = h_3 - h_4\n",
    "    W_net = W_c + W_t\n",
    "    W_net_l.append(W_net.magnitude)\n",
    "    \n",
    "    Q_23 = h_3 - h_2\n",
    "    eta = W_net/Q_23\n",
    "    eta_l.append(eta.magnitude)"
   ]
  },
  {
   "cell_type": "code",
   "execution_count": 7,
   "metadata": {
    "collapsed": false
   },
   "outputs": [
    {
     "data": {
      "image/png": "[encoded data removed]",
      "text/plain": [
       "<matplotlib.figure.Figure at 0x7f3d2b762d30>"
      ]
     },
     "metadata": {
      "filenames": {
       "image/png": "homework-4-2_18_0.jpeg"
      }
     },
     "output_type": "display_data"
    }
   ],
   "source": [
    "%matplotlib inline\n",
    "import matplotlib.pyplot as plt\n",
    "fig, work_ax = plt.subplots()\n",
    "work_ax.plot(p_range, W_net_l, label='Net work per unit mass flowing', color='C0')\n",
    "eta_ax = work_ax.twinx()\n",
    "eta_ax.plot(p_range, eta_l, label='Thermal efficiency', color='C1')\n",
    "work_ax.set_xlabel('Pressure ratio $p_2/p_1$')\n",
    "work_ax.set_ylabel('Net work per unit mass flowing (kJ/kg)')\n",
    "eta_ax.set_ylabel('Thermal efficiency')\n",
    "lines, labels = work_ax.get_legend_handles_labels()\n",
    "lines2, labels2 = eta_ax.get_legend_handles_labels()\n",
    "work_ax.legend(lines + lines2, labels + labels2, loc='best');\n",
    "\n",
    "\n",
    "\n",
    "\n",
    "\n"
   ]
  }
 ],
 "metadata": {
  "anaconda-cloud": {},
  "kernelspec": {
   "display_name": "Python 3",
   "language": "python",
   "name": "python3"
  },
  "language_info": {
   "codemirror_mode": {
    "name": "ipython",
    "version": 3
   },
   "file_extension": ".py",
   "mimetype": "text/x-python",
   "name": "python",
   "nbconvert_exporter": "python",
   "pygments_lexer": "ipython3",
   "version": "3.6.0"
  }
 },
 "nbformat": 4,
 "nbformat_minor": 2
}
