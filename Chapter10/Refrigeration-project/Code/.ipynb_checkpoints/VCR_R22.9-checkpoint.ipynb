{
 "cells": [
  {
   "cell_type": "code",
   "execution_count": 9,
   "metadata": {
    "collapsed": false
   },
   "outputs": [
    {
     "ename": "ValueError",
     "evalue": "Temperature to QT_flash [-13433.35 K] must be in range [115.63 K, 369.295 K]",
     "output_type": "error",
     "traceback": [
      "\u001b[0;31m---------------------------------------------------------------------------\u001b[0m",
      "\u001b[0;31mValueError\u001b[0m                                Traceback (most recent call last)",
      "\u001b[0;32m<ipython-input-9-e8f33fdab771>\u001b[0m in \u001b[0;36m<module>\u001b[0;34m()\u001b[0m\n\u001b[1;32m     31\u001b[0m     \u001b[0mT_4\u001b[0m \u001b[0;34m=\u001b[0m \u001b[0mTUnit\u001b[0m\u001b[0;34m*\u001b[0m\u001b[0;34m(\u001b[0m\u001b[0mT_EvapLow\u001b[0m\u001b[0;34m+\u001b[0m\u001b[0;36m1\u001b[0m\u001b[0;34m)\u001b[0m\u001b[0;34m\u001b[0m\u001b[0m\n\u001b[1;32m     32\u001b[0m     \u001b[0mx_4\u001b[0m \u001b[0;34m=\u001b[0m \u001b[0mQ_\u001b[0m\u001b[0;34m(\u001b[0m\u001b[0;36m0.0\u001b[0m\u001b[0;34m,\u001b[0m \u001b[0;34m'dimensionless'\u001b[0m\u001b[0;34m)\u001b[0m                    \u001b[0;31m#Table A7, page 937\u001b[0m\u001b[0;34m\u001b[0m\u001b[0m\n\u001b[0;32m---> 33\u001b[0;31m     \u001b[0mst_4\u001b[0m \u001b[0;34m=\u001b[0m \u001b[0mState\u001b[0m\u001b[0;34m(\u001b[0m\u001b[0msubstance1\u001b[0m\u001b[0;34m,\u001b[0m \u001b[0mT\u001b[0m\u001b[0;34m=\u001b[0m\u001b[0mT_4\u001b[0m\u001b[0;34m,\u001b[0m\u001b[0mx\u001b[0m\u001b[0;34m=\u001b[0m\u001b[0mx_4\u001b[0m\u001b[0;34m)\u001b[0m      \u001b[0;31m#Need a pressure that will have a super heated vapor\u001b[0m\u001b[0;34m\u001b[0m\u001b[0m\n\u001b[0m\u001b[1;32m     34\u001b[0m     \u001b[0mprint\u001b[0m\u001b[0;34m(\u001b[0m\u001b[0;34m'__State 1__'\u001b[0m\u001b[0;34m.\u001b[0m\u001b[0mcenter\u001b[0m\u001b[0;34m(\u001b[0m\u001b[0;36m85\u001b[0m\u001b[0;34m)\u001b[0m\u001b[0;34m)\u001b[0m\u001b[0;34m\u001b[0m\u001b[0m\n\u001b[1;32m     35\u001b[0m     \u001b[0mx_1\u001b[0m \u001b[0;34m=\u001b[0m \u001b[0mQ_\u001b[0m\u001b[0;34m(\u001b[0m\u001b[0;36m1.0\u001b[0m\u001b[0;34m,\u001b[0m\u001b[0;34m'dimensionless'\u001b[0m\u001b[0;34m)\u001b[0m\u001b[0;34m\u001b[0m\u001b[0m\n",
      "\u001b[0;32m/Users/jasonsecula/anaconda/lib/python3.6/site-packages/thermostate/thermostate.py\u001b[0m in \u001b[0;36m__init__\u001b[0;34m(self, substance, **kwargs)\u001b[0m\n\u001b[1;32m    164\u001b[0m \u001b[0;34m\u001b[0m\u001b[0m\n\u001b[1;32m    165\u001b[0m         \u001b[0;32mif\u001b[0m \u001b[0mlen\u001b[0m\u001b[0;34m(\u001b[0m\u001b[0minput_props\u001b[0m\u001b[0;34m)\u001b[0m \u001b[0;34m>\u001b[0m \u001b[0;36m0\u001b[0m\u001b[0;34m:\u001b[0m\u001b[0;34m\u001b[0m\u001b[0m\n\u001b[0;32m--> 166\u001b[0;31m             \u001b[0msetattr\u001b[0m\u001b[0;34m(\u001b[0m\u001b[0mself\u001b[0m\u001b[0;34m,\u001b[0m \u001b[0minput_props\u001b[0m\u001b[0;34m,\u001b[0m \u001b[0;34m(\u001b[0m\u001b[0mkwargs\u001b[0m\u001b[0;34m[\u001b[0m\u001b[0minput_props\u001b[0m\u001b[0;34m[\u001b[0m\u001b[0;36m0\u001b[0m\u001b[0;34m]\u001b[0m\u001b[0;34m]\u001b[0m\u001b[0;34m,\u001b[0m \u001b[0mkwargs\u001b[0m\u001b[0;34m[\u001b[0m\u001b[0minput_props\u001b[0m\u001b[0;34m[\u001b[0m\u001b[0;36m1\u001b[0m\u001b[0;34m]\u001b[0m\u001b[0;34m]\u001b[0m\u001b[0;34m)\u001b[0m\u001b[0;34m)\u001b[0m\u001b[0;34m\u001b[0m\u001b[0m\n\u001b[0m\u001b[1;32m    167\u001b[0m \u001b[0;34m\u001b[0m\u001b[0m\n\u001b[1;32m    168\u001b[0m     \u001b[0;32mdef\u001b[0m \u001b[0mto_SI\u001b[0m\u001b[0;34m(\u001b[0m\u001b[0mself\u001b[0m\u001b[0;34m,\u001b[0m \u001b[0mprop\u001b[0m\u001b[0;34m,\u001b[0m \u001b[0mvalue\u001b[0m\u001b[0;34m)\u001b[0m\u001b[0;34m:\u001b[0m\u001b[0;34m\u001b[0m\u001b[0m\n",
      "\u001b[0;32m/Users/jasonsecula/anaconda/lib/python3.6/site-packages/thermostate/thermostate.py\u001b[0m in \u001b[0;36m__setattr__\u001b[0;34m(self, key, value)\u001b[0m\n\u001b[1;32m     98\u001b[0m         \u001b[0;32melif\u001b[0m \u001b[0mkey\u001b[0m \u001b[0;32min\u001b[0m \u001b[0mself\u001b[0m\u001b[0;34m.\u001b[0m\u001b[0m_allowed_pairs\u001b[0m\u001b[0;34m:\u001b[0m\u001b[0;34m\u001b[0m\u001b[0m\n\u001b[1;32m     99\u001b[0m             \u001b[0mself\u001b[0m\u001b[0;34m.\u001b[0m\u001b[0m_check_dimensions\u001b[0m\u001b[0;34m(\u001b[0m\u001b[0mkey\u001b[0m\u001b[0;34m,\u001b[0m \u001b[0mvalue\u001b[0m\u001b[0;34m)\u001b[0m\u001b[0;34m\u001b[0m\u001b[0m\n\u001b[0;32m--> 100\u001b[0;31m             \u001b[0mself\u001b[0m\u001b[0;34m.\u001b[0m\u001b[0m_set_properties\u001b[0m\u001b[0;34m(\u001b[0m\u001b[0mkey\u001b[0m\u001b[0;34m,\u001b[0m \u001b[0mvalue\u001b[0m\u001b[0;34m)\u001b[0m\u001b[0;34m\u001b[0m\u001b[0m\n\u001b[0m\u001b[1;32m    101\u001b[0m         \u001b[0;32melif\u001b[0m \u001b[0mkey\u001b[0m \u001b[0;32min\u001b[0m \u001b[0mself\u001b[0m\u001b[0;34m.\u001b[0m\u001b[0m_unsupported_pairs\u001b[0m\u001b[0;34m:\u001b[0m\u001b[0;34m\u001b[0m\u001b[0m\n\u001b[1;32m    102\u001b[0m             raise StateError(\"The pair of input properties entered ({}) isn't supported yet. \"\n",
      "\u001b[0;32m/Users/jasonsecula/anaconda/lib/python3.6/site-packages/thermostate/thermostate.py\u001b[0m in \u001b[0;36m_set_properties\u001b[0;34m(self, known_props, known_values)\u001b[0m\n\u001b[1;32m    201\u001b[0m         \u001b[0minputs\u001b[0m \u001b[0;34m=\u001b[0m \u001b[0mgetattr\u001b[0m\u001b[0;34m(\u001b[0m\u001b[0mCoolProp\u001b[0m\u001b[0;34m,\u001b[0m \u001b[0;34m''\u001b[0m\u001b[0;34m.\u001b[0m\u001b[0mjoin\u001b[0m\u001b[0;34m(\u001b[0m\u001b[0;34m[\u001b[0m\u001b[0mp\u001b[0m\u001b[0;34m[\u001b[0m\u001b[0;36m0\u001b[0m\u001b[0;34m]\u001b[0m \u001b[0;32mfor\u001b[0m \u001b[0mp\u001b[0m \u001b[0;32min\u001b[0m \u001b[0mknown_state\u001b[0m\u001b[0;34m]\u001b[0m\u001b[0;34m)\u001b[0m \u001b[0;34m+\u001b[0m \u001b[0;34m'_INPUTS'\u001b[0m\u001b[0;34m)\u001b[0m\u001b[0;34m\u001b[0m\u001b[0m\n\u001b[1;32m    202\u001b[0m         \u001b[0;32mtry\u001b[0m\u001b[0;34m:\u001b[0m\u001b[0;34m\u001b[0m\u001b[0m\n\u001b[0;32m--> 203\u001b[0;31m             \u001b[0mself\u001b[0m\u001b[0;34m.\u001b[0m\u001b[0m_abstract_state\u001b[0m\u001b[0;34m.\u001b[0m\u001b[0mupdate\u001b[0m\u001b[0;34m(\u001b[0m\u001b[0minputs\u001b[0m\u001b[0;34m,\u001b[0m \u001b[0mknown_state\u001b[0m\u001b[0;34m[\u001b[0m\u001b[0;36m0\u001b[0m\u001b[0;34m]\u001b[0m\u001b[0;34m[\u001b[0m\u001b[0;36m1\u001b[0m\u001b[0;34m]\u001b[0m\u001b[0;34m,\u001b[0m \u001b[0mknown_state\u001b[0m\u001b[0;34m[\u001b[0m\u001b[0;36m1\u001b[0m\u001b[0;34m]\u001b[0m\u001b[0;34m[\u001b[0m\u001b[0;36m1\u001b[0m\u001b[0;34m]\u001b[0m\u001b[0;34m)\u001b[0m\u001b[0;34m\u001b[0m\u001b[0m\n\u001b[0m\u001b[1;32m    204\u001b[0m         \u001b[0;32mexcept\u001b[0m \u001b[0mValueError\u001b[0m \u001b[0;32mas\u001b[0m \u001b[0me\u001b[0m\u001b[0;34m:\u001b[0m\u001b[0;34m\u001b[0m\u001b[0m\n\u001b[1;32m    205\u001b[0m             \u001b[0;32mif\u001b[0m \u001b[0;34m'Saturation pressure'\u001b[0m \u001b[0;32min\u001b[0m \u001b[0mstr\u001b[0m\u001b[0;34m(\u001b[0m\u001b[0me\u001b[0m\u001b[0;34m)\u001b[0m\u001b[0;34m:\u001b[0m\u001b[0;34m\u001b[0m\u001b[0m\n",
      "\u001b[0;32mCoolProp/AbstractState.pyx\u001b[0m in \u001b[0;36mCoolProp.CoolProp.AbstractState.update (CoolProp/CoolProp.cpp:19352)\u001b[0;34m()\u001b[0m\n",
      "\u001b[0;32mCoolProp/AbstractState.pyx\u001b[0m in \u001b[0;36mCoolProp.CoolProp.AbstractState.update (CoolProp/CoolProp.cpp:19244)\u001b[0;34m()\u001b[0m\n",
      "\u001b[0;31mValueError\u001b[0m: Temperature to QT_flash [-13433.35 K] must be in range [115.63 K, 369.295 K]"
     ]
    }
   ],
   "source": [
    "from thermostate import State, Q_, units\n",
    "from math import pi\n",
    "import numpy as np\n",
    "substance1 = 'R22'\n",
    "#^^ From my notes, P_saturated, at 4 Degrees C, 5.6619 Bar\n",
    "substance2 = 'R134a'\n",
    "substance3 = 'ammonia'\n",
    "\n",
    "#_____________________________________________________________________ Line\n",
    "Pwr_i = Q_(281.3, 'kW').to('J/s')   #Converted from Tons of Refrigerant\n",
    "Cost_i = (15.225) #In cents/kWh\n",
    "Cost_f = (18.268) #In Cents/kWh\n",
    "Q_in = Q_(80,'ton_of_refrigeration').to('J/s')\n",
    "Pwr = Q_(250, 'kWh')\n",
    "R_bar = Q_(8.31446,'J/(mol*K)')                 #Mdot Calculations in Book on Page 635\n",
    "#_____________________________________________________________________\n",
    "#Temp of Room is 2DegreesC\n",
    "#Temperture of the is 40 degrees to be cooled to 2 degrees C\n",
    "T_EvapHigh = Q_(-18,'dimensionless')   #(-50+18)/2 = 16 Loops\n",
    "T_EvapLow = Q_(-50,'dimensionless')\n",
    "TUnit = Q_(1, 'degC')\n",
    "T_CndrHigh = Q_(92,'dimensionless')   #(92-60)/2 =  16 Loops\n",
    "T_CndrLow = Q_(60,'dimensionless')\n",
    "β = []\n",
    "W_c = []\n",
    "Q_out=[]\n",
    "countA = 0\n",
    "while (T_EvapLow < T_EvapHigh) and (T_CndrLow < T_CndrHigh):\n",
    "    countA +=1\n",
    "    countB = 0\n",
    "    T_4 = TUnit*T_EvapLow\n",
    "    x_4 = Q_(0.0, 'dimensionless')                    #Table A7, page 937\n",
    "    st_4 = State(substance1, T=T_4,x=x_4)      #Need a pressure that will have a super heated vapor\n",
    "    print('__State 1__'.center(85))\n",
    "    x_1 = Q_(1.0,'dimensionless')\n",
    "    st_1 = State(substance1, T=T_4, x=x_1) #Need a pressure that will have a super heated vapor\n",
    "    mdot = (Q_in/(st_1.h-st_4.h))\n",
    "    T_2s = TUnit*T_CndrLow\n",
    "    print('__State 2s__'.center(85))\n",
    "    st_2s = State(substance1,T=T_2s, s=st_1.s)                      #\n",
    "    print('__State 3__'.center(85))\n",
    "    T_3 = Q_(40,'degC')\n",
    "    p_3 = Q_(24.281, 'bar')\n",
    "    st_3 = State(substance1, p=p_3 , T=T_3)\n",
    "    print('__State 2__'.center(85))\n",
    "    st_2 = State(substance1,p=st_3.p,s=st_1.s)                      #\n",
    "    print (('CountA:', countA)+('CountB:', countB))\n",
    "    countB +=1\n",
    "    T_EvapLow +=2\n",
    "    T_CndrLow +=2\n",
    "    Q_out = mdot*(st_2s.h- st_3.h)\n",
    "    W_comp = (mdot*(st_2s.h-st_1.h)).to('kJ/s')\n",
    "    βeta = (Q_in/W_comp)\n",
    "    eta_c = ((st_2s.h-st_1.h)/(st_2.h-st_1.h))\n",
    "    print('           ')\n",
    "    print('________________________________________________________________________') \n",
    "    print (' {},'.format(st_4.T.to('degC'))) \n",
    "    print (('              {},'.format(st_4.phase)) + ('    {}'.format(st_4.h.to('kJ/kg')))) \n",
    "    print (' {},'.format(st_1.T.to('degC')))\n",
    "    print (('              {},'.format(st_1.phase)) + ('    {}'.format(st_1.h.to('kJ/kg')))) \n",
    "    print ('{},'.format(st_2s.T.to('degC')))\n",
    "    print (('              {},'.format(st_2s.phase))+ ('    {}'.format(st_2s.h.to('kJ/kg')))) \n",
    "    print (' {},'.format(st_3.T.to('degC')))\n",
    "    print (('              {},'.format(st_3.phase))+  ('    {}'.format(st_3.h.to('kJ/kg')))) \n",
    "    print (' {},'.format(st_2.T.to('degC')))\n",
    "    print (('              {},'.format(st_2.phase))+  ('    {}'.format(st_2.h.to('kJ/kg')))) \n",
    "    print('________________________________________________________________________') \n",
    "    print(' mdot  is {} '.format(mdot).center(85))\n",
    "    print(' Q_in  is {} '.format(Q_in.to('ton_of_refrigeration')).center(85))\n",
    "    print(' Q_out is {} '.format(Q_out.to('ton_of_refrigeration')).center(85))\n",
    "    print(' W_c   is {} '.format(W_comp.to('kW')).center(85))\n",
    "    print(' η_c   is {} '.format(eta_c).center(85))\n",
    "    print(' β     is {} '.format(βeta).center(85))\n",
    "    print('________________________________________________________________________')  \n",
    "    print('           ')\n",
    "\n",
    "        "
   ]
  }
 ],
 "metadata": {
  "kernelspec": {
   "display_name": "Python 3",
   "language": "python",
   "name": "python3"
  },
  "language_info": {
   "codemirror_mode": {
    "name": "ipython",
    "version": 3
   },
   "file_extension": ".py",
   "mimetype": "text/x-python",
   "name": "python",
   "nbconvert_exporter": "python",
   "pygments_lexer": "ipython3",
   "version": "3.6.0"
  }
 },
 "nbformat": 4,
 "nbformat_minor": 2
}
