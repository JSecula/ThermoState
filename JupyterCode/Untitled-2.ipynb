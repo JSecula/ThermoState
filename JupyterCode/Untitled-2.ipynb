{
 "cells": [
  {
   "cell_type": "code",
   "execution_count": null,
   "metadata": {
    "collapsed": false
   },
   "outputs": [],
   "source": [
    "name = 'Jason Secula'\n",
    "print (name)\n",
    "from thermostate import State, Q_, units\n",
    "T_1 = Q_(6.0,'degF')\n",
    "print('The Temperature was entered as '+'T = {}'.format(T_1))\n",
    "s_1 = Q_(0.22475,'BTU/(lb*degR)')\n",
    "print('The Entropy was entered as '+'s = {}'.format(s_1))\n",
    "print ('     ')\n",
    "st_1 = State('R134a')\n",
    "st_1.Ts = T_1, s_1\n",
    "print(' The Temperature is ' +'T_1 = {}'.format(st_1.T))\n",
    "print(' The Pressure is ' +'p_1 = {}'.format(st_1.p))\n",
    "print(' The Volume is ' +'v_1 = {}'.format(st_1.v))\n",
    "print(' The Internal Energy is ' +'u_1 = {}'.format(st_1.u))\n",
    "print(' The Enthalpy is ' +'h_1 = {}'.format(st_1.h))\n",
    "print(' The Entropy is ' +'s_1 = {}'.format(st_1.s))\n",
    "print(' The Quality is ' +'x_1 = {}'.format(st_1.x))\n",
    "print(' The Constant Pressure is ' +'cp_1 = {}'.format(st_1.cp))\n",
    "print(' The Constant Volume is ' +'cv_1 = {}'.format(st_1.cv))\n",
    "print ('     ')\n",
    "print ('     ')\n",
    "\n",
    "p_2 = Q_(80,'psi')\n",
    "print('The Temperature was entered as '+'p = {}'.format(p_2))\n",
    "s_2 = Q_(0.22475,'BTU/(lb*degR)')\n",
    "print('The Entropy was entered as '+'s = {}'.format(s_2))\n",
    "print ('     ')\n",
    "st_1 = State('R134a')\n",
    "st_1.ps = p_2, s_2\n",
    "print(' The Temperature is ' +'T_2 = {}'.format(st_2.T))\n",
    "print(' The Pressure is ' +'p_2 = {}'.format(st_2.p))\n",
    "print(' The Volume is ' +'v_2 = {}'.format(st_2.v))\n",
    "print(' The Internal Energy is ' +'u_2 = {}'.format(st_2.u))\n",
    "print(' The Enthalpy is ' +'h_2 = {}'.format(st_2.h))\n",
    "print(' The Entropy is ' +'s_2 = {}'.format(st_2.s))\n",
    "print(' The Quality is ' +'x_2 = {}'.format(st_2.x))\n",
    "print(' The Constant Pressure is ' +'cp_2 = {}'.format(st_2.cp))\n",
    "print(' The Constant Volume is ' +'cv_2 = {}'.format(st_2.cv))\n",
    "print ('     ')\n",
    "print ('     ')\n",
    "\n",
    "print(st_2.T.to('degF'))\n",
    "print(st_2.s.to('BTU/(lb*degR)'))\n",
    "print('Complete')"
   ]
  }
 ],
 "metadata": {
  "kernelspec": {
   "display_name": "Python 3",
   "language": "python",
   "name": "python3"
  },
  "language_info": {
   "codemirror_mode": {
    "name": "ipython",
    "version": 3
   },
   "file_extension": ".py",
   "mimetype": "text/x-python",
   "name": "python",
   "nbconvert_exporter": "python",
   "pygments_lexer": "ipython3",
   "version": "3.5.2"
  }
 },
 "nbformat": 4,
 "nbformat_minor": 2
}
