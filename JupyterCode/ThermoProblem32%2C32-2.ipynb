{
 "cells": [
  {
   "cell_type": "code",
   "execution_count": 6,
   "metadata": {
    "collapsed": false
   },
   "outputs": [
    {
     "name": "stdout",
     "output_type": "stream",
     "text": [
      "Jason Secula\n",
      "0.011666666666666665\n"
     ]
    },
    {
     "ename": "TypeError",
     "evalue": "Can't convert 'float' object to str implicitly",
     "output_type": "error",
     "traceback": [
      "\u001b[0;31m---------------------------------------------------------------------------\u001b[0m",
      "\u001b[0;31mTypeError\u001b[0m                                 Traceback (most recent call last)",
      "\u001b[0;32m<ipython-input-6-8793d5c1bf03>\u001b[0m in \u001b[0;36m<module>\u001b[0;34m()\u001b[0m\n\u001b[1;32m      9\u001b[0m \u001b[0mrateS\u001b[0m \u001b[0;34m=\u001b[0m \u001b[0;36m0.7\u001b[0m\u001b[0;34m/\u001b[0m\u001b[0;36m60\u001b[0m \u001b[0;31m#Convert to meter^3/second\u001b[0m\u001b[0;34m\u001b[0m\u001b[0m\n\u001b[1;32m     10\u001b[0m \u001b[0mprint\u001b[0m\u001b[0;34m(\u001b[0m\u001b[0mrateS\u001b[0m\u001b[0;34m)\u001b[0m\u001b[0;34m\u001b[0m\u001b[0m\n\u001b[0;32m---> 11\u001b[0;31m \u001b[0mprint\u001b[0m \u001b[0;34m(\u001b[0m\u001b[0;34m'The vapor flows at a rate of '\u001b[0m\u001b[0;34m+\u001b[0m \u001b[0mrateS\u001b[0m \u001b[0;34m+\u001b[0m\u001b[0;34m' meters qubed per second'\u001b[0m\u001b[0;34m)\u001b[0m\u001b[0;34m\u001b[0m\u001b[0m\n\u001b[0m\u001b[1;32m     12\u001b[0m \u001b[0minD\u001b[0m \u001b[0;34m=\u001b[0m \u001b[0;36m0.030\u001b[0m \u001b[0;31m# Diameter into the system in meters\u001b[0m\u001b[0;34m\u001b[0m\u001b[0m\n\u001b[1;32m     13\u001b[0m \u001b[0moutD\u001b[0m \u001b[0;34m=\u001b[0m \u001b[0;36m0.020\u001b[0m \u001b[0;31m# Diameter out of the system in meters\u001b[0m\u001b[0;34m\u001b[0m\u001b[0m\n",
      "\u001b[0;31mTypeError\u001b[0m: Can't convert 'float' object to str implicitly"
     ]
    }
   ],
   "source": [
    "print ('Jason Secula')\n",
    "from thermostate import State, Q_, units\n",
    "#Saturated R-134a vapor enters a compressor at 100 kPa at a rate of 0.7m^3/min and exits at 1 MPa. \n",
    "#The inlet tube has a diameter of 3 cm and the outlet tube has a diameter of 2 cm. \n",
    "#If the isentropic efficiency is 87 percent, \n",
    "#determine the temperature of the refrigerant at the exit of the compressor, in Degrees C.\n",
    "\n",
    "rate = 0.7 #Meters^3/minute\n",
    "rateS = 0.7/60 #Convert to meter^3/second\n",
    "print(rateS)\n",
    "print ('The vapor flows at a rate of ')\n",
    "print(rateS) \n",
    "print(' meters qubed per second')\n",
    "inD = 0.030 # Diameter into the system in meters\n",
    "outD = 0.020 # Diameter out of the system in meters\n",
    "p_1 = Q_(100.0, 'kPa')\n",
    "h_1 = Q_(234.44, 'kJ/kg')\n",
    "s_1 = Q_(0.9518,'kJ/(kg*K)')\n",
    "x_1 = Q_(87.0, 'percent')\n",
    "V_1 = rateS/((3.14/4)*inD)\n",
    "print ('     ')\n",
    "print('The Pressure into the system was entered as '+'p = {}'.format(p_1))\n",
    "print('At a Velocity of ')\n",
    "print(V_1)\n",
    "print('meters per second')\n",
    "print ('     ')\n",
    "\n",
    "p_2 = Q_(1.0,'MPa')\n",
    "s_2 = Q_(0.9518,'kJ/(kg*K)')\n",
    "V_2 = rateS/((3.14/4)*outD)\n",
    "print ('     ')\n",
    "print('The Pressure out the system was entered as '+'p = {}'.format(p_2))\n",
    "print('At a Velocity of ')\n",
    "print(V_2)\n",
    "print('meters per second')\n",
    "print ('     ')\n",
    "\n",
    "st_1 = State('R134a')\n",
    "st_1.ps = p_2, s_1\n",
    "print(' The Temperature is ' +'T_1 = {} '.format(st_1.T))\n",
    "print(' The Pressure is ' +'p_1 = {} '.format(st_1.p))\n",
    "print(' The Volume is ' +'v_1 = {} '.format(st_1.v))\n",
    "print(' The Internal Energy is ' +'u_1 = {} '.format(st_1.u))\n",
    "print(' The Enthalpy is ' +'h_1 = {} '.format(st_1.h))\n",
    "print(' The Entropy is ' +'s_1 = {} '.format(st_1.s))\n",
    "print(' The Quality is ' +'x_1 = {} ')\n",
    "print(' The Constant Pressure is ' +'cp_1 = {} '.format(st_1.cp))\n",
    "print(' The Constant Volume is ' +'cv_1 = {} '.format(st_1.cv))\n",
    "print ('     ')\n",
    "print ('     ')\n",
    "\n",
    "mfr = V_1/v_1\n",
    "print('The Mass Flow Rate into the system is ')\n",
    "print(mfr)\n",
    "print(' kilograms per second.' )\n",
    "\n",
    "st_2 = State('R134a')\n",
    "st_2.ps = p_2, s_2\n",
    "print(' The Temperature is ' +'T_2 = {}'.format(st_2.T))\n",
    "print(' The Pressure is ' +'p_2 = {}'.format(st_2.p))\n",
    "print(' The Volume is ' +'v_2 = {}'.format(st_2.v))\n",
    "print(' The Internal Energy is ' +'u_2 = {}'.format(st_2.u))\n",
    "print(' The Enthalpy is ' +'h_2 = {}'.format(st_2.h))\n",
    "print(' The Entropy is ' +'s_2 = {}'.format(st_2.s))\n",
    "print(' The Quality is ' +'x_2 = {}'.format(st_2.x))\n",
    "print(' The Constant Pressure is ' +'cp_2 = {}'.format(st_2.cp))\n",
    "print(' The Constant Volume is ' +'cv_2 = {}'.format(st_2.cv))\n",
    "print ('     ')\n",
    "print ('     ')\n",
    "\n",
    "mfr2 = V_2/v_2\n",
    "print('The Mass Flow Rate into the system is ')\n",
    "print(mfr2)\n",
    "print(' kilograms per second.' )\n",
    "print ('     ')\n",
    "\n",
    "Wrk = (h_1-h_2)+(((V_1^2)-(V_2^2))/2)\n",
    "Work = mfr*Wrk\n",
    "print('The work done was ')\n",
    "print(Work) \n",
    "print(' Kilowatts')\n",
    "\n",
    "\n",
    "#print Q_(, 'degK').to('degC')\n"
   ]
  }
 ],
 "metadata": {
  "kernelspec": {
   "display_name": "Python 3",
   "language": "python",
   "name": "python3"
  },
  "language_info": {
   "codemirror_mode": {
    "name": "ipython",
    "version": 3
   },
   "file_extension": ".py",
   "mimetype": "text/x-python",
   "name": "python",
   "nbconvert_exporter": "python",
   "pygments_lexer": "ipython3",
   "version": "3.5.2"
  }
 },
 "nbformat": 4,
 "nbformat_minor": 2
}
