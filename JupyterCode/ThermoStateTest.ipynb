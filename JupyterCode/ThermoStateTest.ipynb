{
 "cells": [
  {
   "cell_type": "code",
   "execution_count": null,
   "metadata": {
    "collapsed": false
   },
   "outputs": [],
   "source": [
    "print('Hello World')"
   ]
  },
  {
   "cell_type": "code",
   "execution_count": null,
   "metadata": {
    "collapsed": false
   },
   "outputs": [],
   "source": [
    "name = 'Jason Secula'\n",
    "print(name)"
   ]
  },
  {
   "cell_type": "code",
   "execution_count": null,
   "metadata": {
    "collapsed": false
   },
   "outputs": [],
   "source": [
    "from thermostate import State, Q_, units\n",
    "T_1 = Q_(6.0,'degF')\n",
    "p_1 = Q_(80.0, 'psia')\n"
   ]
  },
  {
   "cell_type": "code",
   "execution_count": null,
   "metadata": {
    "collapsed": true
   },
   "outputs": [],
   "source": [
    "from thermostate import State, Q_, units"
   ]
  },
  {
   "cell_type": "code",
   "execution_count": 12,
   "metadata": {
    "collapsed": false
   },
   "outputs": [
    {
     "name": "stdout",
     "output_type": "stream",
     "text": [
      "T = 6.0 degF, p = 80.0 pound_force_per_square_inch\n",
      "T_1 = 258.70555533333334 kelvin\n",
      "p_1 = 551580.583453469 pascal\n",
      "v_1 = 0.0007449765200876128 meter ** 3 / kilogram\n",
      "u_1 = 180565.81687116483 joule / kilogram\n",
      "h_1 = 180976.7314547741 joule / kilogram\n",
      "s_1 = 927.7184728555807 joule / kelvin / kilogram\n",
      "x_1 = None\n",
      "cp_1 = 1303.7492634593664 joule / kelvin / kilogram\n",
      "cv_1 = 861.590682160977 joule / kelvin / kilogram\n"
     ]
    }
   ],
   "source": [
    "from thermostate import State, Q_, units\n",
    "T_1 = Q_(6.0,'degF')\n",
    "p_1 = Q_(80.0, 'psi')\n",
    "st_1 = State('R134a')\n",
    "print('T = {}, p = {}'.format(T_1, p_1))\n",
    "st_1.Tp = T_1, p_1\n",
    "\n",
    "print('T_1 = {}'.format(st_1.T))\n",
    "print('p_1 = {}'.format(st_1.p))\n",
    "print('v_1 = {}'.format(st_1.v))\n",
    "print('u_1 = {}'.format(st_1.u))\n",
    "print('h_1 = {}'.format(st_1.h))\n",
    "print('s_1 = {}'.format(st_1.s))\n",
    "print('x_1 = {}'.format(st_1.x))\n",
    "print('cp_1 = {}'.format(st_1.cp))\n",
    "print('cv_1 = {}'.format(st_1.cv))\n",
    "\n",
    "\n"
   ]
  },
  {
   "cell_type": "code",
   "execution_count": 15,
   "metadata": {
    "collapsed": false
   },
   "outputs": [
    {
     "name": "stdout",
     "output_type": "stream",
     "text": [
      "T = 6.0 degF, p = 80.0 pound_force_per_square_inch\n",
      "The Temperature was entered asT = 6.0 degF\n",
      "The Pressure was entered asp = 80.0 pound_force_per_square_inch\n",
      "T_1 = 258.70555533333334 kelvin\n",
      "p_1 = 551580.583453469 pascal\n",
      "v_1 = 0.0007449765200876128 meter ** 3 / kilogram\n",
      "u_1 = 180565.81687116483 joule / kilogram\n",
      "h_1 = 180976.7314547741 joule / kilogram\n",
      "s_1 = 927.7184728555807 joule / kelvin / kilogram\n",
      "x_1 = None\n",
      "cp_1 = 1303.7492634593664 joule / kelvin / kilogram\n",
      "cv_1 = 861.590682160977 joule / kelvin / kilogram\n"
     ]
    },
    {
     "ename": "NameError",
     "evalue": "name 'T_2' is not defined",
     "output_type": "error",
     "traceback": [
      "\u001b[0;31m---------------------------------------------------------------------------\u001b[0m",
      "\u001b[0;31mNameError\u001b[0m                                 Traceback (most recent call last)",
      "\u001b[0;32m<ipython-input-15-93e6948c2f9a>\u001b[0m in \u001b[0;36m<module>\u001b[0;34m()\u001b[0m\n\u001b[1;32m     20\u001b[0m \u001b[0mp_2\u001b[0m \u001b[0;34m=\u001b[0m \u001b[0mQ_\u001b[0m\u001b[0;34m(\u001b[0m\u001b[0;36m80.0\u001b[0m\u001b[0;34m,\u001b[0m \u001b[0;34m'psi'\u001b[0m\u001b[0;34m)\u001b[0m\u001b[0;34m\u001b[0m\u001b[0m\n\u001b[1;32m     21\u001b[0m \u001b[0mst_2\u001b[0m \u001b[0;34m=\u001b[0m \u001b[0mState\u001b[0m\u001b[0;34m(\u001b[0m\u001b[0;34m'R134a'\u001b[0m\u001b[0;34m)\u001b[0m\u001b[0;34m\u001b[0m\u001b[0m\n\u001b[0;32m---> 22\u001b[0;31m \u001b[0mst_2\u001b[0m\u001b[0;34m.\u001b[0m\u001b[0mTx\u001b[0m \u001b[0;34m=\u001b[0m \u001b[0mT_2\u001b[0m\u001b[0;34m,\u001b[0m \u001b[0mx_2\u001b[0m\u001b[0;34m\u001b[0m\u001b[0m\n\u001b[0m\u001b[1;32m     23\u001b[0m \u001b[0mprint\u001b[0m\u001b[0;34m(\u001b[0m\u001b[0;34m'T_2 = {}'\u001b[0m\u001b[0;34m.\u001b[0m\u001b[0mformat\u001b[0m\u001b[0;34m(\u001b[0m\u001b[0mst_2\u001b[0m\u001b[0;34m.\u001b[0m\u001b[0mT\u001b[0m\u001b[0;34m)\u001b[0m\u001b[0;34m)\u001b[0m\u001b[0;34m\u001b[0m\u001b[0m\n\u001b[1;32m     24\u001b[0m \u001b[0mprint\u001b[0m\u001b[0;34m(\u001b[0m\u001b[0;34m'p_2 = {}'\u001b[0m\u001b[0;34m.\u001b[0m\u001b[0mformat\u001b[0m\u001b[0;34m(\u001b[0m\u001b[0mst_2\u001b[0m\u001b[0;34m.\u001b[0m\u001b[0mp\u001b[0m\u001b[0;34m)\u001b[0m\u001b[0;34m)\u001b[0m\u001b[0;34m\u001b[0m\u001b[0m\n",
      "\u001b[0;31mNameError\u001b[0m: name 'T_2' is not defined"
     ]
    }
   ],
   "source": [
    "from thermostate import State, Q_, units\n",
    "T_1 = Q_(6.0,'degF')\n",
    "p_1 = Q_(80.0, 'psi')\n",
    "st_1 = State('R134a')\n",
    "print('T = {}, p = {}'.format(T_1, p_1))\n",
    "print('The Temperature was entered as'+'T = {}'.format(T_1))\n",
    "print('The Pressure was entered as'+'p = {}'.format(p_1))\n",
    "\n",
    "st_1.Tp = T_1, p_1\n",
    "print('T_1 = {}'.format(st_1.T))\n",
    "print('p_1 = {}'.format(st_1.p))\n",
    "print('v_1 = {}'.format(st_1.v))\n",
    "print('u_1 = {}'.format(st_1.u))\n",
    "print('h_1 = {}'.format(st_1.h))\n",
    "print('s_1 = {}'.format(st_1.s))\n",
    "print('x_1 = {}'.format(st_1.x))\n",
    "print('cp_1 = {}'.format(st_1.cp))\n",
    "print('cv_1 = {}'.format(st_1.cv))\n",
    "\n",
    "p_2 = Q_(80.0, 'psi')\n",
    "st_2 = State('R134a')\n",
    "st_2.Tx = T_2, x_2\n",
    "print('T_2 = {}'.format(st_2.T))\n",
    "print('p_2 = {}'.format(st_2.p))\n",
    "print('v_2 = {}'.format(st_2.v))\n",
    "print('u_2 = {}'.format(st_2.u))\n",
    "print('h_2 = {}'.format(st_2.h))\n",
    "print('s_2 = {}'.format(st_2.s))\n",
    "print('x_2 = {}'.format(st_2.x))\n",
    "\n",
    "print(st_2.T.to('degF'))\n",
    "print('The final Temperature was'+'T = {}'.format(T_2))"
   ]
  },
  {
   "cell_type": "code",
   "execution_count": null,
   "metadata": {
    "collapsed": true
   },
   "outputs": [],
   "source": []
  }
 ],
 "metadata": {
  "kernelspec": {
   "display_name": "Python 3",
   "language": "python",
   "name": "python3"
  },
  "language_info": {
   "codemirror_mode": {
    "name": "ipython",
    "version": 3
   },
   "file_extension": ".py",
   "mimetype": "text/x-python",
   "name": "python",
   "nbconvert_exporter": "python",
   "pygments_lexer": "ipython3",
   "version": "3.5.2"
  }
 },
 "nbformat": 4,
 "nbformat_minor": 2
}
