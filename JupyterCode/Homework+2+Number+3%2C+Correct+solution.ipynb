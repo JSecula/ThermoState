{
 "cells": [
  {
   "cell_type": "code",
   "execution_count": 9,
   "metadata": {
    "collapsed": false
   },
   "outputs": [
    {
     "data": {
      "image/png": "[encoded data removed]",
      "text/plain": [
       "<matplotlib.figure.Figure at 0x1115460f0>"
      ]
     },
     "metadata": {},
     "output_type": "display_data"
    }
   ],
   "source": [
    "from thermostate import State, Q_, units\n",
    "from numpy import arange\n",
    "from math import pi\n",
    "#___________________________________\n",
    "import scipy.integrate as integrate\n",
    "import matplotlib.pyplot as plt\n",
    "import scipy.special as special\n",
    "import numpy as np\n",
    "\n",
    "substance = 'water'\n",
    "T_1 = Q_(560.0, 'degC') \n",
    "p_1 = Q_(16.0, 'MPa') \n",
    "mdot_1 = Q_(120.0, 'kg/s') \n",
    "p_2 = Q_(1.0, 'MPa')\n",
    "p_3 = Q_(8.0, 'kPa')\n",
    "x_4 = Q_(0.0, 'percent') \n",
    "x_6 = Q_(0.0, 'percent') \n",
    "p_low = Q_(0.1, 'MPa') \n",
    "p_high = Q_(7.5, 'MPa')\n",
    "\n",
    "# State 1\n",
    "st_1 = State(substance, T=T_1, p=p_1)\n",
    "h_1 = st_1.h\n",
    "s_1 = st_1.s\n",
    "\n",
    "# State 3\n",
    "s_3 = s_2\n",
    "st_3 = State(substance, p=p_3, s=s_3)\n",
    "h_3 = st_3.h\n",
    "\n",
    "# State 4\n",
    "p_4 = p_3\n",
    "st_4 = State(substance, p=p_4, x=x_4)\n",
    "h_4 = st_4.h\n",
    "s_4 = st_4.s\n",
    "\n",
    "y_l = []\n",
    "eta_l = []\n",
    "for p_2 in arange(0.1, 7.6, 0.1)*units.MPa:\n",
    "# State 2\n",
    "    s_2 = s_1\n",
    "    st_2 = State(substance, p=p_2, s=s_2)\n",
    "    h_2 = st_2.h\n",
    "# State 5\n",
    "    p_5 = p_2\n",
    "    s_5 = s_4\n",
    "    st_5 = State(substance, p=p_5, s=s_5)\n",
    "    h_5 = st_5.h\n",
    "# State 6\n",
    "    p_6 = p_2\n",
    "    st_6 = State(substance, p=p_6, x=x_6)\n",
    "    h_6 = st_6.h\n",
    "    s_6 = st_6.s\n",
    "# State 7\n",
    "    p_7 = p_1\n",
    "    s_7 = s_6\n",
    "    st_7 = State(substance, p=p_7, s=s_7)\n",
    "    h_7 = st_7.h\n",
    "    y = (h_6 - h_5)/(h_2 - h_5)\n",
    "    y_l.append(y)\n",
    "    Wdot_net = (mdot_1*(h_1 - h_2 + (1 - y)*(h_2 - h_3) + (1 - y)*(h_4 - h_5) + (h_6 - h_7))).to('MW') \n",
    "    Qdot_in = (mdot_1*(h_1 - h_7)).to('MW')\n",
    "    eta = Wdot_net/Qdot_in\n",
    "    eta_l.append(eta)\n",
    "%matplotlib inline\n",
    "plt.plot(y_l, eta_l, label='eta') \n",
    "plt.legend(loc='best') \n",
    "plt.title('$\\eta$ vs. $y$')\n",
    "plt.xlabel('$y$ ($\\dot{m}_2/\\dot{m}_1$)') \n",
    "plt.ylabel('$\\eta$');"
   ]
  }
 ],
 "metadata": {
  "kernelspec": {
   "display_name": "Python 3",
   "language": "python",
   "name": "python3"
  },
  "language_info": {
   "codemirror_mode": {
    "name": "ipython",
    "version": 3
   },
   "file_extension": ".py",
   "mimetype": "text/x-python",
   "name": "python",
   "nbconvert_exporter": "python",
   "pygments_lexer": "ipython3",
   "version": "3.6.0"
  }
 },
 "nbformat": 4,
 "nbformat_minor": 2
}
