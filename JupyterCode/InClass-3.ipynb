{
 "cells": [
  {
   "cell_type": "code",
   "execution_count": 1,
   "metadata": {
    "collapsed": false
   },
   "outputs": [
    {
     "name": "stdout",
     "output_type": "stream",
     "text": [
      "  Jason Secula\n",
      "  Thermodyanamics 2234\n",
      "  January 24, 2017\n",
      "                    \n",
      "10\n",
      "4.22\n"
     ]
    },
    {
     "ename": "TypeError",
     "evalue": "list() takes at most 1 argument (2 given)",
     "output_type": "error",
     "traceback": [
      "\u001b[0;31m---------------------------------------------------------------------------\u001b[0m",
      "\u001b[0;31mTypeError\u001b[0m                                 Traceback (most recent call last)",
      "\u001b[0;32m<ipython-input-1-bce93d442b1e>\u001b[0m in \u001b[0;36m<module>\u001b[0;34m()\u001b[0m\n\u001b[1;32m      9\u001b[0m \u001b[0mprint\u001b[0m\u001b[0;34m(\u001b[0m\u001b[0mabs\u001b[0m\u001b[0;34m(\u001b[0m\u001b[0;34m-\u001b[0m\u001b[0;36m10\u001b[0m\u001b[0;34m)\u001b[0m\u001b[0;34m)\u001b[0m \u001b[0;31m#absolute value function\u001b[0m\u001b[0;34m\u001b[0m\u001b[0m\n\u001b[1;32m     10\u001b[0m \u001b[0mprint\u001b[0m\u001b[0;34m(\u001b[0m\u001b[0mround\u001b[0m\u001b[0;34m(\u001b[0m\u001b[0;36m4.223232342342\u001b[0m\u001b[0;34m,\u001b[0m \u001b[0;36m2\u001b[0m\u001b[0;34m)\u001b[0m\u001b[0;34m)\u001b[0m \u001b[0;31m#rounds to 2 decimal places\u001b[0m\u001b[0;34m\u001b[0m\u001b[0m\n\u001b[0;32m---> 11\u001b[0;31m \u001b[0mprint\u001b[0m\u001b[0;34m(\u001b[0m\u001b[0mlist\u001b[0m\u001b[0;34m(\u001b[0m\u001b[0;36m2\u001b[0m\u001b[0;34m,\u001b[0m\u001b[0;36m9\u001b[0m\u001b[0;34m)\u001b[0m\u001b[0;34m)\u001b[0m \u001b[0;31m# 9-1 = 8, 9-2=7, 8-2 = 6, 7-2 = 5\u001b[0m\u001b[0;34m\u001b[0m\u001b[0m\n\u001b[0m\u001b[1;32m     12\u001b[0m     \u001b[0;31m#^^displays [2, 3, 4, 5, 6, 7, 8]\u001b[0m\u001b[0;34m\u001b[0m\u001b[0;34m\u001b[0m\u001b[0m\n\u001b[1;32m     13\u001b[0m \u001b[0mget_ipython\u001b[0m\u001b[0;34m(\u001b[0m\u001b[0;34m)\u001b[0m\u001b[0;34m.\u001b[0m\u001b[0mmagic\u001b[0m\u001b[0;34m(\u001b[0m\u001b[0;34m'whos #prints out all of the created variables.'\u001b[0m\u001b[0;34m)\u001b[0m\u001b[0;34m\u001b[0m\u001b[0m\n",
      "\u001b[0;31mTypeError\u001b[0m: list() takes at most 1 argument (2 given)"
     ]
    }
   ],
   "source": [
    "print('  Jason Secula')\n",
    "print('  Thermodyanamics 2234')\n",
    "print('  January 24, 2017')\n",
    "print('                    ')\n",
    "#shift+enter or control+enter to launch code\n",
    "4**2 #this is how you do a value to the POWER OF\n",
    "z = 1 #sets z equal to one\n",
    "z ==1 #checks to see if z is equal to one. \n",
    "print(abs(-10)) #absolute value function\n",
    "print(round(4.223232342342, 2)) #rounds to 2 decimal places\n",
    "# print(list(2,9)) # 9-1 = 8, 9-2=7, 8-2 = 6, 7-2 = 5\n",
    "    #^^displays [2, 3, 4, 5, 6, 7, 8]\n",
    "%whos #prints out all of the created variables.\n",
    "\n",
    "print('                    ')\n",
    "print('                    ')\n",
    "from thermostate import State, Q_, units\n",
    "units.default_format = '~H'\n",
    "\n",
    "substance = 'air'\n",
    "\n",
    "#State 1\n",
    "T_1 = Q_(300, 'kelvin') #Temperature\n",
    "p_1 = Q_(1.0, 'bar')    #Pressure\n",
    "mdot = Q_(5.8, 'kg/s')  #MassFlowRate\n",
    "Q_(300.0, 'kelvin') == 300.0*units.kelvin\n",
    "\n",
    "#State 2\n",
    "p_2 = Q_(10.0, 'bar')\n",
    "\n",
    "#State 3\n",
    "p_3 = p_2\n",
    "T_3 = Q_(1400.0, 'kelvin')\n",
    "\n",
    "#State 4\n",
    "p_4 = p_1\n",
    "\n",
    "#OtherData\n",
    "eta_c = Q_(80.0,'percent')\n",
    "eta_t = Q_(90.0,'percent')\n",
    "\n",
    "st_1 = State(substance, T=T_1, p=p_1) #Telling the state, it is air controlled by temperature and pressure\n",
    "#st_1.Tp = T_1, p_1 <<This also works\n",
    "\n",
    "h_1 = st_1.h #This is how you retrieve a vairable from the collected data\n",
    "s_1 = st_1.s #Go into state 1, get the value of entropy\n",
    "s_2s = s_1\n",
    "\n",
    "st_2s = State(substance, p=p_2, s=s_2s)\n",
    "h_2s = st_2s.h\n",
    "h_2 = h_1+ (h_2s - h_1)/eta_c\n",
    "Wdot_c = (mdot*(h_1-h_2)).to('kW')\n",
    "print(Wdot_c)\n",
    "\n",
    "\n",
    "#Wdot_net = Wdot_t + Wdot_C should display 1662kW\n",
    "\n"
   ]
  }
 ],
 "metadata": {
  "kernelspec": {
   "display_name": "Python 3",
   "language": "python",
   "name": "python3"
  },
  "language_info": {
   "codemirror_mode": {
    "name": "ipython",
    "version": 3
   },
   "file_extension": ".py",
   "mimetype": "text/x-python",
   "name": "python",
   "nbconvert_exporter": "python",
   "pygments_lexer": "ipython3",
   "version": "3.6.0"
  }
 },
 "nbformat": 4,
 "nbformat_minor": 2
}
