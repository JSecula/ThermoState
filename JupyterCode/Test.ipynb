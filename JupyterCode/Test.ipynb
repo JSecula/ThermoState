{
 "cells": [
  {
   "cell_type": "code",
   "execution_count": 5,
   "metadata": {
    "collapsed": false
   },
   "outputs": [],
   "source": [
    "from mpl_toolkits.axes_grid1 import ImageGrid\n",
    "from thermostate import State, Q_, units\n",
    "import scipy.integrate as integrate\n",
    "import matplotlib.pyplot as plt\n",
    "import scipy.special as special\n",
    "from math import pi\n",
    "import numpy as np\n",
    "result = integrate.quad(lambda x: special.jv(2.5,x), 0, 4.5)\n",
    "print(result)\n",
    "\n",
    "res = []\n",
    "for i in range(1000, 1800):\n",
    "    x = 1000*i\n",
    "    res.append(x)\n",
    "print('X-End')\n",
    "    res1 = []\n",
    "    for j in range(6, 1):\n",
    "        z = 6*j\n",
    "        res1.append(z)\n",
    "        plt.plot(x,z)\n",
    "        plt.title('Work vs. Pressure Ratio')\n",
    "        plt.ylabel('The Work Done (kJ/kg)')\n",
    "        plt.xlabel('Pressure Ratio')\n",
    "        plt.show()"
   ]
  }
 ],
 "metadata": {
  "kernelspec": {
   "display_name": "Python 3",
   "language": "python",
   "name": "python3"
  },
  "language_info": {
   "codemirror_mode": {
    "name": "ipython",
    "version": 3
   },
   "file_extension": ".py",
   "mimetype": "text/x-python",
   "name": "python",
   "nbconvert_exporter": "python",
   "pygments_lexer": "ipython3",
   "version": "3.6.0"
  }
 },
 "nbformat": 4,
 "nbformat_minor": 2
}
