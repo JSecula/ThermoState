{
 "cells": [
  {
   "cell_type": "code",
   "execution_count": 3,
   "metadata": {
    "collapsed": false
   },
   "outputs": [
    {
     "name": "stdout",
     "output_type": "stream",
     "text": [
      "2037.1832715762623 psi\n"
     ]
    }
   ],
   "source": [
    "from thermostate import State, Q_, units\n",
    "units.default_format = '~H'\n",
    "substance = 'water'\n",
    "#substance = 'ammonia'\n",
    "pi = 3.14159265358979\n",
    "eta_t = eta_p = Q_(80.0, 'percent') \n",
    "\n",
    "#Inlet Nozzle\n",
    "OutletB = Q_((pi*((1/32)/2)),'in**2')\n",
    "NzlFarce = Q_(100,'lbf') #We need at least 65.7 lbi to turn the turbine\n",
    "p_1 = (NzlFarce/OutletB).to('psi')\n",
    "\n",
    "print (p_1)"
   ]
  }
 ],
 "metadata": {
  "kernelspec": {
   "display_name": "Python 3",
   "language": "python",
   "name": "python3"
  },
  "language_info": {
   "codemirror_mode": {
    "name": "ipython",
    "version": 3
   },
   "file_extension": ".py",
   "mimetype": "text/x-python",
   "name": "python",
   "nbconvert_exporter": "python",
   "pygments_lexer": "ipython3",
   "version": "3.6.0"
  }
 },
 "nbformat": 4,
 "nbformat_minor": 2
}
