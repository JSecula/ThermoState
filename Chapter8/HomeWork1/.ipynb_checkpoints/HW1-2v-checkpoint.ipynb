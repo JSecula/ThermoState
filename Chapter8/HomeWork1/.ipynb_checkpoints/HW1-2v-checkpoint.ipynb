{
 "cells": [
  {
   "cell_type": "code",
   "execution_count": null,
   "metadata": {
    "collapsed": true
   },
   "outputs": [],
   "source": [
    "from thermostate import State, Q_, units\n",
    "print ('Jason Secula')\n",
    "print ('Homework One')\n",
    "print ('     ')\n",
    "#Homework 1-1 Question Carnot Cycle\n",
    "# Adiabatic Expansion >Isothermal Compression >Adiabatic Compression >Isothermal Expansion \n",
    "#1. The thermal efficiency\n",
    "#2. The back work ratio\n",
    "#3. The net power developed, in kW\n",
    "#4. The rate of heat transfer from the working fluid passing through the condenser, in kW\n",
    "\n",
    "substance = 'water'\n",
    "mdot = Q_(120.0, 'kg/s')\n",
    "\n",
    "p_4 = Q_(16.0, 'MPa')\n",
    "x_4 = Q_(0.0, 'dimensionless')\n",
    "#Saturated Liquid Entering the Boiler (state 4)\n",
    "st_4 = State(substance,s=s_4,p=p_4)\n",
    "T_4 = st_4.T #this will be used to find eta max\n",
    "\n",
    "#State One Leaving Boiler into Adiabatic Turbine\n",
    "x_1 = Q_(1.0, 'dimensionless')\n",
    "st_1 = State(substance, x=x_1)\n",
    "T_1 = st_1.T\n",
    "s_2 = st_1.s #Since the Turbine is Adiabatic, we can use these to set the next state. \n",
    "\n",
    "#State Two Leaving Tubine for Isothermal Compression in Condenser\n",
    "p_2 = Q_(8.0, 'kPa')\n",
    "st_2 = State(substance, p=p_2, s=s_2)\n",
    "T_2 = st_2.T\n",
    "#CoolingWater\n",
    "Tcw_1 = Q_(18.0, 'degC')\n",
    "T_avg = Q_(27.0, 'degC')\n",
    "st_5 = State(substance, T=Tcw_1, p=p_5)\n",
    "h_2b = st_5.h #h_5 = 75637.71261772985 j/kg\n",
    "#Cooling Temp increases from 18C to 36C with p = 1 atm \n",
    "Tcw_2 = Q_(36.0, 'degC') #Given Cooling Water 2\n",
    "st_6 = State(substance, T=Tcw_2, p=p_5)\n",
    "h_3b = st_6.h \n",
    "T_avg = Q_(27.0, 'degC') #Given Average of Cooling Water 2>>3\n",
    "st_7 = State(substance, T=T_avg, p=p_5)\n",
    "h_avg = st_7.h \n",
    "\n",
    "\n",
    "#State Three into the Adiabatic Compressive pump from condensr.\n",
    "\n",
    "\n",
    "#T_h = (T_1-T_4)\n",
    "#T_c = (T_3-T_2)\n",
    "#Nmax = 1-(T_c/T_h) #T_c is through the condenser. T_h is through the boiler.\n",
    "#print('1. The thermal efficiency of this Carnot cycle is ')\n",
    "#print(Nmax.to('kelvin'))\n",
    "\n",
    "#mCWavg = (mdot*(h_2-h_3))/(h_avg)\n",
    "#print(' ** 4. The average Mass flow rate of the Cooling water through the Condenser is ')\n",
    "#print(mCWavg.to('kg/s')) #Using the average is much lower...\n",
    "#print ('     ')\n",
    "\n",
    "#mCW = (mdot*(h_2-h_3))/(h_3b-h_2b)\n",
    "#print('4. The Mass flow rate of the Cooling water through the Condenser is ')\n",
    "#print(mCW.to('kg/s'))"
   ]
  }
 ],
 "metadata": {
  "kernelspec": {
   "display_name": "Python 3",
   "language": "python",
   "name": "python3"
  },
  "language_info": {
   "codemirror_mode": {
    "name": "ipython",
    "version": 3
   },
   "file_extension": ".py",
   "mimetype": "text/x-python",
   "name": "python",
   "nbconvert_exporter": "python",
   "pygments_lexer": "ipython3",
   "version": "3.6.0"
  }
 },
 "nbformat": 4,
 "nbformat_minor": 2
}
