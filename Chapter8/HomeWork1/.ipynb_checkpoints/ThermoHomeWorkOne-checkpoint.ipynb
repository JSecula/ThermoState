{
 "cells": [
  {
   "cell_type": "code",
   "execution_count": 3,
   "metadata": {
    "collapsed": false
   },
   "outputs": [
    {
     "name": "stdout",
     "output_type": "stream",
     "text": [
      "Jason Secula\n",
      "Homework One\n",
      "today\n",
      " The Temperature is T_1 = 620.5048014626856 kelvin \n",
      " The Pressure was entered as p_1 = 16000000.000000015 pascal \n",
      " The Volume is v_1 = 0.009308846870316521 meter ** 3 / kilogram \n",
      " The Internal Energy is u_1 = 2431845.4040882834 joule / kilogram \n",
      " The Enthalpy is h_1 = 2580786.954013348 joule / kilogram \n",
      " The Entropy is s_1 = 5246.289397761014 joule / kelvin / kilogram \n",
      " The Quality was entered as x_1 = {} \n",
      "     \n",
      "     \n",
      " The Temperature is T_2 = 620.5048014626856 kelvin \n",
      " The Pressure was entered as p_2 = 7999.999999999998 pascal \n",
      " The Volume is v_2 = 35.79172000934738 meter ** 3 / kilogram \n",
      " The Internal Energy is u_2 = 2885881.9404425453 joule / kilogram \n",
      " The Enthalpy is h_2 = 3172215.700517324 joule / kilogram \n",
      " The Entropy is s_2 = 9545.702007816815 joule / kelvin / kilogram \n",
      " The Quality is x_2 = {} \n",
      "     \n",
      "     \n"
     ]
    }
   ],
   "source": [
    "from thermostate import State, Q_, units\n",
    "print ('Jason Secula')\n",
    "print ('Homework One')\n",
    "#Homework 1-1 Question\n",
    "#Find Net Power Developed in kW\n",
    "#Rate of Heat Transfer through boiler\n",
    "#Thermal Efficency of Cycle\n",
    "#MassFlowRate of cooling water  in kg/s after temp change.\n",
    "\n",
    "substance = 'water'\n",
    "\n",
    "#State One Adiabatic Expansion Through a TURBINE (1-2)\n",
    "x_1 = Q_(1.0, 'dimensionless') #Given Vapor\n",
    "p_1 = Q_(16.0, 'MPa') #Given Pressure into the Turbine\n",
    "mdot = Q_(120.0, 'kg/s') #Given MassFlowRate entering Turbine\n",
    "\n",
    "st_1 = State(substance, p=p_1, x=x_1)\n",
    "print(' The Temperature at state one is ' +'T_1 = {} '.format(st_1.T))\n",
    "print(' The Pressure was entered as ' +'p_1 = {} '.format(st_1.p))\n",
    "print(' The Volume at state one is ' +'v_1 = {} '.format(st_1.v))\n",
    "print(' The Internal Energy at state one is ' +'u_1 = {} '.format(st_1.u))\n",
    "print(' The Enthalpy at state one is ' +'h_1 = {} '.format(st_1.h))\n",
    "print(' The Entropy at state one is ' +'s_1 = {} '.format(st_1.s))\n",
    "print(' The Quality was entered as ' +'x_1 = {} '.format(st_1.x))\n",
    "print ('     ')\n",
    "print ('     ')\n",
    "\n",
    "h_1 = st_1.h #Get and Store Enthalpy (h) as a Variable from State 1\n",
    "s_1 = st_1.s\n",
    "T_1 = st_1.T #Adiabatic\n",
    "\n",
    "#State Two Isobaric Compression through a Condenser (2-3)\n",
    "p_2 = Q_(8.0, 'kPa') #Given Pressure of the Condenser\n",
    "st_2 = State(substance, p=p_2, s=s_2)\n",
    "print(' The Temperature at state two is ' +'T_2 = {} '.format(st_2.T))\n",
    "print(' The Pressure was entered as ' +'p_2 = {} '.format(st_2.p))\n",
    "print(' The Volume at state two is ' +'v_2 = {} '.format(st_2.v))\n",
    "print(' The Internal Energy at state two is ' +'u_2 = {} '.format(st_2.u))\n",
    "print(' The Enthalpy at state two is ' +'h_2 = {} '.format(st_2.h))\n",
    "print(' The Entropy at state two is ' +'s_2 = {} '.format(st_2.s))\n",
    "print(' The Quality at state two is ' +'x_2 = {} '.format(st_2.x))\n",
    "print ('     ')\n",
    "print ('     ')\n",
    "\n",
    "h_2 = st_2.h #Get and Store Enthalpy (h) as a Variable from State 2\n",
    "s_2 = st_2.s\n",
    "\n",
    "Tcw_1 = Q_(18.0, 'degC').to('') #Given Cooling Water 1\n",
    "#Cooling Temp increases from 18C to 36C with p = 1 atm \n",
    "Tcw_2 = Q_(36.0, 'degC') #Given Cooling Water 2\n",
    "T_avg = Q_(27.0, 'degC') #Given Average of Cooling Water 1>>2\n",
    "\n",
    "#State Three Adiabatic Compression through the PUMP (3-4)\n",
    "\n",
    "\n",
    "#State Four Isobaric Expansion through the Boiler (4-1)\n",
    "\n",
    "\n",
    "W_t = mdot*(h_1-h_2)\n",
    "print ('the Work done by the Turbine was '+ W_t)\n",
    "#Q_out = \n",
    "#W_Net = (mdot*(h_1-h_2)) + (mdot(h_3-h_4)).to('kW')\n",
    "#print ('W_Net')\n",
    "\n",
    "#nTE = ((h_1-h_2)+(h_4-h_3))/(h_1-h_4) #This is the Thermal Efficiency\n",
    "#print ('nTE')\n",
    "\n"
   ]
  },
  {
   "cell_type": "code",
   "execution_count": null,
   "metadata": {
    "collapsed": true
   },
   "outputs": [],
   "source": []
  }
 ],
 "metadata": {
  "kernelspec": {
   "display_name": "Python 3",
   "language": "python",
   "name": "python3"
  },
  "language_info": {
   "codemirror_mode": {
    "name": "ipython",
    "version": 3
   },
   "file_extension": ".py",
   "mimetype": "text/x-python",
   "name": "python",
   "nbconvert_exporter": "python",
   "pygments_lexer": "ipython3",
   "version": "3.6.0"
  }
 },
 "nbformat": 4,
 "nbformat_minor": 2
}
