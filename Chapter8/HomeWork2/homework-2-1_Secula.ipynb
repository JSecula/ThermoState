{
 "cells": [
  {
   "cell_type": "markdown",
   "metadata": {},
   "source": [
    "# Homework 2-1\n",
    "\n",
    "---\n",
    "\n",
    "## Imports"
   ]
  },
  {
   "cell_type": "code",
   "execution_count": 1,
   "metadata": {
    "collapsed": false
   },
   "outputs": [],
   "source": [
    "from thermostate import State, Q_, units"
   ]
  },
  {
   "cell_type": "markdown",
   "metadata": {},
   "source": [
    "---\n",
    "\n",
    "## Definitions"
   ]
  },
  {
   "cell_type": "code",
   "execution_count": 2,
   "metadata": {
    "collapsed": false
   },
   "outputs": [],
   "source": [
    "substance = 'ammonia'          #The Secondary working fluid. \n",
    "p_1 = Q_(3.25, 'MPa')          #ammonia into the Turbine\n",
    "T_1 = Q_(147.0, 'degC')        #ammonia into the Turbine\n",
    "p_2 = Q_(410.0, 'kPa')         #ammonia into the condenser\n",
    "T_2 = Q_(14.21, 'degC')        #ammonia into the condenser\n",
    "x_3 = Q_(0.0, 'dimensionless') #\n",
    "mdot = Q_(305.6, 'kg/s')\n",
    "eta_p = Q_(0.9, 'dimensionless')"
   ]
  },
  {
   "cell_type": "markdown",
   "metadata": {},
   "source": [
    "---\n",
    "\n",
    "## Problem Statement"
   ]
  },
  {
   "cell_type": "markdown",
   "metadata": {
    "variables": {
     "format(T_1)": "147.0 celsius",
     "format(T_2)": "14.21 celsius",
     "format(eta_p, \".0%~H\")": "90% ",
     "format(mdot)": "305.6 kg/s",
     "format(p_1)": "3.25 MPa",
     "format(p_2)": "410.0 kPa",
     "format(substance)": "ammonia",
     "format(substance.title())": "Ammonia"
    }
   },
   "source": [
    "A binary geothermal power plant uses geothermal water as a heat source. The cycle operates on a superheat Rankine cycle with ammonia as the working fluid. Ammonia enters the turbine at 3.25 MPa and 147.0 celsius at a rate of 305.6 kg/s and leaves at 14.21 celsius and 410.0 kPa. The working fluid is condensed in an air-cooled condenser to a saturated liquid and pumped to the heat exchanger pressure. Assuming the pump to have an isentropic efficiency of 90% , determine\n",
    "\n",
    "1. the isentropic efficiency of the turbine\n",
    "2. the net power output of the plant, in MW\n",
    "3. the thermal efficiency of the cycle\n",
    "4. Sketch the cycle on $T$-$s$ coordinates (Hint: you can use the `State.phase` property to print the phase once you have defined a state with two variables)"
   ]
  },
  {
   "cell_type": "markdown",
   "metadata": {},
   "source": [
    "# # Jason Secula\n",
    "#Homework Two, Problem Two\n",
    "\n",
    "##Engineering Model\n",
    "#Steady state.\n",
    "#KE and PE can be neglected.\n",
    "#Flow in one direction.\n",
    "#Because this is a Binary Geothermal Plant, the heat exchanger is divided in half. half is cycling water from below the earht's surface. \n",
    "#The otherside is ammonia, which is the Rankine Cycle we need. Ammonia is cooled in open air. "
   ]
  },
  {
   "cell_type": "code",
   "execution_count": 25,
   "metadata": {
    "collapsed": false
   },
   "outputs": [
    {
     "name": "stdout",
     "output_type": "stream",
     "text": [
      "When StateOne = supercritical, The Entropy = 6014.882544701851 joule / kelvin / kilogram\n",
      "and when StateOne = supercriticalThe Temperature = 420.15 kelvin\n",
      "and When StateOne = supercritical The Enthalpy  is = 1888870.8263251164 joule / kilogram\n",
      "                        \n",
      "When StateTwo = gas, The Entropy = 6250.612396071688 joule / kelvin / kilogram\n",
      "and when StateTwo = gasThe Temperature = 287.35999999999996 kelvin\n",
      "and When StateTwo = gas The Enthalpy  is = 1643701.6730756196 joule / kilogram\n",
      "                        \n",
      "When StateTwoS = twophase, The Entropy = 6014.882544701851 joule / kelvin / kilogram\n",
      "and when StateTwoS = twophaseThe Temperature = 271.9211269075034 kelvin\n",
      "and When StateTwoS = twophase The Enthalpy  is = 1578529.0353177933 joule / kilogram\n",
      "                        \n",
      "When StateThree = twophase, The Entropy = 1706.814046399419 joule / kelvin / kilogram\n",
      "and when StateThree = twophaseThe Temperature = 287.35999999999996 kelvin\n",
      "                        \n",
      "When StateFour = liquid, The Entropy = 1706.8140463994193 joule / kelvin / kilogram\n",
      "and when StateFour = liquidThe Temperature = 287.9479832458714 kelvin\n",
      "                        \n",
      "1) The efficientcy of the Turbine is = 0.7899972235570153 dimensionless\n",
      "2) The Net Power Created is = 73.66999655944136 megawatt\n",
      "3) The Thermal Efficiency is = 1.6340691701439667e-07 megawatt * second / joule\n"
     ]
    }
   ],
   "source": [
    "#StateOne\n",
    "st_1 = State(substance, T=T_1, p=p_1)\n",
    "print('When StateOne = {}'.format(st_1.phase) + ', The Entropy = {}'.format(st_1.s))\n",
    "print('and when StateOne = {}'.format(st_1.phase) +'The Temperature = {}'.format(st_1.T))\n",
    "print('and When StateOne = {}'.format(st_1.phase) +' The Enthalpy  is = {}'.format(st_1.h))\n",
    "print('                        ')\n",
    "\n",
    "#StateTwo\n",
    "st_2 = State(substance, T=T_2, p=p_2)\n",
    "print('When StateTwo = {}'.format(st_2.phase) + ', The Entropy = {}'.format(st_2.s))\n",
    "print('and when StateTwo = {}'.format(st_2.phase) +'The Temperature = {}'.format(st_2.T))\n",
    "print('and When StateTwo = {}'.format(st_2.phase) +' The Enthalpy  is = {}'.format(st_2.h))\n",
    "print('                        ')\n",
    "\n",
    "s_2s = st_1.s #Isentropic expansion through the turbine.\n",
    "st_2s = State(substance, s=s_2s, p=p_2) \n",
    "st_2 = State(substance, T=T_2, p=p_2)\n",
    "print('When StateTwoS = {}'.format(st_2s.phase) + ', The Entropy = {}'.format(st_2s.s))\n",
    "print('and when StateTwoS = {}'.format(st_2s.phase) +'The Temperature = {}'.format(st_2s.T))\n",
    "print('and When StateTwoS = {}'.format(st_2s.phase) +' The Enthalpy  is = {}'.format(st_2s.h))\n",
    "print('                        ')\n",
    "\n",
    "#StateThree\n",
    "T_3 = T_2\n",
    "st_3 = State(substance, T=T_3, x=x_3)\n",
    "print('When StateThree = {}'.format(st_3.phase) + ', The Entropy = {}'.format(st_3.s))\n",
    "print('and when StateThree = {}'.format(st_3.phase) +'The Temperature = {}'.format(st_3.T))\n",
    "print('                        ')\n",
    "\n",
    "#StateFour\n",
    "s_4=st_3.s #Assuming the pump is isentropic-Constant Entropy process.\n",
    "p_4 = p_1 #Since pressure is not lost in the heat exchanger.\n",
    "st_4 = State(substance, s=s_4, p=p_4)\n",
    "print('When StateFour = {}'.format(st_4.phase) + ', The Entropy = {}'.format(st_4.s))\n",
    "print('and when StateFour = {}'.format(st_4.phase) +'The Temperature = {}'.format(st_4.T))\n",
    "print('                        ')\n",
    "\n",
    "#Calulations\n",
    "eta_t = ((st_1.h-st_2.h)/(st_1.h-st_2s.h))\n",
    "Wdot_t = (mdot*(st_1.h-st_2.h)) #Now that I know this syntax, its much easier.\n",
    "Wdot_p = (mdot*(st_3.h-st_4.h))\n",
    "Wnet = (Wdot_t+Wdot_p).to('MW')\n",
    "Qdot_in = (mdot*(st_1.h-st_4.h))\n",
    "eta = (Wnet/Qdot_in)\n",
    "print('1) The efficientcy of the Turbine is = {}'.format(eta_t))\n",
    "print('2) The Net Power Created is = {}'.format(Wnet))\n",
    "print('3) The Thermal Efficiency is = {}'.format(eta))"
   ]
  }
 ],
 "metadata": {
  "anaconda-cloud": {},
  "kernelspec": {
   "display_name": "Python 3",
   "language": "python",
   "name": "python3"
  },
  "language_info": {
   "codemirror_mode": {
    "name": "ipython",
    "version": 3
   },
   "file_extension": ".py",
   "mimetype": "text/x-python",
   "name": "python",
   "nbconvert_exporter": "python",
   "pygments_lexer": "ipython3",
   "version": "3.6.0"
  }
 },
 "nbformat": 4,
 "nbformat_minor": 2
}
