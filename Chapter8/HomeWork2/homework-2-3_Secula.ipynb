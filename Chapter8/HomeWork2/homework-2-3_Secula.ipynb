{
 "cells": [
  {
   "cell_type": "markdown",
   "metadata": {},
   "source": [
    "---\n",
    "\n",
    "## Problem Statement"
   ]
  },
  {
   "cell_type": "markdown",
   "metadata": {
    "variables": {
     "format(T_1)": "560.0 celsius",
     "format(mdot_1)": "120.0 kg/s",
     "format(p_1)": "16.0 MPa",
     "format(p_2)": "1.0 MPa",
     "format(p_3)": "8.0 kPa",
     "format(p_high)": "7.5 MPa",
     "format(p_low)": "0.1 MPa",
     "format(substance.title())": "Water"
    }
   },
   "source": [
    "Water is the working fluid in an ideal regenerative Rankine cycle with one open feedwater heater. Superheated vapor enters the first-stage turbine at 16.0 MPa, 560.0 celsius with a mass flow rate of 120.0 kg/s. Steam expands through the first-stage turbine to 1.0 MPa where it is extracted and diverted to the open feedwater heater. The remainder expands through the second-stage turbine to the condenser pressure of 8.0 kPa. Saturated liquid exits the feedwater heater at 1.0 MPa. Determine\n",
    "\n",
    "1. the net power developed, in MW\n",
    "2. the rate of heat transfer to the steam passing through the boiler, in MW\n",
    "3. the overall cycle thermal efficiency\n",
    "4. For extraction pressures ($p_2$) ranging from $p_{low} =$ 0.1 MPa to $p_{high} =$ 7.5 MPa, calculate the extracted mass fraction $y$ and the overall cycle thermal efficiency. Sketch a plot of $\\eta$ (on the y-axis) vs. $y$ (on the x-axis) and discuss any trends."
   ]
  },
  {
   "cell_type": "code",
   "execution_count": null,
   "metadata": {
    "collapsed": true
   },
   "outputs": [],
   "source": [
    "##Jason Secula\n",
    "#Homework Two, Problem Three\n",
    "\n",
    "##Engineering Model\n",
    "#Steady state.\n",
    "#KE and PE can be neglected.\n",
    "#Flow in one direction.\n",
    "# mdot_1=mdot_2+mdot_3"
   ]
  },
  {
   "cell_type": "code",
   "execution_count": 38,
   "metadata": {
    "collapsed": false
   },
   "outputs": [
    {
     "name": "stdout",
     "output_type": "stream",
     "text": [
      "Pressure = 0.1 megapascal\n",
      "Y = 0.17107115344729257 dimensionless\n",
      "Pressure = 0.5 megapascal\n",
      "Y = 0.17107115344729257 dimensionless\n",
      "Pressure = 1.0 megapascal\n",
      "Y = 0.17107115344729257 dimensionless\n",
      "Pressure = 1.5 megapascal\n",
      "Y = 0.17107115344729257 dimensionless\n",
      "Pressure = 2.0 megapascal\n",
      "Y = 0.17107115344729257 dimensionless\n",
      "Pressure = 2.5 megapascal\n",
      "Y = 0.17107115344729257 dimensionless\n",
      "Pressure = 3.0 megapascal\n",
      "Y = 0.17107115344729257 dimensionless\n",
      "Pressure = 3.5 megapascal\n",
      "Y = 0.17107115344729257 dimensionless\n",
      "Pressure = 4.0 megapascal\n",
      "Y = 0.17107115344729257 dimensionless\n",
      "Pressure = 4.5 megapascal\n",
      "Y = 0.17107115344729257 dimensionless\n",
      "Pressure = 5.0 megapascal\n",
      "Y = 0.17107115344729257 dimensionless\n",
      "Pressure = 5.5 megapascal\n",
      "Y = 0.17107115344729257 dimensionless\n",
      "Pressure = 6.0 megapascal\n",
      "Y = 0.17107115344729257 dimensionless\n",
      "Pressure = 6.5 megapascal\n",
      "Y = 0.17107115344729257 dimensionless\n",
      "Pressure = 7.0 megapascal\n",
      "Y = 0.17107115344729257 dimensionless\n",
      "Pressure = 7.5 megapascal\n",
      "Y = 0.17107115344729257 dimensionless\n",
      "1) The Net Work = 93166741.39201288 joule / second\n",
      "2) The Thermal Efficiency = 326374102.0295024 joule / second\n",
      "3) The Efficiency = 0.0029758425511181756 second / kilogram\n"
     ]
    }
   ],
   "source": [
    "##### from thermostate import State, Q_, units\n",
    "substance = 'water'\n",
    "mdot = Q_(120.0, 'kg/s')\n",
    "v_f = Q_(0.0010084, 'm**3/kg')\n",
    "\n",
    "#State One\n",
    "T_1 = Q_(560.0, 'degC')\n",
    "p_1 = Q_(16.0, 'MPa')\n",
    "st_1 = State(substance, T=T_1, p=p_1)\n",
    "\n",
    "#State2\n",
    "#Number 4)\n",
    "for p_2b in [0.1, 0.5, 1, 1.5, 2, 2.5, 3, 3.5, 4, 4.5, 5, 5.5, 6, 6.5, 7, 7.5]*units.MPa: \n",
    "    st_2b = State(substance, T = st_1.T, p = p_2)\n",
    "    y=((st_6.h-st_5.h)/(st_2b.h-st_5.h))\n",
    "    print('Pressure = {}'.format(p_2b))\n",
    "    print('Y = {}'.format(y))\n",
    "\n",
    "\n",
    "#State Three\n",
    "p_3 = Q_(8.0, 'kPa')\n",
    "s_3 = st_2b.s\n",
    "st_3 = State(substance, s=s_3, p=p_3)\n",
    "\n",
    "#State Four\n",
    "x_4 = Q_(0.0, 'percent')\n",
    "p_4 = st_3.p\n",
    "st_4 = State(substance, x=x_4, p=p_4)\n",
    "\n",
    "#State Five\n",
    "s_5 = st_4.s\n",
    "p_5 = st_2b.p\n",
    "st_5 = State(substance, s=s_5,p=p_5 )\n",
    "\n",
    "W_p1 =(v_f*(st_4.p-st_5.p))\n",
    "\n",
    "#State Six\n",
    "x_6 = Q_(0.0, 'percent')\n",
    "p_6 = st_2b.p\n",
    "st_6 = State(substance, x=x_6, p=p_6)\n",
    "\n",
    "W_p2 =(v_f*(st_1.p-st_6.p))\n",
    "\n",
    "#State Seven\n",
    "s_7 = st_6.s\n",
    "h_7 = (st_6.h - W_p2)\n",
    "st_7 = State(substance, h=h_7, s=s_7)\n",
    "Wdot_t = (mdot*((st_1.h-st_2b.h)+((1-y)*(st_2b.h-st_3.h))))\n",
    "Wdot_p = (mdot*((1-y)*(st_4.h-st_5.h)-(st_6.h-st_7.h)))\n",
    "\n",
    "#Number 1) \n",
    "Wdot_net = Wdot_t+Wdot_p\n",
    "Work = ((st_1.h-st_2b.h)+(st_2b.h-st_3.h)-(st_4.h-st_5.h)-(st_6.h-st_7.h))\n",
    "print('1) The Net Work = {}'.format(Wdot_net))\n",
    "\n",
    "#Number 2)\n",
    "Q_in = mdot*(st_1.h-h_7)\n",
    "print('2) The Thermal Efficiency = {}'.format(Q_in))\n",
    "\n",
    "#Number 3)\n",
    "eta = Work/Q_in\n",
    "print('3) The Efficiency = {}'.format(eta))\n"
   ]
  },
  {
   "cell_type": "code",
   "execution_count": null,
   "metadata": {
    "collapsed": true
   },
   "outputs": [],
   "source": []
  }
 ],
 "metadata": {
  "kernelspec": {
   "display_name": "Python 3",
   "language": "python",
   "name": "python3"
  },
  "language_info": {
   "codemirror_mode": {
    "name": "ipython",
    "version": 3
   },
   "file_extension": ".py",
   "mimetype": "text/x-python",
   "name": "python",
   "nbconvert_exporter": "python",
   "pygments_lexer": "ipython3",
   "version": "3.6.0"
  }
 },
 "nbformat": 4,
 "nbformat_minor": 2
}
