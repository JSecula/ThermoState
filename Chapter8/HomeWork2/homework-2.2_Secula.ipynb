{
 "cells": [
  {
   "cell_type": "markdown",
   "metadata": {},
   "source": [
    "# Homework 2-2"
   ]
  },
  {
   "cell_type": "markdown",
   "metadata": {},
   "source": [
    "---\n",
    "\n",
    "## Problem Statement"
   ]
  },
  {
   "cell_type": "markdown",
   "metadata": {
    "collapsed": true,
    "variables": {
     "format(T_1)": "1000.0 fahrenheit",
     "format(Wdot_net, \"G\")": "1E+09 btu / hour",
     "format(eta_t, \".0%~H\")": "85% ",
     "format(p_1)": "1400.0 psi",
     "format(p_2)": "120.0 psi",
     "format(p_3)": "2.0 psi",
     "format(p_6)": "120.0 psi",
     "format(substance.title())": "Water"
    }
   },
   "source": [
    "Water is the working fluid in an ideal regenerative Rankine cycle with one open feedwater heater. Steam enters the turbine at 1400.0 psi and 1000.0 fahrenheit and expands to 120.0 psi, where some of the steam is extracted and diverted to the open feedwater heater operating at 120.0 psi. The remaining steam expands through the second-stage turbine to the condenser pressure of 2.0 psi. Saturated liquid exits the open feedwater heater at 120.0 psi. The net power output of the cycle is 1E+09 btu / hour. Determine for the cycle\n",
    "\n",
    "1. the mass flow rate of steam entering the first stage of the turbine, in lb/hr\n",
    "2. The rate of heat tranfer, in BTU/hr, to the working fluid passing through the steam generator\n",
    "3. the thermal efficiency\n",
    "4. Redo parts 1-3 assuming all the turbine stages and pumps have isentropic efficiencies of 85% "
   ]
  },
  {
   "cell_type": "code",
   "execution_count": null,
   "metadata": {
    "collapsed": true
   },
   "outputs": [],
   "source": [
    "# # Jason Secula\n",
    "#Homework Two, Problem One\n",
    "\n",
    "##Engineering Model\n",
    "#Steady state.\n",
    "#KE and PE can be neglected.\n",
    "#Flow in one direction.\n",
    "# mdot_1=mdot_2+mdot_3\n"
   ]
  },
  {
   "cell_type": "code",
   "execution_count": 33,
   "metadata": {
    "collapsed": false
   },
   "outputs": [
    {
     "name": "stdout",
     "output_type": "stream",
     "text": [
      "1) The Mass Flow of the Turbine is = -1959.4849711917118 btu * kilogram / hour / joule\n",
      "2) The Rate of Heat Transfer through the steam generator = 1301297026.4537246 btu / hour\n",
      "3) The Thermal Efficiency = -0.1894186194815392 dimensionless\n"
     ]
    }
   ],
   "source": [
    "\n",
    "from thermostate import State, Q_, units\n",
    "substance = 'water'\n",
    "#State1 (From the Boiler to the Turbine)\n",
    "p_1 = Q_(1400.0, 'psi')              #Pressure into the Turbine (HPT)\n",
    "T_1 = Q_(1000.0, 'degF')             #Temperature into the Turbine (HTP)\n",
    "st_1 = State(substance, T=T_1, p=p_1)\n",
    "s_1 = st_1.s\n",
    "s_2s = s_1\n",
    "\n",
    "#State2s (The Saturation State Out of the HPTurbine to OpenFWHeater)\n",
    "p_2 = Q_(120.0, 'psi')               #Pressure to OpenFeedWaterHeater\n",
    "#Pressure though the vapor dome is the same for both 2 and 2s\n",
    "st_2s = State(substance, s=s_2s, p=p_2)  \n",
    "\n",
    "eta_t = Q_(0.85, 'dimensionless')    #((st_1.h-st_2.h)/(st_1.h-st_2s.h))\n",
    "h_2 = ((eta_t*(st_1.h-st_2s.h))+st_1.h)\n",
    "\n",
    "#State2 (Out of the HPTurbine to OpenFWHeater)\n",
    "st_2 = State(substance, h=h_2, p=p_2)\n",
    "s_2 = st_2.s\n",
    "s_3 = s_2 #Isentropic Process\n",
    "\n",
    "#State3 (Out of the LPTurbine to the Condeser at Saturated state)\n",
    "p_3 = Q_(2.0, 'psi')               #Pressure to Condeser (Saturated Liquid)\n",
    "st_3 = State(substance, s=s_3, p=p_3)\n",
    "T_4 = st_3.T\n",
    "\n",
    "#State4 (Out of the Condeser to Pump1)\n",
    "x_4 = Q_(0.0, 'dimensionless')       #Quality to Pump1\n",
    "st_4 = State(substance, T=T_4, x=x_4)\n",
    "s_4=st_4.s\n",
    "s_5 = s_4\n",
    "\n",
    "#State5 (Out of Pump1 to OpenFWHeater)\n",
    "p_5 = p_2                            #Pressure to OpenFeedWaterHeater\n",
    "st_5 = State(substance, p=p_5, s=s_5)\n",
    "\n",
    "#State6 (Out of the OpenFWHeater, into the Pump2)\n",
    "x_6 = Q_(0.0, 'dimensionless')       #Quality to Pump2\n",
    "p_6 = p_2                            #Pressure to Pump2\n",
    "st_6 = State(substance, p=p_6,x=x_6)\n",
    "s_7 = st_6.s\n",
    "#Wdot_Pmp2=(st_6.v*(st_6.p-st_7.p) #Work by Pump Two\n",
    "\n",
    "#State7 (Out of Pump2 into the Boiler)\n",
    "st_7 = State(substance, s=s_7, T=T_7 )\n",
    "\n",
    "#State\n",
    "eta_p = Q_(0.85, 'dimensionless')    #()\n",
    "h_7s = ((eta_p*(st_7.h-st_6.h))+st_6.h)\n",
    "st_7s = State(substance, h=h_7s, v=st_6.v)\n",
    "\n",
    "Wdot_net = Q_(1.0E9, 'BTU/hr')       #((mdot_1*(st_1.h-st_2.h))+(mdot_3(st_2.h-st_3.h)))\n",
    "\n",
    "#mdot_t=((Wdot_t-((1-y)*(st_2.h-st_3.h)))/(st_1.h-st_2.h))\n",
    "Work =((st_1.h-st_2.h)+(st_2s.h-st_3.h)-(st_4.h-st_5.h)-(st_6.h-st_7s.h))\n",
    "mdot= (Wdot_net/(Work)) #In the book page 462\n",
    "print('1) The Mass Flow of the Turbine is = {}'.format(mdot))\n",
    "\n",
    "#2)\n",
    "#Qdot_in = (mdot*(st_1.h-st_7.h))\n",
    "print('2) The Rate of Heat Transfer through the steam generator = {}'.format(Qdot_in))\n",
    "\n",
    "#3)\n",
    "#eta = (Wdot_net/Qdot_in).to('BTU/hr')\n",
    "eta = ((Work)/((st_1.h-st_7s.h)+(st_3.h-st_2s.h)))\n",
    "print('3) The Thermal Efficiency = {}'.format(eta))\n",
    "           \n",
    "           \n"
   ]
  }
 ],
 "metadata": {
  "kernelspec": {
   "display_name": "Python 3",
   "language": "python",
   "name": "python3"
  },
  "language_info": {
   "codemirror_mode": {
    "name": "ipython",
    "version": 3
   },
   "file_extension": ".py",
   "mimetype": "text/x-python",
   "name": "python",
   "nbconvert_exporter": "python",
   "pygments_lexer": "ipython3",
   "version": "3.6.0"
  }
 },
 "nbformat": 4,
 "nbformat_minor": 2
}
