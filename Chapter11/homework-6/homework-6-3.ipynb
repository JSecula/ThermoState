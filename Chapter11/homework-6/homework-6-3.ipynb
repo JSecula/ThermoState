{
 "cells": [
  {
   "cell_type": "code",
   "execution_count": 12,
   "metadata": {
    "collapsed": false
   },
   "outputs": [
    {
     "name": "stdout",
     "output_type": "stream",
     "text": [
      "                                     Jason Secula                                    \n",
      "                           Applied Thermodynamics [ME 2234]                          \n",
      "                               Professor Bryan W. Weber                              \n",
      "                                     Homework 6.3                                    \n",
      "           \n",
      "1. Temperature          255.0385883637872 kelvin\n",
      "2. Final Pressure       69.28974122701253 bar\n",
      "3. Work Output          -0.2585178818424732 joule * kilomole ** 2 / bar / kelvin ** 0.5 / meter ** 3 / mole ** 2\n"
     ]
    }
   ],
   "source": [
    "from thermostate import State, Q_, units\n",
    "import numpy as np\n",
    "from numpy import sqrt, log\n",
    "#____________________________________________________________________ Line\n",
    "print('Jason Secula'.center(85))\n",
    "print(' Applied Thermodynamics [ME 2234] '.center(85))\n",
    "print(' Professor Bryan W. Weber '.center(85))\n",
    "print(' Homework 6.3 '.center(85))\n",
    "print('           ')\n",
    "#_____________________________________________________________________ Line\n",
    "#_____________________________________________________________________\n",
    "substance = 'air'\n",
    "\n",
    "m = Q_(1.0, 'kg')\n",
    "V_1 = Q_(0.01, 'm**3')\n",
    "p_1 = Q_(70.0, 'bar')\n",
    "V_2 = Q_(0.05, 'm**3')\n",
    "R_bar = Q_(8.31446,'J/(mol*K)')\n",
    "R = Q_(8.31446,'kJ/(kmol*K)')\n",
    "Mm = Q_(0.02896,'kg/mol')                       \n",
    "#http://www.wolframalpha.com/input/?i=molarMass+of+Air\n",
    "v = V_1/m\n",
    "v2 = V_2/m\n",
    "v_bar = (v*Mm)\n",
    "v_2bar = (v2*Mm)\n",
    "#_____________________________________________________________________ Line\n",
    "#_____________________________________________________________________\n",
    "a_rk = Q_(15.989, 'bar*((m**3/(kmol))**2)*(K**(1/2))') #a in (bar((m^3/kmol)^2))*K^1/2\n",
    "b_rk = Q_(0.02541, 'm**3/(kmol)')           #b has units m^3/kmol\n",
    "#____^^^^______Using Table A-24 on Page 969 of Text_____^^^^^________\n",
    "\n",
    "#___****__THE REDLICH-KWONG EQ. IS EXPLICIT IN PRESSURE ONLY___****__\n",
    "st_1 = State(substance, p=p_1, v=v ) #I think this is the easiest way to get Temp\n",
    "#I kept getting until errors When Using Ideal Gas or VanderWaal.\n",
    "T = st_1.T\n",
    "print ('1. Temperature          {}'.format(T.to('K')))\n",
    "#_____________________________________________________________________ Line\n",
    "#_____________________________________________________________________\n",
    "#__ p = [(R_bar*T)/(v_bar-b)]-[a/v_bar*(v_bar+b)*(T^(1/2))] pg 659____\n",
    "#p_2 = [(R_bar*T)/(v_1bar-b_rk)]-[a_rk/(v_bar*(v_bar+b_rk)*(T^(1/2)))]\n",
    "p_2 = (((R*T)/(v_bar-b_rk))-(a_rk/(v_bar*(v_bar+b_rk)*(T**(1/2)))))\n",
    "print ('2. Final Pressure       {}'.format(p_2.to('bar')))\n",
    "st_2 = State(substance, p = p_2, v=v2)\n",
    "#_____________________________________________________________________ Line\n",
    "#_____________________________________________________________________\n",
    "#____________W = n*∫ from bar{v}_1 to bar{v}_2 of p*dbar{v}____________\n",
    "W = ((R_bar*T*((v_2bar-b_rk)/(v_bar-b_rk)))/(a_rk*((1/v_2bar)-(1/v_bar))))\n",
    "#import scipy.integrate as integrate\n",
    "#W = integrate.quad(lambda v: p, v_bar, v_2bar)\n",
    "#W = ((R_bar/Mm*T*l)(a_rk*((1/v_2bar)-(1/v_bar)))).to('kJ')\n",
    "print ('3. Work Output          {}'.format(W))\n",
    "#^^^^(I cant seem to figure this out.)\n"
   ]
  },
  {
   "cell_type": "code",
   "execution_count": null,
   "metadata": {
    "collapsed": true
   },
   "outputs": [],
   "source": []
  }
 ],
 "metadata": {
  "anaconda-cloud": {},
  "kernelspec": {
   "display_name": "Python 3",
   "language": "python",
   "name": "python3"
  },
  "language_info": {
   "codemirror_mode": {
    "name": "ipython",
    "version": 3
   },
   "file_extension": ".py",
   "mimetype": "text/x-python",
   "name": "python",
   "nbconvert_exporter": "python",
   "pygments_lexer": "ipython3",
   "version": "3.6.0"
  }
 },
 "nbformat": 4,
 "nbformat_minor": 2
}
