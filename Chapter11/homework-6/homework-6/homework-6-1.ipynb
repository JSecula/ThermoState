{
 "cells": [
  {
   "cell_type": "markdown",
   "metadata": {
    "deletable": true,
    "editable": true
   },
   "source": [
    "# Homework 6-1\n",
    "\n",
    "---\n",
    "\n",
    "## Imports"
   ]
  },
  {
   "cell_type": "code",
   "execution_count": 1,
   "metadata": {
    "collapsed": false,
    "deletable": true,
    "editable": true
   },
   "outputs": [],
   "source": [
    "from thermostate import State, Q_, units"
   ]
  },
  {
   "cell_type": "markdown",
   "metadata": {
    "deletable": true,
    "editable": true
   },
   "source": [
    "---\n",
    "\n",
    "## Definitions"
   ]
  },
  {
   "cell_type": "code",
   "execution_count": 2,
   "metadata": {
    "collapsed": false,
    "deletable": true,
    "editable": true
   },
   "outputs": [],
   "source": [
    "sub_a = 'air'\n",
    "T_a2 = Q_(15.0, 'degC')\n",
    "p_a2 = Q_(1.0, 'bar')\n",
    "T_a1 = Q_(22.0, 'degC')\n",
    "p_a1 = p_a2\n",
    "Vdot_a = Q_(19.0, 'm**3/min')\n",
    "\n",
    "sub_r = 'R-22'\n",
    "T_r1 = Q_(10.0, 'degC')\n",
    "p_r1 = Q_(4.0, 'bar')\n",
    "p_r3 = Q_(9.0, 'bar')\n",
    "x_r3 = Q_(0.0, 'dimensionless')\n",
    "eta_c = Q_(0.7, 'dimensionless')"
   ]
  },
  {
   "cell_type": "markdown",
   "metadata": {
    "deletable": true,
    "editable": true
   },
   "source": [
    "---\n",
    "\n",
    "## Problem Statement"
   ]
  },
  {
   "cell_type": "markdown",
   "metadata": {
    "deletable": true,
    "editable": true,
    "variables": {
     "format(T_a1)": "22.0 celsius",
     "format(T_a2)": "15.0 celsius",
     "format(T_r1)": "10.0 celsius",
     "format(Vdot_a)": "19.0 m<sup>3</sup>/min",
     "format(eta_c)": "0.7 ",
     "format(p_a2)": "1.0 bar",
     "format(p_r1)": "4.0 bar",
     "format(p_r3)": "9.0 bar",
     "format(sub_a)": "air",
     "format(sub_a.title())": "Air",
     "format(sub_r)": "R-22"
    }
   },
   "source": [
    "An air conditioner supplies 19.0 m<sup>3</sup>/min of air to a room at 15.0 celsius and 1.0 bar. Air enters the evaporator at 22.0 celsius. The air conditioner operates on a steady-state vapor-compression cycle, with R-22 entering the compressor at 10.0 celsius and 4.0 bar. Saturated liquid exits the condenser at 9.0 bar. The compressor has an isentropic efficiency of 0.7  and both heat exchangers operate isobarically. Determine the\n",
    "\n",
    "1. compressor power, in kW. Hint: Draw a control volume around the evaporator to find the mass flow rate\n",
    "2. refrigeration capacity, in tons\n",
    "3. coefficient of performance"
   ]
  }
 ],
 "metadata": {
  "anaconda-cloud": {},
  "kernelspec": {
   "display_name": "Python 3",
   "language": "python",
   "name": "python3"
  },
  "language_info": {
   "codemirror_mode": {
    "name": "ipython",
    "version": 3
   },
   "file_extension": ".py",
   "mimetype": "text/x-python",
   "name": "python",
   "nbconvert_exporter": "python",
   "pygments_lexer": "ipython3",
   "version": "3.6.0"
  }
 },
 "nbformat": 4,
 "nbformat_minor": 2
}
