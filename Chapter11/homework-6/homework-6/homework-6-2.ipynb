{
 "cells": [
  {
   "cell_type": "markdown",
   "metadata": {
    "deletable": true,
    "editable": true
   },
   "source": [
    "# Homework 6-2\n",
    "\n",
    "---\n",
    "\n",
    "## Imports"
   ]
  },
  {
   "cell_type": "code",
   "execution_count": 1,
   "metadata": {
    "collapsed": false,
    "deletable": true,
    "editable": true
   },
   "outputs": [],
   "source": [
    "from thermostate import State, Q_, units"
   ]
  },
  {
   "cell_type": "markdown",
   "metadata": {
    "deletable": true,
    "editable": true
   },
   "source": [
    "---\n",
    "\n",
    "## Definitions"
   ]
  },
  {
   "cell_type": "code",
   "execution_count": 2,
   "metadata": {
    "collapsed": false,
    "deletable": true,
    "editable": true
   },
   "outputs": [],
   "source": [
    "substance = 'water'\n",
    "T = Q_(375.0, 'degC')\n",
    "V = Q_(17.8, 'm**3')\n",
    "m = Q_(513.0, 'kg')\n",
    "p_limit = Q_(80.0, 'bar')"
   ]
  },
  {
   "cell_type": "markdown",
   "metadata": {
    "deletable": true,
    "editable": true
   },
   "source": [
    "---\n",
    "\n",
    "## Problem Statement"
   ]
  },
  {
   "cell_type": "markdown",
   "metadata": {
    "deletable": true,
    "editable": true,
    "variables": {
     "format(V)": "17.8 m<sup>3</sup>",
     "format(p_limit)": "80.0 bar",
     "format(substance)": "water"
    }
   },
   "source": [
    "The pressure within a 17.8 m<sup>3</sup> tank should not exceed 80.0 bar. If water is in the tank, evaluate the actual pressure and determine whether the safe pressure is exceeded using\n",
    "\n",
    "1. the ideal gas equation of state\n",
    "2. the van der Waals equation of state\n",
    "3. the Redlich-Kwong equation of state\n",
    "4. the compressibility chart\n",
    "5. ThermoState"
   ]
  }
 ],
 "metadata": {
  "anaconda-cloud": {},
  "kernelspec": {
   "display_name": "Python 3",
   "language": "python",
   "name": "python3"
  },
  "language_info": {
   "codemirror_mode": {
    "name": "ipython",
    "version": 3
   },
   "file_extension": ".py",
   "mimetype": "text/x-python",
   "name": "python",
   "nbconvert_exporter": "python",
   "pygments_lexer": "ipython3",
   "version": "3.6.0"
  }
 },
 "nbformat": 4,
 "nbformat_minor": 2
}
