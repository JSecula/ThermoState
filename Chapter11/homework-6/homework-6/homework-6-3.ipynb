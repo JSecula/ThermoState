{
 "cells": [
  {
   "cell_type": "markdown",
   "metadata": {
    "deletable": true,
    "editable": true
   },
   "source": [
    "# Homework 6-3\n",
    "\n",
    "---\n",
    "\n",
    "## Imports"
   ]
  },
  {
   "cell_type": "code",
   "execution_count": 1,
   "metadata": {
    "collapsed": false,
    "deletable": true,
    "editable": true
   },
   "outputs": [],
   "source": [
    "from thermostate import State, Q_, units\n",
    "import numpy as np\n",
    "from numpy import sqrt, log"
   ]
  },
  {
   "cell_type": "markdown",
   "metadata": {
    "deletable": true,
    "editable": true
   },
   "source": [
    "---\n",
    "\n",
    "## Definitions"
   ]
  },
  {
   "cell_type": "code",
   "execution_count": 2,
   "metadata": {
    "collapsed": false,
    "deletable": true,
    "editable": true
   },
   "outputs": [],
   "source": [
    "substance = 'air'\n",
    "m = Q_(1.0, 'kg')\n",
    "V_1 = Q_(0.01, 'm**3')\n",
    "p_1 = Q_(70.0, 'bar')\n",
    "V_2 = Q_(0.05, 'm**3')"
   ]
  },
  {
   "cell_type": "markdown",
   "metadata": {
    "deletable": true,
    "editable": true
   },
   "source": [
    "---\n",
    "\n",
    "## Problem Statement"
   ]
  },
  {
   "cell_type": "markdown",
   "metadata": {
    "deletable": true,
    "editable": true,
    "variables": {
     "format(V_1)": "0.01 m<sup>3</sup>",
     "format(V_2)": "0.05 m<sup>3</sup>",
     "format(m)": "1.0 kg",
     "format(p_1)": "70.0 bar",
     "format(substance)": "air"
    }
   },
   "source": [
    "1.0 kg of air initially occupying a volume of 0.01 m<sup>3</sup> at a pressure of 70.0 bar expands in a piston-cylinder assembly isothermally and without irreversibilities until the volume is 0.05 m<sup>3</sup>. Using the Redlich-Kwong equation of state, determine the\n",
    "\n",
    "1. temperature during the process, in K\n",
    "2. final pressure, in bar\n",
    "3. work developed in the process, in kJ\n",
    "\n",
    "Hint: The equation for the work in a piston-cylinder is\n",
    "$$W = n \\int_{\\bar{v}_1}^{\\bar{v}_2} p d \\bar{v}$$\n",
    "You will need to perform the symbolic integration of the R-K EOS and then plug in numbers"
   ]
  }
 ],
 "metadata": {
  "anaconda-cloud": {},
  "kernelspec": {
   "display_name": "Python 3",
   "language": "python",
   "name": "python3"
  },
  "language_info": {
   "codemirror_mode": {
    "name": "ipython",
    "version": 3
   },
   "file_extension": ".py",
   "mimetype": "text/x-python",
   "name": "python",
   "nbconvert_exporter": "python",
   "pygments_lexer": "ipython3",
   "version": "3.6.0"
  }
 },
 "nbformat": 4,
 "nbformat_minor": 2
}
