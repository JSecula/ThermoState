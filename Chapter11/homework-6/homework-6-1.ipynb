{
 "cells": [
  {
   "cell_type": "code",
   "execution_count": 31,
   "metadata": {
    "collapsed": false
   },
   "outputs": [
    {
     "name": "stdout",
     "output_type": "stream",
     "text": [
      "                                     Jason Secula                                    \n",
      "                           Applied Thermodynamics [ME 2234]                          \n",
      "                               Professor Bryan W. Weber                              \n",
      "                                     Homework 6.1                                    \n",
      "           \n",
      "The Mass Flow Rate:            0.8482931885300897 kilogram / minute\n",
      "                                             \n",
      "1. Compressor Work:            0.4341750023173714 kilowatt\n",
      "2. Qdot_in:                    0.766602371174656 refrigeration_ton\n",
      "3. Coefficient of Performance: 6.2095415751962255 dimensionless\n"
     ]
    }
   ],
   "source": [
    "from thermostate import State, Q_, units\n",
    "#_____________________________________________________________________ Line\n",
    "print('Jason Secula'.center(85))\n",
    "print(' Applied Thermodynamics [ME 2234] '.center(85))\n",
    "print(' Professor Bryan W. Weber '.center(85))\n",
    "print(' Homework 6.1 '.center(85))\n",
    "print('           ')\n",
    "#_____________________________________________________________________ Line\n",
    "#__________________________State 1, of R22 (Into Comp)________________\n",
    "#_____________________________________________________________________\n",
    "sub_r = 'R22'                          #Cooling Liquid in Compressor\n",
    "T_r1 = Q_(10.0, 'degC')\n",
    "p_r1 = Q_(4.0, 'bar')\n",
    "st_r1 = State(sub_r, T=T_r1, p=p_r1)\n",
    "#_____________________________________________________________________ Line\n",
    "#__________________________State 3, of R22 (Cndsr Exit) ______________\n",
    "#_____________________________________________________________________\n",
    "p_r3 = Q_(9.0, 'bar')\n",
    "x_r3 = Q_(0.0, 'dimensionless')\n",
    "st_r3 = State(sub_r, x=x_r3, p=p_r3)\n",
    "h_r4 = st_r3.h\n",
    "#_____________________________________________________________________ Line\n",
    "#__________________________State 2, of R22  (Cndsr Inlet) ____________\n",
    "#_____________________________________________________________________\n",
    "p_r2 = p_r3\n",
    "s_r2s = st_r1.s                         #\n",
    "eta_c = Q_(0.7, 'dimensionless')        #Isentropic Efficiency of Compressor\n",
    "st_r2s = State(sub_r, s=s_r2s, p=p_r2)\n",
    "h_r2 = (st_r1.h - ((st_r2s.h-st_r1.h)/eta_c))\n",
    "#_____________________________________________________________________ Line\n",
    "#__________________________State 1, of Air (into Evaporator)__________\n",
    "#_____________________________________________________________________\n",
    "sub_a = 'air'                           #Air in the Room\n",
    "T_a1 = Q_(22.0, 'degC')\n",
    "p_a1 = Q_(1.0, 'bar')\n",
    "#s_a1 = st_r2s.s\n",
    "st_a1 = State(sub_a, T=T_a1, p=p_a1)\n",
    "#h1\n",
    "#s1\n",
    "#_____________________________________________________________________ Line\n",
    "#__________________________State 2, of Air (into the room)____________\n",
    "#_____________________________________________________________________\n",
    "T_a2 = Q_(15.0, 'degC')\n",
    "p_a2 = Q_(1.0, 'bar')\n",
    "st_a2 = State(sub_a, T=T_a2, p=p_a2)\n",
    "#_____________________________________________________________________ Line\n",
    "#__________________________Calculations_______________________________\n",
    "#_____________________________________________________________________\n",
    "R_bar = Q_(8.31446,'J/(mol*K)')                 #Mdot Calculations in Book on Page 635\n",
    "Mm = Q_(0.02896,'kg/mol')                       #http://www.wolframalpha.com/input/?i=Molar+Mass+of+air\n",
    "Vdot_a = Q_(19.0, 'm**3/min')                   #Volumetric AirFlow into the Room\n",
    "mdot_a = ((Vdot_a*p_a1)/((R_bar/Mm)*T_a2)).to('kg/min')\n",
    "delaT = (T_a1-T_a2).to('K')                     #It was displaying in DeltaC/Kelvin before\n",
    "mdot = ((mdot_a*st_a1.cp*delaT)/(st_r1.h - h_r4)).to('kg/min')\n",
    "print ('The Mass Flow Rate:            {}'.format(mdot))\n",
    "print ('                                             ')\n",
    "Wc = (mdot*(st_r1.h-h_r2)).to('kW')\n",
    "print ('1. Compressor Work:            {}'.format(Wc))\n",
    "Qdot_in = (mdot*(st_r1.h-h_r4)).to('refrigeration_ton')\n",
    "                                                #^^https://github.com/hgrecco/pint/blob/master/pint/default_en.txt\n",
    "print ('2. Qdot_in:                    {}'.format(Qdot_in))\n",
    "#Beta = Qdot_in/Wc                              #<< 1.7656529442804916 refrigeration_ton / kilowatt\n",
    "Beta = (st_r1.h-h_r4)/(st_r1.h-h_r2)\n",
    "print ('3. Coefficient of Performance: {}'.format(Beta))\n",
    "\n",
    "      \n"
   ]
  }
 ],
 "metadata": {
  "anaconda-cloud": {},
  "kernelspec": {
   "display_name": "Python 3",
   "language": "python",
   "name": "python3"
  },
  "language_info": {
   "codemirror_mode": {
    "name": "ipython",
    "version": 3
   },
   "file_extension": ".py",
   "mimetype": "text/x-python",
   "name": "python",
   "nbconvert_exporter": "python",
   "pygments_lexer": "ipython3",
   "version": "3.6.0"
  }
 },
 "nbformat": 4,
 "nbformat_minor": 2
}
